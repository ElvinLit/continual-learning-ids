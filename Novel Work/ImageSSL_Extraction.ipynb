{
 "cells": [
  {
   "cell_type": "markdown",
   "id": "69ea0899-2874-4ff9-9f00-bfe8b19fca4f",
   "metadata": {},
   "source": [
    "# Imports"
   ]
  },
  {
   "cell_type": "code",
   "execution_count": 62,
   "id": "e9a37aa6-e3d7-44c3-8510-20c402764c2a",
   "metadata": {},
   "outputs": [],
   "source": [
    "import numpy as np\n",
    "import pandas as pd\n",
    "import matplotlib.pyplot as plt\n",
    "from tqdm import tqdm\n",
    "import math\n",
    "\n",
    "from tqdm import tqdm\n",
    "\n",
    "import torch\n",
    "import torch.nn as nn\n",
    "import torch.optim as optim\n",
    "from torch.utils.data import DataLoader, TensorDataset\n",
    "\n",
    "import optuna\n",
    "\n",
    "from sklearn.metrics import accuracy_score, precision_score, recall_score, f1_score"
   ]
  },
  {
   "cell_type": "code",
   "execution_count": 3,
   "id": "695de822-452d-4201-af27-0c377d4cf604",
   "metadata": {},
   "outputs": [],
   "source": [
    "device = torch.device(\"cuda\" if torch.cuda.is_available() else \"cpu\")"
   ]
  },
  {
   "cell_type": "code",
   "execution_count": 56,
   "id": "bf8e9a68-a3ca-4ca0-ac15-52f73656fc21",
   "metadata": {},
   "outputs": [],
   "source": [
    "X_train = np.load('data/x_train.npy')\n",
    "y_train = np.load('data/y_train.npy')\n",
    "\n",
    "X_test = np.load('data/x_test.npy')\n",
    "y_test = np.load('data/y_test.npy')\n",
    "\n",
    "X_val = np.load('data/x_val.npy')\n",
    "y_val = np.load('data/y_val.npy')"
   ]
  },
  {
   "cell_type": "markdown",
   "id": "ca733982-495a-4f11-a652-d8e1adc08e57",
   "metadata": {},
   "source": [
    "# DT Feature Selection"
   ]
  },
  {
   "cell_type": "code",
   "execution_count": 5,
   "id": "3979a317-ee84-4457-a53c-1ff36e43f375",
   "metadata": {},
   "outputs": [],
   "source": [
    "from sklearn.tree import DecisionTreeClassifier\n",
    "from sklearn.feature_selection import SelectFromModel\n",
    "from sklearn.metrics import f1_score\n",
    "import time"
   ]
  },
  {
   "cell_type": "code",
   "execution_count": 6,
   "id": "cdddbad4-9a71-4b65-bb43-f3dd665eb8dd",
   "metadata": {},
   "outputs": [
    {
     "name": "stdout",
     "output_type": "stream",
     "text": [
      "Seconds: 17.036347150802612\n"
     ]
    }
   ],
   "source": [
    "start_time = time.time()\n",
    "\n",
    "clf = DecisionTreeClassifier(random_state=42)\n",
    "clf.fit(X_train, y_train)\n",
    "\n",
    "print(f\"Seconds: {time.time() - start_time}\")"
   ]
  },
  {
   "cell_type": "code",
   "execution_count": 7,
   "id": "1ce62ccb-5240-4cb5-ac9e-26ff631a8ace",
   "metadata": {},
   "outputs": [
    {
     "data": {
      "text/plain": [
       "array([4.25649439e-04, 2.27843747e-01, 5.67413500e-02, 6.01118228e-03,\n",
       "       4.83521855e-03, 1.84897351e-02, 0.00000000e+00, 1.62580684e-02,\n",
       "       1.94414533e-03, 1.00301575e-02, 1.15674132e-01, 1.05869682e-02,\n",
       "       0.00000000e+00, 0.00000000e+00, 1.37696206e-02, 1.90166277e-02,\n",
       "       3.01795020e-05, 5.64468352e-03, 3.68200803e-02, 1.22150200e-02,\n",
       "       1.14292778e-03, 5.27178771e-03, 4.29308892e-03, 4.25429407e-04,\n",
       "       2.16374501e-02, 3.65831527e-04, 1.16651471e-02, 1.73052354e-03,\n",
       "       2.06840978e-02, 1.08066153e-03, 4.66241520e-03, 1.15952394e-03,\n",
       "       3.86447118e-04, 5.47284838e-04, 1.09945242e-03, 5.23449920e-04,\n",
       "       5.66000588e-04, 1.74863835e-03, 5.48326183e-04, 3.05622869e-04,\n",
       "       3.60064823e-03, 5.41276029e-03, 1.20572715e-03, 6.35955422e-04,\n",
       "       9.79870090e-03, 6.59661812e-04, 9.39793782e-03, 8.33772252e-03,\n",
       "       2.19886657e-01, 7.66271495e-04, 1.39418605e-05, 9.75958288e-03,\n",
       "       4.35042735e-02, 1.00931593e-04, 3.21843840e-04, 1.71627707e-04,\n",
       "       5.02004189e-02, 4.46640572e-05])"
      ]
     },
     "execution_count": 7,
     "metadata": {},
     "output_type": "execute_result"
    }
   ],
   "source": [
    "feature_importances = clf.feature_importances_\n",
    "feature_importances = np.array(feature_importances)\n",
    "\n",
    "feature_importances"
   ]
  },
  {
   "cell_type": "code",
   "execution_count": 8,
   "id": "aa02c2e7-b544-4fce-8f07-86416fed6943",
   "metadata": {},
   "outputs": [
    {
     "name": "stdout",
     "output_type": "stream",
     "text": [
      "Number of features selected: 37\n"
     ]
    }
   ],
   "source": [
    "threshold = 0.001\n",
    "selected_indices = np.where(feature_importances > threshold)[0]\n",
    "print(f\"Number of features selected: {len(selected_indices)}\")"
   ]
  },
  {
   "cell_type": "code",
   "execution_count": 9,
   "id": "e830f895-375b-4e03-810a-8e24009a486a",
   "metadata": {},
   "outputs": [],
   "source": [
    "X_train_selected = X_train[:, selected_indices]\n",
    "X_test_selected = X_test[:, selected_indices]\n",
    "X_val_selected = X_val[:, selected_indices]"
   ]
  },
  {
   "cell_type": "code",
   "execution_count": 57,
   "id": "6e655460-d4ce-4ec0-8a9f-ecb1e5570257",
   "metadata": {},
   "outputs": [],
   "source": [
    "y_train = np.where(y_train == 11, 0, 1)\n",
    "y_test = np.where(y_test == 11, 0, 1)\n",
    "y_val = np.where(y_val == 11, 0, 1)"
   ]
  },
  {
   "cell_type": "markdown",
   "id": "0508401d-a76e-419b-bef4-be7c204f2b53",
   "metadata": {},
   "source": [
    "# PyDeepInsight"
   ]
  },
  {
   "cell_type": "code",
   "execution_count": 11,
   "id": "2fdd1d8d-faeb-496d-9f8c-9c043ec5cf07",
   "metadata": {},
   "outputs": [],
   "source": [
    "from pyDeepInsight import ImageTransformer"
   ]
  },
  {
   "cell_type": "code",
   "execution_count": 12,
   "id": "f30af3f2-0e04-4b2f-a2eb-96d262846b57",
   "metadata": {},
   "outputs": [],
   "source": [
    "it = ImageTransformer(\n",
    "    pixels=8,\n",
    "    feature_extractor='tsne',\n",
    "    discretization='lsa'\n",
    ")"
   ]
  },
  {
   "cell_type": "code",
   "execution_count": 13,
   "id": "9cfe54ce-0775-4491-a80c-feb99153a1fc",
   "metadata": {},
   "outputs": [],
   "source": [
    "it.fit(X_train_selected)\n",
    "X_train_images = it.transform(X_train_selected, 'pytorch')\n",
    "\n",
    "X_test_images = it.transform(X_test_selected, 'pytorch')\n",
    "\n",
    "X_val_images = it.transform(X_val_selected, 'pytorch')"
   ]
  },
  {
   "cell_type": "markdown",
   "id": "898e2cb7-61f4-4b11-8b1d-9c9345327caa",
   "metadata": {},
   "source": [
    "# VAE"
   ]
  },
  {
   "cell_type": "code",
   "execution_count": 14,
   "id": "5d921a69-f2a9-46ca-84c4-b3a9587864ad",
   "metadata": {},
   "outputs": [],
   "source": [
    "num_samples, channels, img_height, img_width = X_train_images.shape\n",
    "latent_dim = 16"
   ]
  },
  {
   "cell_type": "code",
   "execution_count": 15,
   "id": "93d47b2c-847b-458f-b914-5ee0e30c5775",
   "metadata": {},
   "outputs": [],
   "source": [
    "class Encoder(nn.Module):\n",
    "    def __init__(self, img_channels=1, feature_dim=32, latent_dim=2):\n",
    "        super(Encoder, self).__init__()\n",
    "        self.conv1 = nn.Conv2d(img_channels, 16, kernel_size=3, stride=1, padding=1)\n",
    "        self.conv2 = nn.Conv2d(16, 32, kernel_size=3, stride=1, padding=1)\n",
    "        self.pool = nn.MaxPool2d(2, 2)\n",
    "        self.relu = nn.ReLU()\n",
    "        \n",
    "        self.fc1 = nn.Linear(32 * 2 * 2, feature_dim)\n",
    "        self.fc_mu = nn.Linear(feature_dim, latent_dim)\n",
    "        self.fc_logvar = nn.Linear(feature_dim, latent_dim)\n",
    "\n",
    "    def forward(self, x):\n",
    "        x = self.relu(self.conv1(x))  # Output: (batch_size, 16, 8, 8)\n",
    "        x = self.pool(x)              # Output: (batch_size, 16, 4, 4)\n",
    "        x = self.relu(self.conv2(x))  # Output: (batch_size, 32, 4, 4)\n",
    "        x = self.pool(x)              # Output: (batch_size, 32, 2, 2)\n",
    "        x = x.view(x.size(0), -1)     # Flatten to (batch_size, 128)\n",
    "        x = self.relu(self.fc1(x))\n",
    "        mu = self.fc_mu(x)\n",
    "        logvar = self.fc_logvar(x)\n",
    "        return mu, logvar"
   ]
  },
  {
   "cell_type": "code",
   "execution_count": 16,
   "id": "04caf141-2602-4a0e-86a7-1064e127a064",
   "metadata": {},
   "outputs": [],
   "source": [
    "class Decoder(nn.Module):\n",
    "    def __init__(self, img_channels=1, feature_dim=32, latent_dim=2):\n",
    "        super(Decoder, self).__init__()\n",
    "        self.fc1 = nn.Linear(latent_dim, feature_dim)\n",
    "        self.fc2 = nn.Linear(feature_dim, 32 * 2 * 2)\n",
    "        self.relu = nn.ReLU()\n",
    "        self.sigmoid = nn.Sigmoid()\n",
    "\n",
    "        self.deconv1 = nn.ConvTranspose2d(32, 16, kernel_size=3, stride=1, padding=1)\n",
    "        self.deconv2 = nn.ConvTranspose2d(16, img_channels, kernel_size=3, stride=1, padding=1)\n",
    "        self.upsample = nn.Upsample(scale_factor=2, mode='nearest')\n",
    "\n",
    "    def forward(self, z):\n",
    "        x = self.relu(self.fc1(z))           # Output: (batch_size, feature_dim)\n",
    "        x = self.relu(self.fc2(x))           # Output: (batch_size, 128)\n",
    "        x = x.view(x.size(0), 32, 2, 2)      # Reshape to (batch_size, 32, 2, 2)\n",
    "        x = self.upsample(x)                 # Upsample to (batch_size, 32, 4, 4)\n",
    "        x = self.relu(self.deconv1(x))       # Output: (batch_size, 16, 4, 4)\n",
    "        x = self.upsample(x)                 # Upsample to (batch_size, 16, 8, 8)\n",
    "        x = self.sigmoid(self.deconv2(x))    # Output: (batch_size, img_channels, 8, 8)\n",
    "        return x"
   ]
  },
  {
   "cell_type": "code",
   "execution_count": 17,
   "id": "0dc81be8-c7c6-4ee9-a28a-125ae58c172f",
   "metadata": {},
   "outputs": [],
   "source": [
    "class VAE(nn.Module):\n",
    "    def __init__(self, img_channels=1, feature_dim=32, latent_dim=2):\n",
    "        super(VAE, self).__init__()\n",
    "        self.encoder = Encoder(img_channels, feature_dim, latent_dim)\n",
    "        self.decoder = Decoder(img_channels, feature_dim, latent_dim)\n",
    "\n",
    "    def reparameterize(self, mu, logvar):\n",
    "        std = torch.exp(0.5 * logvar)\n",
    "        eps = torch.randn_like(std)\n",
    "        return mu + eps * std\n",
    "\n",
    "    def forward(self, x):\n",
    "        mu, logvar = self.encoder(x)\n",
    "        z = self.reparameterize(mu, logvar)\n",
    "        reconstructed = self.decoder(z)\n",
    "        return reconstructed, mu, logvar"
   ]
  },
  {
   "cell_type": "code",
   "execution_count": 18,
   "id": "42c77a18-9e8f-4403-9a61-4a62dca55b7d",
   "metadata": {},
   "outputs": [],
   "source": [
    "def loss_function(reconstructed, original, mu, logvar):\n",
    "    reconstruction_loss = F.mse_loss(reconstructed, original, reduction='sum')\n",
    "    kl_loss = -0.5 * torch.sum(1 + logvar - mu.pow(2) - logvar.exp())\n",
    "    total_loss = reconstruction_loss + kl_loss\n",
    "    return total_loss, reconstruction_loss, kl_loss"
   ]
  },
  {
   "cell_type": "code",
   "execution_count": 19,
   "id": "ae30c592-8fc1-4bed-9fef-83d42fad2468",
   "metadata": {},
   "outputs": [
    {
     "data": {
      "text/plain": [
       "<All keys matched successfully>"
      ]
     },
     "execution_count": 19,
     "metadata": {},
     "output_type": "execute_result"
    }
   ],
   "source": [
    "model = VAE(img_channels=3, feature_dim=32, latent_dim=16).to(device)\n",
    "model.load_state_dict(torch.load(\"deepinsight_vae_normal.pth\"))"
   ]
  },
  {
   "cell_type": "markdown",
   "id": "7643352c-a46e-4545-ba7a-6f9ac0a73666",
   "metadata": {},
   "source": [
    "# Extract"
   ]
  },
  {
   "cell_type": "code",
   "execution_count": 21,
   "id": "b4692a90-e22d-454c-997c-b393d6e1d901",
   "metadata": {},
   "outputs": [
    {
     "name": "stderr",
     "output_type": "stream",
     "text": [
      "/tmp/ipykernel_727/2967385897.py:5: UserWarning: To copy construct from a tensor, it is recommended to use sourceTensor.clone().detach() or sourceTensor.clone().detach().requires_grad_(True), rather than torch.tensor(sourceTensor).\n",
      "  X_train_tensor = torch.tensor(X_train_normal, dtype=torch.float32)\n",
      "/tmp/ipykernel_727/2967385897.py:6: UserWarning: To copy construct from a tensor, it is recommended to use sourceTensor.clone().detach() or sourceTensor.clone().detach().requires_grad_(True), rather than torch.tensor(sourceTensor).\n",
      "  X_test_tensor = torch.tensor(X_test_images, dtype=torch.float32)\n",
      "/tmp/ipykernel_727/2967385897.py:7: UserWarning: To copy construct from a tensor, it is recommended to use sourceTensor.clone().detach() or sourceTensor.clone().detach().requires_grad_(True), rather than torch.tensor(sourceTensor).\n",
      "  X_val_tensor = torch.tensor(X_val_images, dtype=torch.float32)\n"
     ]
    }
   ],
   "source": [
    "normal_indices = np.where(y_train == 0)[0]\n",
    "X_train_normal = X_train_images[normal_indices]\n",
    "y_train_normal = y_train[normal_indices]\n",
    "\n",
    "X_train_tensor = torch.tensor(X_train_normal, dtype=torch.float32)\n",
    "X_test_tensor = torch.tensor(X_test_images, dtype=torch.float32)\n",
    "X_val_tensor = torch.tensor(X_val_images, dtype=torch.float32)\n",
    "\n",
    "train_dataset = TensorDataset(X_train_tensor)\n",
    "test_dataset = TensorDataset(X_test_tensor, torch.tensor(y_test, dtype=torch.long))\n",
    "val_dataset = TensorDataset(X_val_tensor, torch.tensor(y_val, dtype=torch.long))\n",
    "\n",
    "batch_size = 32 \n",
    "train_loader = DataLoader(train_dataset, batch_size=batch_size, shuffle=False)\n",
    "test_loader = DataLoader(test_dataset, batch_size=batch_size, shuffle=False)\n",
    "val_loader = DataLoader(val_dataset, batch_size=batch_size, shuffle=False)"
   ]
  },
  {
   "cell_type": "code",
   "execution_count": 32,
   "id": "acfc7fe2-0a19-4882-a84e-d6e68ad7b328",
   "metadata": {},
   "outputs": [],
   "source": [
    "def extract_latent_features(model, data_loader, device):\n",
    "    model.eval()  \n",
    "    latent_features = []  \n",
    "\n",
    "    with torch.no_grad(): \n",
    "        for batch in tqdm(data_loader, total=len(data_loader), desc=\"Extracting features\"):\n",
    "            if len(batch) == 2:\n",
    "                data, _ = batch  \n",
    "            else:\n",
    "                (data,) = batch  \n",
    "            \n",
    "            data = data.to(device)\n",
    "            mu, logvar = model.encoder(data)\n",
    "            latent_features.append(mu.cpu().numpy())\n",
    "\n",
    "    latent_features = np.concatenate(latent_features, axis=0)\n",
    "    \n",
    "    return latent_features\n"
   ]
  },
  {
   "cell_type": "code",
   "execution_count": 33,
   "id": "c0d8ae98-d2c0-4932-b250-14c1d7433876",
   "metadata": {},
   "outputs": [
    {
     "name": "stderr",
     "output_type": "stream",
     "text": [
      "Extracting features: 100%|██████████| 8124/8124 [00:04<00:00, 1724.54it/s]\n",
      "Extracting features: 100%|██████████| 3506/3506 [00:02<00:00, 1504.62it/s]\n",
      "Extracting features: 100%|██████████| 4383/4383 [00:02<00:00, 1577.30it/s]\n"
     ]
    }
   ],
   "source": [
    "train_latent_features = extract_latent_features(model, train_loader, device)\n",
    "val_latent_features = extract_latent_features(model, val_loader, device)\n",
    "test_latent_features = extract_latent_features(model, test_loader, device)"
   ]
  },
  {
   "cell_type": "markdown",
   "id": "1d49fafa-2efe-4166-8f38-79e3b42e0a01",
   "metadata": {},
   "source": [
    "# SGDOCSVM"
   ]
  },
  {
   "cell_type": "code",
   "execution_count": 39,
   "id": "ec4ea3d8-2406-4307-ba39-6a3392b3c301",
   "metadata": {},
   "outputs": [],
   "source": [
    "from sklearn.linear_model import SGDOneClassSVM"
   ]
  },
  {
   "cell_type": "code",
   "execution_count": 67,
   "id": "8f761e90-8a6d-4a85-a220-605a5f077a22",
   "metadata": {},
   "outputs": [
    {
     "name": "stderr",
     "output_type": "stream",
     "text": [
      "[I 2024-09-24 20:32:59,173] A new study created in memory with name: no-name-6d0d4bd6-374e-46b7-9329-055049158174\n",
      "[I 2024-09-24 20:32:59,502] Trial 0 finished with value: 0.6337881022615536 and parameters: {'nu': 0.4869103480425797, 'learning_rate': 'invscaling', 'eta0': 0.11575431238591075, 'power_t': -1.444059365680435}. Best is trial 0 with value: 0.6337881022615536.\n",
      "[I 2024-09-24 20:32:59,811] Trial 1 finished with value: 0.7336362353605193 and parameters: {'nu': 0.3126020299445455, 'learning_rate': 'constant', 'eta0': 0.3994792075097269, 'power_t': 1.382520354843236}. Best is trial 1 with value: 0.7336362353605193.\n",
      "[I 2024-09-24 20:33:00,102] Trial 2 finished with value: 0.62873982184452 and parameters: {'nu': 0.2956580371733146, 'learning_rate': 'constant', 'eta0': 0.2861430527014301, 'power_t': 2.7622718216807023}. Best is trial 1 with value: 0.7336362353605193.\n",
      "[I 2024-09-24 20:33:00,358] Trial 3 finished with value: 0.7336362353605193 and parameters: {'nu': 0.02058251022843269, 'learning_rate': 'constant', 'eta0': 0.2966765815122107, 'power_t': 1.2423807922172916}. Best is trial 1 with value: 0.7336362353605193.\n",
      "[I 2024-09-24 20:33:01,805] Trial 4 finished with value: 0.6124754228060693 and parameters: {'nu': 0.3384899556701187, 'learning_rate': 'adaptive', 'eta0': 0.02380710457140754, 'power_t': 2.657415547049381}. Best is trial 1 with value: 0.7336362353605193.\n",
      "[I 2024-09-24 20:33:02,076] Trial 5 finished with value: 0.6400533039775196 and parameters: {'nu': 0.3305415444922993, 'learning_rate': 'optimal', 'eta0': 0.07612877367018012, 'power_t': 2.812426659110322}. Best is trial 1 with value: 0.7336362353605193.\n",
      "[I 2024-09-24 20:33:02,314] Trial 6 finished with value: 0.7643550599636156 and parameters: {'nu': 0.017167194003353446, 'learning_rate': 'optimal', 'eta0': 0.33578983690406855, 'power_t': 1.980942028773387}. Best is trial 6 with value: 0.7643550599636156.\n",
      "[I 2024-09-24 20:33:02,599] Trial 7 finished with value: 0.5572894123364542 and parameters: {'nu': 0.25653454447334695, 'learning_rate': 'constant', 'eta0': 0.0038058915684103423, 'power_t': 0.7470017714369801}. Best is trial 6 with value: 0.7643550599636156.\n",
      "[I 2024-09-24 20:33:02,906] Trial 8 finished with value: 0.5878107178008753 and parameters: {'nu': 0.45600351068624617, 'learning_rate': 'invscaling', 'eta0': 0.15898516064923954, 'power_t': 0.32000398237046834}. Best is trial 6 with value: 0.7643550599636156.\n",
      "[I 2024-09-24 20:33:03,179] Trial 9 finished with value: 0.5672650205958043 and parameters: {'nu': 0.34346566227518505, 'learning_rate': 'optimal', 'eta0': 0.39150763797090843, 'power_t': -2.978429715951208}. Best is trial 6 with value: 0.7643550599636156.\n",
      "[I 2024-09-24 20:33:03,419] Trial 10 finished with value: 0.7579781337876154 and parameters: {'nu': 0.01332513704921047, 'learning_rate': 'optimal', 'eta0': 0.4911785504361299, 'power_t': -0.8637750788326091}. Best is trial 6 with value: 0.7643550599636156.\n",
      "[I 2024-09-24 20:33:03,680] Trial 11 finished with value: 0.7613114946233408 and parameters: {'nu': 0.03242565977816514, 'learning_rate': 'optimal', 'eta0': 0.4473425930150783, 'power_t': -0.8810571145659349}. Best is trial 6 with value: 0.7643550599636156.\n",
      "[I 2024-09-24 20:33:03,969] Trial 12 finished with value: 0.7588560188544596 and parameters: {'nu': 0.12130810096186873, 'learning_rate': 'optimal', 'eta0': 0.4917030419161873, 'power_t': -0.807781271209429}. Best is trial 6 with value: 0.7643550599636156.\n",
      "[I 2024-09-24 20:33:04,244] Trial 13 finished with value: 0.6474454014467669 and parameters: {'nu': 0.11732519068936861, 'learning_rate': 'optimal', 'eta0': 0.36503926894736793, 'power_t': -2.5968042483394136}. Best is trial 6 with value: 0.7643550599636156.\n",
      "[I 2024-09-24 20:33:05,664] Trial 14 finished with value: 0.7696611081226465 and parameters: {'nu': 0.11616577585877996, 'learning_rate': 'adaptive', 'eta0': 0.19880077848661362, 'power_t': 1.7805487391994228}. Best is trial 14 with value: 0.7696611081226465.\n",
      "[I 2024-09-24 20:33:07,160] Trial 15 finished with value: 0.7437416668449159 and parameters: {'nu': 0.1418326628133885, 'learning_rate': 'adaptive', 'eta0': 0.21676099231589877, 'power_t': 1.8659117232616904}. Best is trial 14 with value: 0.7696611081226465.\n",
      "[I 2024-09-24 20:33:08,636] Trial 16 finished with value: 0.7562182863937396 and parameters: {'nu': 0.1806955126910928, 'learning_rate': 'adaptive', 'eta0': 0.21203085712386627, 'power_t': 1.8992256762204878}. Best is trial 14 with value: 0.7696611081226465.\n",
      "[I 2024-09-24 20:33:09,875] Trial 17 finished with value: 0.7834076071352782 and parameters: {'nu': 0.068252271839083, 'learning_rate': 'adaptive', 'eta0': 0.3288853366454927, 'power_t': 2.08870383568918}. Best is trial 17 with value: 0.7834076071352782.\n",
      "[I 2024-09-24 20:33:11,376] Trial 18 finished with value: 0.7471364790214842 and parameters: {'nu': 0.18556510614866403, 'learning_rate': 'adaptive', 'eta0': 0.2454217912765584, 'power_t': -0.11531197686715777}. Best is trial 17 with value: 0.7834076071352782.\n",
      "[I 2024-09-24 20:33:12,684] Trial 19 finished with value: 0.7501151543067711 and parameters: {'nu': 0.0850779009175012, 'learning_rate': 'adaptive', 'eta0': 0.16875260850016466, 'power_t': 1.0008036313399211}. Best is trial 17 with value: 0.7834076071352782.\n",
      "[I 2024-09-24 20:33:14,119] Trial 20 finished with value: 0.735383155460809 and parameters: {'nu': 0.20568752531104592, 'learning_rate': 'adaptive', 'eta0': 0.3083228404008679, 'power_t': 2.3156047852313724}. Best is trial 17 with value: 0.7834076071352782.\n",
      "[I 2024-09-24 20:33:15,468] Trial 21 finished with value: 0.7806157566737978 and parameters: {'nu': 0.07568927629935907, 'learning_rate': 'adaptive', 'eta0': 0.3388839497936316, 'power_t': 1.8956439795456757}. Best is trial 17 with value: 0.7834076071352782.\n",
      "[I 2024-09-24 20:33:16,881] Trial 22 finished with value: 0.7831284342994184 and parameters: {'nu': 0.07302430538298643, 'learning_rate': 'adaptive', 'eta0': 0.2622002582803814, 'power_t': 1.5887531119790888}. Best is trial 17 with value: 0.7834076071352782.\n",
      "[I 2024-09-24 20:33:18,164] Trial 23 finished with value: 0.7794754504040045 and parameters: {'nu': 0.06624562325580463, 'learning_rate': 'adaptive', 'eta0': 0.270301903718821, 'power_t': 0.4893158915818827}. Best is trial 17 with value: 0.7834076071352782.\n",
      "[I 2024-09-24 20:33:19,535] Trial 24 finished with value: 0.7795020176201165 and parameters: {'nu': 0.0769918139572129, 'learning_rate': 'adaptive', 'eta0': 0.3418202614944271, 'power_t': 1.466809529622355}. Best is trial 17 with value: 0.7834076071352782.\n",
      "[I 2024-09-24 20:33:21,173] Trial 25 finished with value: 0.7609227688628084 and parameters: {'nu': 0.16050850431749097, 'learning_rate': 'adaptive', 'eta0': 0.4219852321253818, 'power_t': 2.309041896201238}. Best is trial 17 with value: 0.7834076071352782.\n",
      "[I 2024-09-24 20:33:21,501] Trial 26 finished with value: 0.5620986076133467 and parameters: {'nu': 0.22857076027636217, 'learning_rate': 'invscaling', 'eta0': 0.24642508862376747, 'power_t': -0.1241070087103584}. Best is trial 17 with value: 0.7834076071352782.\n",
      "[I 2024-09-24 20:33:22,862] Trial 27 finished with value: 0.7851546766796159 and parameters: {'nu': 0.07594240984017661, 'learning_rate': 'adaptive', 'eta0': 0.33465579021024966, 'power_t': 2.3600427945890616}. Best is trial 27 with value: 0.7851546766796159.\n",
      "[I 2024-09-24 20:33:24,172] Trial 28 finished with value: 0.7821424379636894 and parameters: {'nu': 0.05309003433220935, 'learning_rate': 'adaptive', 'eta0': 0.37203173812191515, 'power_t': 2.9886429023116667}. Best is trial 27 with value: 0.7851546766796159.\n",
      "[I 2024-09-24 20:33:24,471] Trial 29 finished with value: 0.6436149120612978 and parameters: {'nu': 0.3912987696239689, 'learning_rate': 'invscaling', 'eta0': 0.12518746342918782, 'power_t': 2.3628883441498445}. Best is trial 27 with value: 0.7851546766796159.\n",
      "[I 2024-09-24 20:33:25,837] Trial 30 finished with value: 0.7520996097075872 and parameters: {'nu': 0.09182995174214398, 'learning_rate': 'adaptive', 'eta0': 0.31271104700256563, 'power_t': 0.9541605041104123}. Best is trial 27 with value: 0.7851546766796159.\n",
      "[I 2024-09-24 20:33:27,165] Trial 31 finished with value: 0.7801048427358962 and parameters: {'nu': 0.051120917762146806, 'learning_rate': 'adaptive', 'eta0': 0.3781732358740251, 'power_t': 2.9499422888279314}. Best is trial 27 with value: 0.7851546766796159.\n",
      "[I 2024-09-24 20:33:28,623] Trial 32 finished with value: 0.7753097021050903 and parameters: {'nu': 0.05645299053811349, 'learning_rate': 'adaptive', 'eta0': 0.4359157861564932, 'power_t': 2.469050055515379}. Best is trial 27 with value: 0.7851546766796159.\n",
      "[I 2024-09-24 20:33:30,183] Trial 33 finished with value: 0.7702310666023494 and parameters: {'nu': 0.14121578143164856, 'learning_rate': 'adaptive', 'eta0': 0.2633450475879585, 'power_t': 1.4432591093008833}. Best is trial 27 with value: 0.7851546766796159.\n",
      "[I 2024-09-24 20:33:30,461] Trial 34 finished with value: 0.5959654542016012 and parameters: {'nu': 0.10327651854501135, 'learning_rate': 'constant', 'eta0': 0.36237020843778106, 'power_t': 2.921385791994751}. Best is trial 27 with value: 0.7851546766796159.\n",
      "[I 2024-09-24 20:33:31,895] Trial 35 finished with value: 0.7836976862079972 and parameters: {'nu': 0.052924175174043894, 'learning_rate': 'adaptive', 'eta0': 0.4079449070449191, 'power_t': 2.2085012319488344}. Best is trial 27 with value: 0.7851546766796159.\n",
      "[I 2024-09-24 20:33:33,224] Trial 36 finished with value: 0.7756253526424676 and parameters: {'nu': 0.04419558191489805, 'learning_rate': 'adaptive', 'eta0': 0.45455121272002375, 'power_t': 1.5722624378927226}. Best is trial 27 with value: 0.7851546766796159.\n",
      "[I 2024-09-24 20:33:33,508] Trial 37 finished with value: 0.7336362353605193 and parameters: {'nu': 0.150351537049627, 'learning_rate': 'constant', 'eta0': 0.40164392342603433, 'power_t': 2.1869947585666387}. Best is trial 27 with value: 0.7851546766796159.\n",
      "[I 2024-09-24 20:33:33,780] Trial 38 finished with value: 0.6890223576403712 and parameters: {'nu': 0.24131560166685564, 'learning_rate': 'invscaling', 'eta0': 0.297160158347251, 'power_t': 1.211134037876893}. Best is trial 27 with value: 0.7851546766796159.\n",
      "[I 2024-09-24 20:33:35,399] Trial 39 finished with value: 0.6664193736420964 and parameters: {'nu': 0.2756061621487276, 'learning_rate': 'adaptive', 'eta0': 0.32236318139719683, 'power_t': 2.531201465981204}. Best is trial 27 with value: 0.7851546766796159.\n",
      "[I 2024-09-24 20:33:36,653] Trial 40 finished with value: 0.7625205140114569 and parameters: {'nu': 0.028635358998969393, 'learning_rate': 'adaptive', 'eta0': 0.28142367005057534, 'power_t': 2.6495122869285175}. Best is trial 27 with value: 0.7851546766796159.\n",
      "[I 2024-09-24 20:33:38,119] Trial 41 finished with value: 0.7625827163313602 and parameters: {'nu': 0.05742698762093046, 'learning_rate': 'adaptive', 'eta0': 0.40797452541597384, 'power_t': 2.9958703181778263}. Best is trial 27 with value: 0.7851546766796159.\n",
      "[I 2024-09-24 20:33:39,572] Trial 42 finished with value: 0.7837565180934413 and parameters: {'nu': 0.0956876670899216, 'learning_rate': 'adaptive', 'eta0': 0.36101878919176494, 'power_t': 2.139935509532707}. Best is trial 27 with value: 0.7851546766796159.\n",
      "[I 2024-09-24 20:33:40,971] Trial 43 finished with value: 0.7580403583780398 and parameters: {'nu': 0.0982113123777675, 'learning_rate': 'adaptive', 'eta0': 0.3327767248662858, 'power_t': 2.1206681655995756}. Best is trial 27 with value: 0.7851546766796159.\n",
      "[I 2024-09-24 20:33:41,213] Trial 44 finished with value: 0.7336362353605193 and parameters: {'nu': 0.03018282351104288, 'learning_rate': 'constant', 'eta0': 0.34852164192763035, 'power_t': 1.726556204777022}. Best is trial 27 with value: 0.7851546766796159.\n",
      "[I 2024-09-24 20:33:43,086] Trial 45 finished with value: 0.48608806900251744 and parameters: {'nu': 0.4944294487033378, 'learning_rate': 'adaptive', 'eta0': 0.3914091341072116, 'power_t': 1.2289735167204119}. Best is trial 27 with value: 0.7851546766796159.\n",
      "[I 2024-09-24 20:33:44,214] Trial 46 finished with value: 0.7796380692189596 and parameters: {'nu': 0.016212418132982756, 'learning_rate': 'adaptive', 'eta0': 0.2976695245189557, 'power_t': 2.0809251420145114}. Best is trial 27 with value: 0.7851546766796159.\n",
      "[I 2024-09-24 20:33:44,513] Trial 47 finished with value: 0.5964010606604564 and parameters: {'nu': 0.12006849117210117, 'learning_rate': 'invscaling', 'eta0': 0.4631624602717034, 'power_t': 2.6903958145298006}. Best is trial 27 with value: 0.7851546766796159.\n",
      "[I 2024-09-24 20:33:46,370] Trial 48 finished with value: 0.5449682011141446 and parameters: {'nu': 0.46034618779225467, 'learning_rate': 'adaptive', 'eta0': 0.41749936878459654, 'power_t': -2.1567608369671296}. Best is trial 27 with value: 0.7851546766796159.\n",
      "[I 2024-09-24 20:33:47,748] Trial 49 finished with value: 0.780599422333921 and parameters: {'nu': 0.13286137046778368, 'learning_rate': 'adaptive', 'eta0': 0.22689427205770793, 'power_t': 0.654555419554967}. Best is trial 27 with value: 0.7851546766796159.\n"
     ]
    },
    {
     "name": "stdout",
     "output_type": "stream",
     "text": [
      "Best Hyperparameters: {'nu': 0.07594240984017661, 'learning_rate': 'adaptive', 'eta0': 0.33465579021024966, 'power_t': 2.3600427945890616}\n"
     ]
    }
   ],
   "source": [
    "def objective(trial):\n",
    "\n",
    "    nu = trial.suggest_float('nu', 0.01, 0.5)  \n",
    "    learning_rate = trial.suggest_categorical('learning_rate', ['constant', 'optimal', 'invscaling', 'adaptive'])\n",
    "    eta0 = trial.suggest_float('eta0', 1e-6, 0.5)\n",
    "    power_t = trial.suggest_float('power_t', -3, 3)\n",
    "\n",
    "    sgdocsvm = SGDOneClassSVM(nu=nu, learning_rate=learning_rate, eta0=eta0, power_t=power_t)\n",
    "    sgdocsvm.fit(train_latent_features)\n",
    "\n",
    "    val_predictions = sgdocsvm.predict(val_latent_features)\n",
    "    val_true_labels = np.where(y_val == 0, 1, -1)\n",
    "\n",
    "    f1 = f1_score(val_true_labels, val_predictions, pos_label=1, average='binary')\n",
    "\n",
    "    return f1 \n",
    "\n",
    "study = optuna.create_study(direction='maximize')\n",
    "study.optimize(objective, n_trials=50)\n",
    "\n",
    "best_params = study.best_params\n",
    "print(f\"Best Hyperparameters: {best_params}\")"
   ]
  },
  {
   "cell_type": "code",
   "execution_count": 68,
   "id": "1d89118e-8269-41ec-adcd-8bd4677b8545",
   "metadata": {},
   "outputs": [
    {
     "name": "stdout",
     "output_type": "stream",
     "text": [
      "Test Accuracy: 0.6894\n",
      "Test Precision: 0.6572\n",
      "Test Recall: 0.9695\n",
      "Test F1 Score: 0.7834\n"
     ]
    }
   ],
   "source": [
    "best_sgdocsvm = SGDOneClassSVM(nu=best_params['nu'], \n",
    "                               learning_rate=best_params['learning_rate'], \n",
    "                               eta0=best_params['eta0'], \n",
    "                               random_state=42)\n",
    "\n",
    "best_sgdocsvm.fit(train_latent_features)\n",
    "\n",
    "test_predictions = best_sgdocsvm.predict(test_latent_features)\n",
    "test_true_labels = np.where(y_test == 0, 1, -1)\n",
    "\n",
    "test_accuracy = accuracy_score(test_true_labels, test_predictions)\n",
    "test_precision = precision_score(test_true_labels, test_predictions, pos_label=1, average='binary')\n",
    "test_recall = recall_score(test_true_labels, test_predictions, pos_label=1, average='binary')\n",
    "test_f1 = f1_score(test_true_labels, test_predictions, pos_label=1, average='binary')\n",
    "\n",
    "print(f\"Test Accuracy: {test_accuracy:.4f}\")\n",
    "print(f\"Test Precision: {test_precision:.4f}\")\n",
    "print(f\"Test Recall: {test_recall:.4f}\")\n",
    "print(f\"Test F1 Score: {test_f1:.4f}\")"
   ]
  },
  {
   "cell_type": "markdown",
   "id": "9b521b47-305c-48fd-b20a-f0b764722ed3",
   "metadata": {},
   "source": [
    "# LOF"
   ]
  },
  {
   "cell_type": "code",
   "execution_count": 69,
   "id": "d3cc2aae-3699-4c98-a567-ed96c7f69434",
   "metadata": {},
   "outputs": [],
   "source": [
    "from sklearn.neighbors import LocalOutlierFactor"
   ]
  },
  {
   "cell_type": "code",
   "execution_count": 70,
   "id": "13e65e0c-779a-4538-a935-4f2ae57b2af8",
   "metadata": {},
   "outputs": [
    {
     "name": "stderr",
     "output_type": "stream",
     "text": [
      "[I 2024-09-24 20:36:41,234] A new study created in memory with name: no-name-57949ad1-f577-4b23-a497-0d8bde8d301a\n",
      "[I 2024-09-24 20:38:45,565] Trial 0 finished with value: 0.8874083066999188 and parameters: {'n_neighbors': 17, 'leaf_size': 38, 'metric': 'manhattan'}. Best is trial 0 with value: 0.8874083066999188.\n",
      "[I 2024-09-24 20:40:49,583] Trial 1 finished with value: 0.8901131016746062 and parameters: {'n_neighbors': 19, 'leaf_size': 33, 'metric': 'manhattan'}. Best is trial 1 with value: 0.8901131016746062.\n",
      "[I 2024-09-24 20:43:18,906] Trial 2 finished with value: 0.8310746167982435 and parameters: {'n_neighbors': 19, 'leaf_size': 35, 'metric': 'chebyshev'}. Best is trial 1 with value: 0.8901131016746062.\n",
      "[I 2024-09-24 20:43:47,317] Trial 3 finished with value: 0.8365329745038501 and parameters: {'n_neighbors': 11, 'leaf_size': 49, 'metric': 'minkowski'}. Best is trial 1 with value: 0.8901131016746062.\n",
      "[I 2024-09-24 20:45:53,774] Trial 4 finished with value: 0.8580930498920191 and parameters: {'n_neighbors': 50, 'leaf_size': 47, 'metric': 'manhattan'}. Best is trial 1 with value: 0.8901131016746062.\n",
      "[I 2024-09-24 20:47:58,161] Trial 5 finished with value: 0.8732968347775643 and parameters: {'n_neighbors': 15, 'leaf_size': 45, 'metric': 'manhattan'}. Best is trial 1 with value: 0.8901131016746062.\n",
      "[I 2024-09-24 20:50:02,242] Trial 6 finished with value: 0.8891822119802225 and parameters: {'n_neighbors': 20, 'leaf_size': 40, 'metric': 'manhattan'}. Best is trial 1 with value: 0.8901131016746062.\n",
      "[I 2024-09-24 20:52:29,144] Trial 7 finished with value: 0.8277764749699971 and parameters: {'n_neighbors': 16, 'leaf_size': 26, 'metric': 'chebyshev'}. Best is trial 1 with value: 0.8901131016746062.\n",
      "[I 2024-09-24 20:54:32,465] Trial 8 finished with value: 0.8269936078801216 and parameters: {'n_neighbors': 9, 'leaf_size': 34, 'metric': 'manhattan'}. Best is trial 1 with value: 0.8901131016746062.\n",
      "[I 2024-09-24 20:55:01,063] Trial 9 finished with value: 0.8516159537186405 and parameters: {'n_neighbors': 24, 'leaf_size': 45, 'metric': 'minkowski'}. Best is trial 1 with value: 0.8901131016746062.\n",
      "[I 2024-09-24 20:55:30,080] Trial 10 finished with value: 0.8465066461606064 and parameters: {'n_neighbors': 33, 'leaf_size': 23, 'metric': 'euclidean'}. Best is trial 1 with value: 0.8901131016746062.\n",
      "[I 2024-09-24 20:57:33,459] Trial 11 finished with value: 0.8797950323820368 and parameters: {'n_neighbors': 32, 'leaf_size': 30, 'metric': 'manhattan'}. Best is trial 1 with value: 0.8901131016746062.\n",
      "[I 2024-09-24 20:58:02,274] Trial 12 finished with value: 0.850141873001117 and parameters: {'n_neighbors': 25, 'leaf_size': 40, 'metric': 'euclidean'}. Best is trial 1 with value: 0.8901131016746062.\n",
      "[I 2024-09-24 21:00:06,218] Trial 13 finished with value: 0.8772501310068407 and parameters: {'n_neighbors': 37, 'leaf_size': 30, 'metric': 'manhattan'}. Best is trial 1 with value: 0.8901131016746062.\n",
      "[I 2024-09-24 21:02:10,513] Trial 14 finished with value: 0.8781025612031436 and parameters: {'n_neighbors': 42, 'leaf_size': 41, 'metric': 'manhattan'}. Best is trial 1 with value: 0.8901131016746062.\n",
      "[I 2024-09-24 21:04:13,769] Trial 15 finished with value: 0.8857585004989659 and parameters: {'n_neighbors': 23, 'leaf_size': 33, 'metric': 'manhattan'}. Best is trial 1 with value: 0.8901131016746062.\n",
      "[I 2024-09-24 21:04:42,191] Trial 16 finished with value: 0.8427036276032904 and parameters: {'n_neighbors': 8, 'leaf_size': 41, 'metric': 'minkowski'}. Best is trial 1 with value: 0.8901131016746062.\n",
      "[I 2024-09-24 21:05:11,280] Trial 17 finished with value: 0.8429857371860743 and parameters: {'n_neighbors': 29, 'leaf_size': 29, 'metric': 'euclidean'}. Best is trial 1 with value: 0.8901131016746062.\n",
      "[I 2024-09-24 21:07:37,671] Trial 18 finished with value: 0.8330472044059277 and parameters: {'n_neighbors': 22, 'leaf_size': 36, 'metric': 'chebyshev'}. Best is trial 1 with value: 0.8901131016746062.\n",
      "[I 2024-09-24 21:09:40,852] Trial 19 finished with value: 0.8590571289202605 and parameters: {'n_neighbors': 13, 'leaf_size': 21, 'metric': 'manhattan'}. Best is trial 1 with value: 0.8901131016746062.\n",
      "[I 2024-09-24 21:11:43,869] Trial 20 finished with value: 0.8099058393405305 and parameters: {'n_neighbors': 6, 'leaf_size': 44, 'metric': 'manhattan'}. Best is trial 1 with value: 0.8901131016746062.\n",
      "[I 2024-09-24 21:13:46,099] Trial 21 finished with value: 0.8901131016746062 and parameters: {'n_neighbors': 19, 'leaf_size': 37, 'metric': 'manhattan'}. Best is trial 1 with value: 0.8901131016746062.\n",
      "[I 2024-09-24 21:15:48,668] Trial 22 finished with value: 0.8891822119802225 and parameters: {'n_neighbors': 20, 'leaf_size': 37, 'metric': 'manhattan'}. Best is trial 1 with value: 0.8901131016746062.\n",
      "[I 2024-09-24 21:17:51,772] Trial 23 finished with value: 0.8841113195926493 and parameters: {'n_neighbors': 30, 'leaf_size': 32, 'metric': 'manhattan'}. Best is trial 1 with value: 0.8901131016746062.\n",
      "[I 2024-09-24 21:19:54,621] Trial 24 finished with value: 0.8848277997393414 and parameters: {'n_neighbors': 26, 'leaf_size': 39, 'metric': 'manhattan'}. Best is trial 1 with value: 0.8901131016746062.\n",
      "[I 2024-09-24 21:21:56,450] Trial 25 finished with value: 0.8901131016746062 and parameters: {'n_neighbors': 19, 'leaf_size': 43, 'metric': 'manhattan'}. Best is trial 1 with value: 0.8901131016746062.\n",
      "[I 2024-09-24 21:22:24,794] Trial 26 finished with value: 0.8485050304662037 and parameters: {'n_neighbors': 14, 'leaf_size': 43, 'metric': 'euclidean'}. Best is trial 1 with value: 0.8901131016746062.\n",
      "[I 2024-09-24 21:24:50,595] Trial 27 finished with value: 0.8239916150124594 and parameters: {'n_neighbors': 12, 'leaf_size': 50, 'metric': 'chebyshev'}. Best is trial 1 with value: 0.8901131016746062.\n",
      "[I 2024-09-24 21:25:19,460] Trial 28 finished with value: 0.858033481399616 and parameters: {'n_neighbors': 18, 'leaf_size': 27, 'metric': 'minkowski'}. Best is trial 1 with value: 0.8901131016746062.\n",
      "[I 2024-09-24 21:27:21,565] Trial 29 finished with value: 0.8874083066999188 and parameters: {'n_neighbors': 17, 'leaf_size': 38, 'metric': 'manhattan'}. Best is trial 1 with value: 0.8901131016746062.\n",
      "[I 2024-09-24 21:29:23,867] Trial 30 finished with value: 0.8847807023848885 and parameters: {'n_neighbors': 28, 'leaf_size': 32, 'metric': 'manhattan'}. Best is trial 1 with value: 0.8901131016746062.\n",
      "[I 2024-09-24 21:31:26,357] Trial 31 finished with value: 0.8897332314299232 and parameters: {'n_neighbors': 21, 'leaf_size': 42, 'metric': 'manhattan'}. Best is trial 1 with value: 0.8901131016746062.\n",
      "[I 2024-09-24 21:33:29,270] Trial 32 finished with value: 0.8897332314299232 and parameters: {'n_neighbors': 21, 'leaf_size': 36, 'metric': 'manhattan'}. Best is trial 1 with value: 0.8901131016746062.\n",
      "[I 2024-09-24 21:35:31,191] Trial 33 finished with value: 0.888939293057151 and parameters: {'n_neighbors': 18, 'leaf_size': 42, 'metric': 'manhattan'}. Best is trial 1 with value: 0.8901131016746062.\n",
      "[I 2024-09-24 21:37:34,398] Trial 34 finished with value: 0.8857585004989659 and parameters: {'n_neighbors': 23, 'leaf_size': 47, 'metric': 'manhattan'}. Best is trial 1 with value: 0.8901131016746062.\n",
      "[I 2024-09-24 21:40:00,053] Trial 35 finished with value: 0.8250256095776336 and parameters: {'n_neighbors': 11, 'leaf_size': 47, 'metric': 'chebyshev'}. Best is trial 1 with value: 0.8901131016746062.\n",
      "[I 2024-09-24 21:42:02,486] Trial 36 finished with value: 0.8732968347775643 and parameters: {'n_neighbors': 15, 'leaf_size': 39, 'metric': 'manhattan'}. Best is trial 1 with value: 0.8901131016746062.\n",
      "[I 2024-09-24 21:42:31,023] Trial 37 finished with value: 0.8576049494321714 and parameters: {'n_neighbors': 19, 'leaf_size': 35, 'metric': 'minkowski'}. Best is trial 1 with value: 0.8901131016746062.\n",
      "[I 2024-09-24 21:44:33,947] Trial 38 finished with value: 0.8848277997393414 and parameters: {'n_neighbors': 26, 'leaf_size': 43, 'metric': 'manhattan'}. Best is trial 1 with value: 0.8901131016746062.\n",
      "[I 2024-09-24 21:46:36,743] Trial 39 finished with value: 0.8897332314299232 and parameters: {'n_neighbors': 21, 'leaf_size': 46, 'metric': 'manhattan'}. Best is trial 1 with value: 0.8901131016746062.\n",
      "[I 2024-09-24 21:48:38,577] Trial 40 finished with value: 0.8818808008872804 and parameters: {'n_neighbors': 16, 'leaf_size': 38, 'metric': 'manhattan'}. Best is trial 1 with value: 0.8901131016746062.\n",
      "[I 2024-09-24 21:50:40,546] Trial 41 finished with value: 0.8897332314299232 and parameters: {'n_neighbors': 21, 'leaf_size': 36, 'metric': 'manhattan'}. Best is trial 1 with value: 0.8901131016746062.\n",
      "[I 2024-09-24 21:52:44,056] Trial 42 finished with value: 0.8596616169647857 and parameters: {'n_neighbors': 49, 'leaf_size': 35, 'metric': 'manhattan'}. Best is trial 1 with value: 0.8901131016746062.\n",
      "[I 2024-09-24 21:54:46,249] Trial 43 finished with value: 0.8848987839642045 and parameters: {'n_neighbors': 24, 'leaf_size': 33, 'metric': 'manhattan'}. Best is trial 1 with value: 0.8901131016746062.\n",
      "[I 2024-09-24 21:56:47,827] Trial 44 finished with value: 0.8901131016746062 and parameters: {'n_neighbors': 19, 'leaf_size': 40, 'metric': 'manhattan'}. Best is trial 1 with value: 0.8901131016746062.\n",
      "[I 2024-09-24 21:57:16,601] Trial 45 finished with value: 0.8441511079965963 and parameters: {'n_neighbors': 9, 'leaf_size': 41, 'metric': 'euclidean'}. Best is trial 1 with value: 0.8901131016746062.\n",
      "[I 2024-09-24 21:59:18,539] Trial 46 finished with value: 0.8874083066999188 and parameters: {'n_neighbors': 17, 'leaf_size': 45, 'metric': 'manhattan'}. Best is trial 1 with value: 0.8901131016746062.\n",
      "[I 2024-09-24 22:01:44,552] Trial 47 finished with value: 0.8310746167982435 and parameters: {'n_neighbors': 19, 'leaf_size': 43, 'metric': 'chebyshev'}. Best is trial 1 with value: 0.8901131016746062.\n",
      "[I 2024-09-24 22:02:12,935] Trial 48 finished with value: 0.851462253778878 and parameters: {'n_neighbors': 15, 'leaf_size': 40, 'metric': 'minkowski'}. Best is trial 1 with value: 0.8901131016746062.\n",
      "[I 2024-09-24 22:04:15,599] Trial 49 finished with value: 0.8850820121467419 and parameters: {'n_neighbors': 25, 'leaf_size': 38, 'metric': 'manhattan'}. Best is trial 1 with value: 0.8901131016746062.\n"
     ]
    },
    {
     "name": "stdout",
     "output_type": "stream",
     "text": [
      "Best Hyperparameters: {'n_neighbors': 19, 'leaf_size': 33, 'metric': 'manhattan'}\n"
     ]
    }
   ],
   "source": [
    "def objective(trial):\n",
    "    n_neighbors = trial.suggest_int('n_neighbors', 5, 50)  \n",
    "    leaf_size = trial.suggest_int('leaf_size', 20, 50) \n",
    "    metric = trial.suggest_categorical('metric', ['euclidean', 'manhattan', 'chebyshev', 'minkowski'])  \n",
    "\n",
    "    lof = LocalOutlierFactor(n_neighbors=n_neighbors, leaf_size=leaf_size, metric=metric, novelty=True)\n",
    "    lof.fit(train_latent_features)\n",
    "\n",
    "    val_predictions = lof.predict(val_latent_features)\n",
    "    val_true_labels = np.where(y_val == 0, 1, -1)\n",
    "\n",
    "    f1 = f1_score(val_true_labels, val_predictions, pos_label=1, average='binary')\n",
    "\n",
    "    return f1\n",
    "\n",
    "study = optuna.create_study(direction='maximize')\n",
    "study.optimize(objective, n_trials=50)\n",
    "\n",
    "best_params = study.best_params\n",
    "print(f\"Best Hyperparameters: {best_params}\")"
   ]
  },
  {
   "cell_type": "code",
   "execution_count": 71,
   "id": "91fac012-f694-45cb-91d7-39b027c95cc3",
   "metadata": {},
   "outputs": [
    {
     "name": "stdout",
     "output_type": "stream",
     "text": [
      "Test Accuracy: 0.8650\n",
      "Test Precision: 0.8466\n",
      "Test Recall: 0.9367\n",
      "Test F1 Score: 0.8894\n"
     ]
    }
   ],
   "source": [
    "best_lof = LocalOutlierFactor(n_neighbors=best_params['n_neighbors'], \n",
    "                              leaf_size=best_params['leaf_size'], \n",
    "                              metric=best_params['metric'], \n",
    "                              novelty=True)\n",
    "\n",
    "best_lof.fit(train_latent_features)\n",
    "\n",
    "test_predictions = best_lof.predict(test_latent_features)\n",
    "test_true_labels = np.where(y_test == 0, 1, -1)\n",
    "\n",
    "test_accuracy = accuracy_score(test_true_labels, test_predictions)\n",
    "test_precision = precision_score(test_true_labels, test_predictions, pos_label=1, average='binary')\n",
    "test_recall = recall_score(test_true_labels, test_predictions, pos_label=1, average='binary')\n",
    "test_f1 = f1_score(test_true_labels, test_predictions, pos_label=1, average='binary')\n",
    "\n",
    "print(f\"Test Accuracy: {test_accuracy:.4f}\")\n",
    "print(f\"Test Precision: {test_precision:.4f}\")\n",
    "print(f\"Test Recall: {test_recall:.4f}\")\n",
    "print(f\"Test F1 Score: {test_f1:.4f}\")"
   ]
  },
  {
   "cell_type": "markdown",
   "id": "8441d28b-5b9c-4a4c-89bb-a3cbc7355fbd",
   "metadata": {},
   "source": [
    "# IF"
   ]
  },
  {
   "cell_type": "code",
   "execution_count": 72,
   "id": "911a9fdb-288c-45d1-bdaf-39215145a5f3",
   "metadata": {},
   "outputs": [],
   "source": [
    "from sklearn.ensemble import IsolationForest"
   ]
  },
  {
   "cell_type": "code",
   "execution_count": 73,
   "id": "23c70397-b155-4e23-a55e-a5991a950e26",
   "metadata": {},
   "outputs": [
    {
     "name": "stderr",
     "output_type": "stream",
     "text": [
      "[I 2024-09-24 22:12:51,381] A new study created in memory with name: no-name-4e67f4a4-3bf1-438f-991a-c4b40e18989b\n",
      "[I 2024-09-24 22:12:57,333] Trial 0 finished with value: 0.8910027809586127 and parameters: {'n_estimators': 60, 'max_samples': 0.56979034153423, 'contamination': 0.16097507744919545, 'max_features': 0.7810057267045972}. Best is trial 0 with value: 0.8910027809586127.\n",
      "[I 2024-09-24 22:13:28,885] Trial 1 finished with value: 0.8577970370496002 and parameters: {'n_estimators': 285, 'max_samples': 0.6776615220685762, 'contamination': 0.219816013832347, 'max_features': 0.9643304618166728}. Best is trial 0 with value: 0.8910027809586127.\n",
      "[I 2024-09-24 22:13:55,127] Trial 2 finished with value: 0.8560993915351006 and parameters: {'n_estimators': 243, 'max_samples': 0.989553994537104, 'contamination': 0.015236160020729465, 'max_features': 0.5456240045906047}. Best is trial 0 with value: 0.8910027809586127.\n",
      "[I 2024-09-24 22:14:14,352] Trial 3 finished with value: 0.8034812506715375 and parameters: {'n_estimators': 175, 'max_samples': 0.707136957197311, 'contamination': 0.30860386316933064, 'max_features': 0.9368214788137967}. Best is trial 0 with value: 0.8910027809586127.\n",
      "[I 2024-09-24 22:14:36,742] Trial 4 finished with value: 0.927606576821931 and parameters: {'n_estimators': 211, 'max_samples': 0.6319251937131382, 'contamination': 0.08379200109012803, 'max_features': 0.8742132778526989}. Best is trial 4 with value: 0.927606576821931.\n",
      "[I 2024-09-24 22:14:50,326] Trial 5 finished with value: 0.9289487215444304 and parameters: {'n_estimators': 147, 'max_samples': 0.5806257157496224, 'contamination': 0.08032096226198461, 'max_features': 0.5508516945600865}. Best is trial 5 with value: 0.9289487215444304.\n",
      "[I 2024-09-24 22:15:03,440] Trial 6 finished with value: 0.8381443657079338 and parameters: {'n_estimators': 116, 'max_samples': 0.9864245416652397, 'contamination': 0.2565539241622404, 'max_features': 0.6327716357190822}. Best is trial 5 with value: 0.9289487215444304.\n",
      "[I 2024-09-24 22:15:24,428] Trial 7 finished with value: 0.7162078803300177 and parameters: {'n_estimators': 195, 'max_samples': 0.9157282831712255, 'contamination': 0.4285675819694936, 'max_features': 0.5996317895588998}. Best is trial 5 with value: 0.9289487215444304.\n",
      "[I 2024-09-24 22:15:39,017] Trial 8 finished with value: 0.7863193485057806 and parameters: {'n_estimators': 150, 'max_samples': 0.5058154856332464, 'contamination': 0.3336274525196476, 'max_features': 0.7894315306211659}. Best is trial 5 with value: 0.9289487215444304.\n",
      "[I 2024-09-24 22:15:57,610] Trial 9 finished with value: 0.8396908599511815 and parameters: {'n_estimators': 175, 'max_samples': 0.6402390098365999, 'contamination': 0.011406357610074613, 'max_features': 0.871569002251235}. Best is trial 5 with value: 0.9289487215444304.\n",
      "[I 2024-09-24 22:16:07,674] Trial 10 finished with value: 0.9023373565859597 and parameters: {'n_estimators': 94, 'max_samples': 0.7940029109262611, 'contamination': 0.13784821936758385, 'max_features': 0.6685416936827766}. Best is trial 5 with value: 0.9289487215444304.\n",
      "[I 2024-09-24 22:16:30,168] Trial 11 finished with value: 0.9190789214721512 and parameters: {'n_estimators': 218, 'max_samples': 0.5916455677481802, 'contamination': 0.10085317844997409, 'max_features': 0.8456936013372721}. Best is trial 5 with value: 0.9289487215444304.\n",
      "[I 2024-09-24 22:16:55,313] Trial 12 finished with value: 0.9329344844154435 and parameters: {'n_estimators': 249, 'max_samples': 0.7789767325673157, 'contamination': 0.07135906287212139, 'max_features': 0.5008891766172285}. Best is trial 12 with value: 0.9329344844154435.\n",
      "[I 2024-09-24 22:17:24,188] Trial 13 finished with value: 0.6587120830394034 and parameters: {'n_estimators': 284, 'max_samples': 0.7875664570031062, 'contamination': 0.4987778754246253, 'max_features': 0.5037753609862493}. Best is trial 12 with value: 0.9329344844154435.\n",
      "[I 2024-09-24 22:17:51,682] Trial 14 finished with value: 0.8719662357691893 and parameters: {'n_estimators': 252, 'max_samples': 0.8513493978222206, 'contamination': 0.18885170454005723, 'max_features': 0.7008621581920009}. Best is trial 12 with value: 0.9329344844154435.\n",
      "[I 2024-09-24 22:18:03,650] Trial 15 finished with value: 0.9270769950854201 and parameters: {'n_estimators': 118, 'max_samples': 0.7533942082097762, 'contamination': 0.08381422375392115, 'max_features': 0.5656681546372022}. Best is trial 12 with value: 0.9329344844154435.\n",
      "[I 2024-09-24 22:18:18,004] Trial 16 finished with value: 0.9150874822869478 and parameters: {'n_estimators': 138, 'max_samples': 0.8719993481689242, 'contamination': 0.03850500466530885, 'max_features': 0.5044700257729493}. Best is trial 12 with value: 0.9329344844154435.\n",
      "[I 2024-09-24 22:18:41,428] Trial 17 finished with value: 0.9090576453462936 and parameters: {'n_estimators': 248, 'max_samples': 0.5116369460003941, 'contamination': 0.11990736574399688, 'max_features': 0.7101611579855232}. Best is trial 12 with value: 0.9329344844154435.\n",
      "[I 2024-09-24 22:18:47,680] Trial 18 finished with value: 0.8352109258553156 and parameters: {'n_estimators': 63, 'max_samples': 0.7022170406674928, 'contamination': 0.25818908287782766, 'max_features': 0.6059044100982667}. Best is trial 12 with value: 0.9329344844154435.\n",
      "[I 2024-09-24 22:19:04,092] Trial 19 finished with value: 0.934940281293299 and parameters: {'n_estimators': 162, 'max_samples': 0.8289554938252768, 'contamination': 0.06880835532584378, 'max_features': 0.5568992408362297}. Best is trial 19 with value: 0.934940281293299.\n",
      "[I 2024-09-24 22:19:25,086] Trial 20 finished with value: 0.8739216159330466 and parameters: {'n_estimators': 195, 'max_samples': 0.829099868728859, 'contamination': 0.18996357056576904, 'max_features': 0.6712832301189116}. Best is trial 19 with value: 0.934940281293299.\n",
      "[I 2024-09-24 22:19:41,860] Trial 21 finished with value: 0.9144764226675388 and parameters: {'n_estimators': 159, 'max_samples': 0.9205461311329262, 'contamination': 0.05120487725345464, 'max_features': 0.5523753846480592}. Best is trial 19 with value: 0.934940281293299.\n",
      "[I 2024-09-24 22:19:53,970] Trial 22 finished with value: 0.9346796560542031 and parameters: {'n_estimators': 124, 'max_samples': 0.766458390189155, 'contamination': 0.06692364944828641, 'max_features': 0.544781455904289}. Best is trial 19 with value: 0.934940281293299.\n",
      "[I 2024-09-24 22:20:03,372] Trial 23 finished with value: 0.8978914108847047 and parameters: {'n_estimators': 96, 'max_samples': 0.761593209635956, 'contamination': 0.1426614701047207, 'max_features': 0.5091405668382532}. Best is trial 19 with value: 0.934940281293299.\n",
      "[I 2024-09-24 22:20:16,561] Trial 24 finished with value: 0.9157644259369423 and parameters: {'n_estimators': 129, 'max_samples': 0.8152080449846304, 'contamination': 0.05057194974035925, 'max_features': 0.5948625121636646}. Best is trial 19 with value: 0.934940281293299.\n",
      "[I 2024-09-24 22:20:48,186] Trial 25 finished with value: 0.8800453962301391 and parameters: {'n_estimators': 300, 'max_samples': 0.8804994293444878, 'contamination': 0.17493637347867946, 'max_features': 0.6238811096368778}. Best is trial 19 with value: 0.934940281293299.\n",
      "[I 2024-09-24 22:20:57,575] Trial 26 finished with value: 0.9279581933557297 and parameters: {'n_estimators': 96, 'max_samples': 0.7176225668401691, 'contamination': 0.06108121487641596, 'max_features': 0.5690151317009159}. Best is trial 19 with value: 0.934940281293299.\n",
      "[I 2024-09-24 22:21:21,046] Trial 27 finished with value: 0.9125394484355425 and parameters: {'n_estimators': 229, 'max_samples': 0.7705425023840214, 'contamination': 0.11366182466062258, 'max_features': 0.6575034105977414}. Best is trial 19 with value: 0.934940281293299.\n",
      "[I 2024-09-24 22:21:40,890] Trial 28 finished with value: 0.859079672780095 and parameters: {'n_estimators': 191, 'max_samples': 0.9206533455099636, 'contamination': 0.2211300459531568, 'max_features': 0.5402768448559232}. Best is trial 19 with value: 0.934940281293299.\n",
      "[I 2024-09-24 22:21:48,528] Trial 29 finished with value: 0.8939285014051369 and parameters: {'n_estimators': 73, 'max_samples': 0.7340981688398686, 'contamination': 0.15766225842669307, 'max_features': 0.7478468050947066}. Best is trial 19 with value: 0.934940281293299.\n",
      "[I 2024-09-24 22:22:05,050] Trial 30 finished with value: 0.7941503247310469 and parameters: {'n_estimators': 164, 'max_samples': 0.8191922860464274, 'contamination': 0.32226264146438693, 'max_features': 0.5257312803829427}. Best is trial 19 with value: 0.934940281293299.\n",
      "[I 2024-09-24 22:22:18,554] Trial 31 finished with value: 0.9309827281847096 and parameters: {'n_estimators': 146, 'max_samples': 0.5700272876880191, 'contamination': 0.07646684892703759, 'max_features': 0.5824084695981447}. Best is trial 19 with value: 0.934940281293299.\n",
      "[I 2024-09-24 22:22:29,304] Trial 32 finished with value: 0.9148446581213477 and parameters: {'n_estimators': 112, 'max_samples': 0.6700480215813787, 'contamination': 0.1087737908667298, 'max_features': 0.5828175906667786}. Best is trial 19 with value: 0.934940281293299.\n",
      "[I 2024-09-24 22:22:42,602] Trial 33 finished with value: 0.8988413705134111 and parameters: {'n_estimators': 133, 'max_samples': 0.6722417104538724, 'contamination': 0.02258817714841667, 'max_features': 0.6266179267108258}. Best is trial 19 with value: 0.934940281293299.\n",
      "[I 2024-09-24 22:22:58,719] Trial 34 finished with value: 0.9331005769988336 and parameters: {'n_estimators': 179, 'max_samples': 0.5361112571827535, 'contamination': 0.06842557129809392, 'max_features': 0.522694909609557}. Best is trial 19 with value: 0.934940281293299.\n",
      "[I 2024-09-24 22:23:16,670] Trial 35 finished with value: 0.9173938891294615 and parameters: {'n_estimators': 179, 'max_samples': 0.7959021980386963, 'contamination': 0.03634114015107533, 'max_features': 0.5315058491955578}. Best is trial 19 with value: 0.934940281293299.\n",
      "[I 2024-09-24 22:23:38,325] Trial 36 finished with value: 0.8552262885284877 and parameters: {'n_estimators': 211, 'max_samples': 0.8501200639627774, 'contamination': 0.2233796777429677, 'max_features': 0.5248182115007051}. Best is trial 19 with value: 0.934940281293299.\n",
      "[I 2024-09-24 22:24:04,735] Trial 37 finished with value: 0.9035149497407005 and parameters: {'n_estimators': 255, 'max_samples': 0.5375859113262107, 'contamination': 0.1310089409132572, 'max_features': 0.9834122823975915}. Best is trial 19 with value: 0.934940281293299.\n",
      "[I 2024-09-24 22:24:31,582] Trial 38 finished with value: 0.9298184167308785 and parameters: {'n_estimators': 275, 'max_samples': 0.7284488502735469, 'contamination': 0.07888469536082639, 'max_features': 0.5569342227211844}. Best is trial 19 with value: 0.934940281293299.\n",
      "[I 2024-09-24 22:24:59,166] Trial 39 finished with value: 0.7580479994041966 and parameters: {'n_estimators': 230, 'max_samples': 0.9535430603122245, 'contamination': 0.3731234917706059, 'max_features': 0.9388422884647922}. Best is trial 19 with value: 0.934940281293299.\n",
      "[I 2024-09-24 22:25:26,021] Trial 40 finished with value: 0.9353895404315572 and parameters: {'n_estimators': 265, 'max_samples': 0.6242773904547363, 'contamination': 0.06255943494512746, 'max_features': 0.8043475608276877}. Best is trial 40 with value: 0.9353895404315572.\n",
      "[I 2024-09-24 22:25:52,688] Trial 41 finished with value: 0.9224058121106561 and parameters: {'n_estimators': 264, 'max_samples': 0.6104830201695493, 'contamination': 0.09407563357498845, 'max_features': 0.7886514350204546}. Best is trial 40 with value: 0.9353895404315572.\n",
      "[I 2024-09-24 22:26:20,224] Trial 42 finished with value: 0.8377387059299578 and parameters: {'n_estimators': 268, 'max_samples': 0.6373665072679995, 'contamination': 0.010947487850755909, 'max_features': 0.7582036358096272}. Best is trial 40 with value: 0.9353895404315572.\n",
      "[I 2024-09-24 22:26:52,107] Trial 43 finished with value: 0.9350048423544604 and parameters: {'n_estimators': 297, 'max_samples': 0.6990248985743921, 'contamination': 0.0619167817250297, 'max_features': 0.8143905595990502}. Best is trial 40 with value: 0.9353895404315572.\n",
      "[I 2024-09-24 22:27:22,704] Trial 44 finished with value: 0.9188410720748 and parameters: {'n_estimators': 284, 'max_samples': 0.6907850517682275, 'contamination': 0.03993241646761705, 'max_features': 0.8272388571419735}. Best is trial 40 with value: 0.9353895404315572.\n",
      "[I 2024-09-24 22:27:52,436] Trial 45 finished with value: 0.9359297641378886 and parameters: {'n_estimators': 299, 'max_samples': 0.5346634458297145, 'contamination': 0.0605371917615878, 'max_features': 0.8340395267584781}. Best is trial 45 with value: 0.9359297641378886.\n",
      "[I 2024-09-24 22:28:22,420] Trial 46 finished with value: 0.8910021114178983 and parameters: {'n_estimators': 293, 'max_samples': 0.5927375686165499, 'contamination': 0.15512554106011708, 'max_features': 0.841324779224172}. Best is trial 45 with value: 0.9359297641378886.\n",
      "[I 2024-09-24 22:28:53,610] Trial 47 finished with value: 0.9200893137933204 and parameters: {'n_estimators': 299, 'max_samples': 0.6157213162596935, 'contamination': 0.0983477536677228, 'max_features': 0.876298600799539}. Best is trial 45 with value: 0.9359297641378886.\n",
      "[I 2024-09-24 22:29:20,509] Trial 48 finished with value: 0.8162185126834363 and parameters: {'n_estimators': 276, 'max_samples': 0.5467038773233487, 'contamination': 0.289769294977596, 'max_features': 0.8113257338559247}. Best is trial 45 with value: 0.9359297641378886.\n",
      "[I 2024-09-24 22:29:51,330] Trial 49 finished with value: 0.9162121455832248 and parameters: {'n_estimators': 288, 'max_samples': 0.650960421032613, 'contamination': 0.0340156274336946, 'max_features': 0.8957553641171694}. Best is trial 45 with value: 0.9359297641378886.\n"
     ]
    },
    {
     "name": "stdout",
     "output_type": "stream",
     "text": [
      "Best Hyperparameters: {'n_estimators': 299, 'max_samples': 0.5346634458297145, 'contamination': 0.0605371917615878, 'max_features': 0.8340395267584781}\n"
     ]
    }
   ],
   "source": [
    "def objective(trial):\n",
    "    n_estimators = trial.suggest_int('n_estimators', 50, 300)  \n",
    "    max_samples = trial.suggest_float('max_samples', 0.5, 1.0)  \n",
    "    contamination = trial.suggest_float('contamination', 0.01, 0.5) \n",
    "    max_features = trial.suggest_float('max_features', 0.5, 1.0)\n",
    "\n",
    "    iso_forest = IsolationForest(n_estimators=n_estimators, \n",
    "                                 max_samples=max_samples, \n",
    "                                 contamination=contamination, \n",
    "                                 max_features=max_features, \n",
    "                                 random_state=42)\n",
    "\n",
    "    iso_forest.fit(train_latent_features)\n",
    "    \n",
    "    val_predictions = iso_forest.predict(val_latent_features)\n",
    "    val_true_labels = np.where(y_val == 0, 1, -1)\n",
    "\n",
    "    f1 = f1_score(val_true_labels, val_predictions, pos_label=1, average='binary')\n",
    "    return f1\n",
    "\n",
    "study = optuna.create_study(direction='maximize')\n",
    "study.optimize(objective, n_trials=50)\n",
    "\n",
    "# Get the best hyperparameters\n",
    "best_params = study.best_params\n",
    "print(f\"Best Hyperparameters: {best_params}\")"
   ]
  },
  {
   "cell_type": "code",
   "execution_count": 74,
   "id": "1a3644c6-1377-47c0-8ee4-c20004ebfbf4",
   "metadata": {},
   "outputs": [
    {
     "name": "stdout",
     "output_type": "stream",
     "text": [
      "Test Accuracy: 0.9264\n",
      "Test Precision: 0.9351\n",
      "Test Recall: 0.9381\n",
      "Test F1 Score: 0.9366\n"
     ]
    }
   ],
   "source": [
    "best_iso_forest = IsolationForest(n_estimators=best_params['n_estimators'], \n",
    "                                  max_samples=best_params['max_samples'], \n",
    "                                  contamination=best_params['contamination'], \n",
    "                                  max_features=best_params['max_features'], \n",
    "                                  random_state=42)\n",
    "\n",
    "best_iso_forest.fit(train_latent_features)\n",
    "test_predictions = best_iso_forest.predict(test_latent_features)\n",
    "test_true_labels = np.where(y_test == 0, 1, -1)\n",
    "\n",
    "test_accuracy = accuracy_score(test_true_labels, test_predictions)\n",
    "test_precision = precision_score(test_true_labels, test_predictions, pos_label=1, average='binary')\n",
    "test_recall = recall_score(test_true_labels, test_predictions, pos_label=1, average='binary')\n",
    "test_f1 = f1_score(test_true_labels, test_predictions, pos_label=1, average='binary')\n",
    "\n",
    "print(f\"Test Accuracy: {test_accuracy:.4f}\")\n",
    "print(f\"Test Precision: {test_precision:.4f}\")\n",
    "print(f\"Test Recall: {test_recall:.4f}\")\n",
    "print(f\"Test F1 Score: {test_f1:.4f}\")"
   ]
  },
  {
   "cell_type": "markdown",
   "id": "b7ef4cde-53bb-4472-bd95-1bb2f7006af8",
   "metadata": {},
   "source": [
    "# PCA Reconstruction"
   ]
  },
  {
   "cell_type": "code",
   "execution_count": 75,
   "id": "24b7360e-1ebb-4321-9001-47d18424a5b4",
   "metadata": {},
   "outputs": [],
   "source": [
    "from sklearn.decomposition import PCA"
   ]
  },
  {
   "cell_type": "code",
   "execution_count": 78,
   "id": "8c1875ce-4f29-4126-b38f-d1ac2f46ccc1",
   "metadata": {},
   "outputs": [
    {
     "name": "stderr",
     "output_type": "stream",
     "text": [
      "[I 2024-09-24 22:36:02,134] A new study created in memory with name: no-name-538de325-e4fc-4302-b20b-217c0f38c11b\n",
      "[I 2024-09-24 22:36:02,263] Trial 0 finished with value: 0.8453731919528977 and parameters: {'n_components': 8, 'percentile': 94.3571235697011}. Best is trial 0 with value: 0.8453731919528977.\n",
      "[I 2024-09-24 22:36:02,392] Trial 1 finished with value: 0.840554868229163 and parameters: {'n_components': 5, 'percentile': 93.66298739103162}. Best is trial 0 with value: 0.8453731919528977.\n",
      "[I 2024-09-24 22:36:02,533] Trial 2 finished with value: 0.7448973596700469 and parameters: {'n_components': 3, 'percentile': 97.5783813785262}. Best is trial 0 with value: 0.8453731919528977.\n",
      "[I 2024-09-24 22:36:02,669] Trial 3 finished with value: 0.7335198086600995 and parameters: {'n_components': 16, 'percentile': 97.44901626986382}. Best is trial 0 with value: 0.8453731919528977.\n",
      "[I 2024-09-24 22:36:02,803] Trial 4 finished with value: 0.817567009173301 and parameters: {'n_components': 7, 'percentile': 91.31299506839693}. Best is trial 0 with value: 0.8453731919528977.\n",
      "[I 2024-09-24 22:36:02,929] Trial 5 finished with value: 0.8536810672624546 and parameters: {'n_components': 5, 'percentile': 91.80437161609791}. Best is trial 5 with value: 0.8536810672624546.\n",
      "[I 2024-09-24 22:36:03,059] Trial 6 finished with value: 0.8365004779124251 and parameters: {'n_components': 8, 'percentile': 96.3025714329681}. Best is trial 5 with value: 0.8536810672624546.\n",
      "[I 2024-09-24 22:36:03,196] Trial 7 finished with value: 0.8498709113455714 and parameters: {'n_components': 9, 'percentile': 96.61127333858887}. Best is trial 5 with value: 0.8536810672624546.\n",
      "[I 2024-09-24 22:36:03,335] Trial 8 finished with value: 0.7290349479407615 and parameters: {'n_components': 16, 'percentile': 98.20290921745033}. Best is trial 5 with value: 0.8536810672624546.\n",
      "[I 2024-09-24 22:36:03,468] Trial 9 finished with value: 0.7618226382777663 and parameters: {'n_components': 10, 'percentile': 99.25183948307121}. Best is trial 5 with value: 0.8536810672624546.\n",
      "[I 2024-09-24 22:36:03,612] Trial 10 finished with value: 0.7126355593172864 and parameters: {'n_components': 2, 'percentile': 90.1163182526931}. Best is trial 5 with value: 0.8536810672624546.\n",
      "[I 2024-09-24 22:36:03,765] Trial 11 finished with value: 0.8612993765220931 and parameters: {'n_components': 11, 'percentile': 92.68465550088267}. Best is trial 11 with value: 0.8612993765220931.\n",
      "[I 2024-09-24 22:36:03,911] Trial 12 finished with value: 0.8031622135494847 and parameters: {'n_components': 12, 'percentile': 92.61616827381427}. Best is trial 11 with value: 0.8612993765220931.\n",
      "[I 2024-09-24 22:36:04,061] Trial 13 finished with value: 0.8033292520556927 and parameters: {'n_components': 12, 'percentile': 92.37910472184291}. Best is trial 11 with value: 0.8612993765220931.\n",
      "[I 2024-09-24 22:36:04,199] Trial 14 finished with value: 0.8642805031724626 and parameters: {'n_components': 5, 'percentile': 90.26978648143937}. Best is trial 14 with value: 0.8642805031724626.\n",
      "[I 2024-09-24 22:36:04,344] Trial 15 finished with value: 0.8006389993542028 and parameters: {'n_components': 12, 'percentile': 90.67022806791974}. Best is trial 14 with value: 0.8642805031724626.\n",
      "[I 2024-09-24 22:36:04,492] Trial 16 finished with value: 0.7757836681144837 and parameters: {'n_components': 14, 'percentile': 93.69975226868196}. Best is trial 14 with value: 0.8642805031724626.\n",
      "[I 2024-09-24 22:36:04,633] Trial 17 finished with value: 0.8291563524453067 and parameters: {'n_components': 5, 'percentile': 95.39056687951367}. Best is trial 14 with value: 0.8642805031724626.\n",
      "[I 2024-09-24 22:36:04,780] Trial 18 finished with value: 0.8479923786040516 and parameters: {'n_components': 10, 'percentile': 93.13066611948105}. Best is trial 14 with value: 0.8642805031724626.\n",
      "[I 2024-09-24 22:36:04,924] Trial 19 finished with value: 0.8578299290163697 and parameters: {'n_components': 6, 'percentile': 91.11277537528142}. Best is trial 14 with value: 0.8642805031724626.\n",
      "[I 2024-09-24 22:36:05,069] Trial 20 finished with value: 0.7100996560864212 and parameters: {'n_components': 3, 'percentile': 90.01106937133149}. Best is trial 14 with value: 0.8642805031724626.\n",
      "[I 2024-09-24 22:36:05,217] Trial 21 finished with value: 0.8575237846807092 and parameters: {'n_components': 6, 'percentile': 91.06055841994653}. Best is trial 14 with value: 0.8642805031724626.\n",
      "[I 2024-09-24 22:36:05,359] Trial 22 finished with value: 0.7578467361896173 and parameters: {'n_components': 4, 'percentile': 91.7581375600159}. Best is trial 14 with value: 0.8642805031724626.\n",
      "[I 2024-09-24 22:36:05,510] Trial 23 finished with value: 0.8587022698459312 and parameters: {'n_components': 6, 'percentile': 92.26502134224816}. Best is trial 14 with value: 0.8642805031724626.\n",
      "[I 2024-09-24 22:36:05,663] Trial 24 finished with value: 0.8625745938280581 and parameters: {'n_components': 10, 'percentile': 92.23791547998304}. Best is trial 14 with value: 0.8642805031724626.\n",
      "[I 2024-09-24 22:36:05,809] Trial 25 finished with value: 0.8432637259663066 and parameters: {'n_components': 10, 'percentile': 94.78507648094806}. Best is trial 14 with value: 0.8642805031724626.\n",
      "[I 2024-09-24 22:36:05,961] Trial 26 finished with value: 0.7751861613654393 and parameters: {'n_components': 13, 'percentile': 93.24442221852227}. Best is trial 14 with value: 0.8642805031724626.\n",
      "[I 2024-09-24 22:36:06,111] Trial 27 finished with value: 0.8536624180784421 and parameters: {'n_components': 11, 'percentile': 90.67541827176821}. Best is trial 14 with value: 0.8642805031724626.\n",
      "[I 2024-09-24 22:36:06,262] Trial 28 finished with value: 0.7756923617390852 and parameters: {'n_components': 14, 'percentile': 91.76073080398773}. Best is trial 14 with value: 0.8642805031724626.\n",
      "[I 2024-09-24 22:36:06,410] Trial 29 finished with value: 0.8448703463859571 and parameters: {'n_components': 8, 'percentile': 94.38060495282934}. Best is trial 14 with value: 0.8642805031724626.\n",
      "[I 2024-09-24 22:36:06,563] Trial 30 finished with value: 0.8548387096774194 and parameters: {'n_components': 9, 'percentile': 95.74943707218296}. Best is trial 14 with value: 0.8642805031724626.\n",
      "[I 2024-09-24 22:36:06,707] Trial 31 finished with value: 0.8224232747915557 and parameters: {'n_components': 7, 'percentile': 92.6535058437824}. Best is trial 14 with value: 0.8642805031724626.\n",
      "[I 2024-09-24 22:36:06,859] Trial 32 finished with value: 0.8246287831660942 and parameters: {'n_components': 7, 'percentile': 93.80286204185734}. Best is trial 14 with value: 0.8642805031724626.\n",
      "[I 2024-09-24 22:36:07,009] Trial 33 finished with value: 0.8867411299945894 and parameters: {'n_components': 9, 'percentile': 92.23337784012091}. Best is trial 33 with value: 0.8867411299945894.\n",
      "[I 2024-09-24 22:36:07,163] Trial 34 finished with value: 0.8631213098875429 and parameters: {'n_components': 11, 'percentile': 93.16393163644807}. Best is trial 33 with value: 0.8867411299945894.\n",
      "[I 2024-09-24 22:36:07,315] Trial 35 finished with value: 0.8658745314378669 and parameters: {'n_components': 11, 'percentile': 94.09837768343202}. Best is trial 33 with value: 0.8867411299945894.\n",
      "[I 2024-09-24 22:36:07,462] Trial 36 finished with value: 0.7766957051013809 and parameters: {'n_components': 13, 'percentile': 94.18697111215081}. Best is trial 33 with value: 0.8867411299945894.\n",
      "[I 2024-09-24 22:36:07,617] Trial 37 finished with value: 0.8692899595164949 and parameters: {'n_components': 8, 'percentile': 93.24113862268422}. Best is trial 33 with value: 0.8867411299945894.\n",
      "[I 2024-09-24 22:36:07,765] Trial 38 finished with value: 0.8436458861757407 and parameters: {'n_components': 8, 'percentile': 94.72770149471806}. Best is trial 33 with value: 0.8867411299945894.\n",
      "[I 2024-09-24 22:36:07,913] Trial 39 finished with value: 0.8551948051948052 and parameters: {'n_components': 9, 'percentile': 95.3464029470807}. Best is trial 33 with value: 0.8867411299945894.\n",
      "[I 2024-09-24 22:36:08,055] Trial 40 finished with value: 0.7585433459712619 and parameters: {'n_components': 4, 'percentile': 91.53059509428557}. Best is trial 33 with value: 0.8867411299945894.\n",
      "[I 2024-09-24 22:36:08,207] Trial 41 finished with value: 0.8629839370303095 and parameters: {'n_components': 11, 'percentile': 93.13041880235787}. Best is trial 33 with value: 0.8867411299945894.\n",
      "[I 2024-09-24 22:36:08,358] Trial 42 finished with value: 0.8690030817745288 and parameters: {'n_components': 9, 'percentile': 93.42664119867467}. Best is trial 33 with value: 0.8867411299945894.\n",
      "[I 2024-09-24 22:36:08,507] Trial 43 finished with value: 0.8224549226909859 and parameters: {'n_components': 7, 'percentile': 94.06083742569605}. Best is trial 33 with value: 0.8867411299945894.\n",
      "[I 2024-09-24 22:36:08,653] Trial 44 finished with value: 0.8620200156150188 and parameters: {'n_components': 8, 'percentile': 93.51196734103029}. Best is trial 33 with value: 0.8867411299945894.\n",
      "[I 2024-09-24 22:36:08,802] Trial 45 finished with value: 0.8594993833389394 and parameters: {'n_components': 9, 'percentile': 94.47434264808281}. Best is trial 33 with value: 0.8867411299945894.\n",
      "[I 2024-09-24 22:36:08,949] Trial 46 finished with value: 0.7255859600508024 and parameters: {'n_components': 2, 'percentile': 96.7019920445283}. Best is trial 33 with value: 0.8867411299945894.\n",
      "[I 2024-09-24 22:36:09,098] Trial 47 finished with value: 0.8888326799038826 and parameters: {'n_components': 9, 'percentile': 92.1065806405173}. Best is trial 47 with value: 0.8888326799038826.\n",
      "[I 2024-09-24 22:36:09,245] Trial 48 finished with value: 0.8628222308678799 and parameters: {'n_components': 10, 'percentile': 92.18552359581099}. Best is trial 47 with value: 0.8888326799038826.\n",
      "[I 2024-09-24 22:36:09,389] Trial 49 finished with value: 0.8771155261221486 and parameters: {'n_components': 9, 'percentile': 92.77127383138243}. Best is trial 47 with value: 0.8888326799038826.\n",
      "[I 2024-09-24 22:36:09,530] Trial 50 finished with value: 0.8731829210878934 and parameters: {'n_components': 9, 'percentile': 92.9072487885606}. Best is trial 47 with value: 0.8888326799038826.\n",
      "[I 2024-09-24 22:36:09,677] Trial 51 finished with value: 0.8729623302545096 and parameters: {'n_components': 9, 'percentile': 92.93312260570086}. Best is trial 47 with value: 0.8888326799038826.\n",
      "[I 2024-09-24 22:36:09,825] Trial 52 finished with value: 0.8775118709837417 and parameters: {'n_components': 9, 'percentile': 92.71596860676352}. Best is trial 47 with value: 0.8888326799038826.\n",
      "[I 2024-09-24 22:36:09,977] Trial 53 finished with value: 0.8774034606918468 and parameters: {'n_components': 9, 'percentile': 92.75895971752819}. Best is trial 47 with value: 0.8888326799038826.\n",
      "[I 2024-09-24 22:36:10,127] Trial 54 finished with value: 0.8654616582750752 and parameters: {'n_components': 10, 'percentile': 91.9390258388801}. Best is trial 47 with value: 0.8888326799038826.\n",
      "[I 2024-09-24 22:36:10,279] Trial 55 finished with value: 0.8778141151049726 and parameters: {'n_components': 9, 'percentile': 92.67334795600465}. Best is trial 47 with value: 0.8888326799038826.\n",
      "[I 2024-09-24 22:36:10,427] Trial 56 finished with value: 0.818046685752037 and parameters: {'n_components': 7, 'percentile': 91.4238611111344}. Best is trial 47 with value: 0.8888326799038826.\n",
      "[I 2024-09-24 22:36:10,571] Trial 57 finished with value: 0.8790953178603038 and parameters: {'n_components': 8, 'percentile': 92.48494683950777}. Best is trial 47 with value: 0.8888326799038826.\n",
      "[I 2024-09-24 22:36:10,721] Trial 58 finished with value: 0.8761205891309353 and parameters: {'n_components': 8, 'percentile': 90.8312732359357}. Best is trial 47 with value: 0.8888326799038826.\n",
      "[I 2024-09-24 22:36:10,869] Trial 59 finished with value: 0.8203360088834663 and parameters: {'n_components': 7, 'percentile': 91.96640502325178}. Best is trial 47 with value: 0.8888326799038826.\n",
      "[I 2024-09-24 22:36:11,021] Trial 60 finished with value: 0.8613981544648307 and parameters: {'n_components': 10, 'percentile': 92.34125744309443}. Best is trial 47 with value: 0.8888326799038826.\n",
      "[I 2024-09-24 22:36:11,175] Trial 61 finished with value: 0.8791469194312796 and parameters: {'n_components': 9, 'percentile': 92.6324839322523}. Best is trial 47 with value: 0.8888326799038826.\n",
      "[I 2024-09-24 22:36:11,326] Trial 62 finished with value: 0.883752128373149 and parameters: {'n_components': 9, 'percentile': 92.40913043046363}. Best is trial 47 with value: 0.8888326799038826.\n",
      "[I 2024-09-24 22:36:11,470] Trial 63 finished with value: 0.8770583485803598 and parameters: {'n_components': 8, 'percentile': 91.16043975492137}. Best is trial 47 with value: 0.8888326799038826.\n",
      "[I 2024-09-24 22:36:11,620] Trial 64 finished with value: 0.7618457031826745 and parameters: {'n_components': 10, 'percentile': 99.25782021452818}. Best is trial 47 with value: 0.8888326799038826.\n",
      "[I 2024-09-24 22:36:11,766] Trial 65 finished with value: 0.8791367959034382 and parameters: {'n_components': 8, 'percentile': 92.48169498824744}. Best is trial 47 with value: 0.8888326799038826.\n",
      "[I 2024-09-24 22:36:11,912] Trial 66 finished with value: 0.8592585115433977 and parameters: {'n_components': 6, 'percentile': 91.698357587111}. Best is trial 47 with value: 0.8888326799038826.\n",
      "[I 2024-09-24 22:36:12,064] Trial 67 finished with value: 0.8795133983794585 and parameters: {'n_components': 8, 'percentile': 92.45937195949651}. Best is trial 47 with value: 0.8888326799038826.\n",
      "[I 2024-09-24 22:36:12,213] Trial 68 finished with value: 0.8561952385811963 and parameters: {'n_components': 6, 'percentile': 90.36419021416644}. Best is trial 47 with value: 0.8888326799038826.\n",
      "[I 2024-09-24 22:36:12,361] Trial 69 finished with value: 0.8790316671795548 and parameters: {'n_components': 8, 'percentile': 92.33844717187425}. Best is trial 47 with value: 0.8888326799038826.\n",
      "[I 2024-09-24 22:36:12,509] Trial 70 finished with value: 0.8201181730420315 and parameters: {'n_components': 7, 'percentile': 92.04556076234702}. Best is trial 47 with value: 0.8888326799038826.\n",
      "[I 2024-09-24 22:36:12,660] Trial 71 finished with value: 0.8778392104466705 and parameters: {'n_components': 8, 'percentile': 91.52520892997221}. Best is trial 47 with value: 0.8888326799038826.\n",
      "[I 2024-09-24 22:36:12,809] Trial 72 finished with value: 0.8794547424521948 and parameters: {'n_components': 8, 'percentile': 92.44246478137204}. Best is trial 47 with value: 0.8888326799038826.\n",
      "[I 2024-09-24 22:36:12,968] Trial 73 finished with value: 0.8791601126678129 and parameters: {'n_components': 8, 'percentile': 92.47689615678817}. Best is trial 47 with value: 0.8888326799038826.\n",
      "[I 2024-09-24 22:36:13,121] Trial 74 finished with value: 0.825170081869917 and parameters: {'n_components': 7, 'percentile': 93.5791518942152}. Best is trial 47 with value: 0.8888326799038826.\n",
      "[I 2024-09-24 22:36:13,272] Trial 75 finished with value: 0.8785817145208217 and parameters: {'n_components': 8, 'percentile': 92.01539323368479}. Best is trial 47 with value: 0.8888326799038826.\n",
      "[I 2024-09-24 22:36:13,426] Trial 76 finished with value: 0.8701287276779169 and parameters: {'n_components': 10, 'percentile': 91.31348992402586}. Best is trial 47 with value: 0.8888326799038826.\n",
      "[I 2024-09-24 22:36:13,578] Trial 77 finished with value: 0.8675378315826954 and parameters: {'n_components': 9, 'percentile': 93.87180422521168}. Best is trial 47 with value: 0.8888326799038826.\n",
      "[I 2024-09-24 22:36:13,733] Trial 78 finished with value: 0.8158750543737183 and parameters: {'n_components': 7, 'percentile': 90.88169477542071}. Best is trial 47 with value: 0.8888326799038826.\n",
      "[I 2024-09-24 22:36:13,883] Trial 79 finished with value: 0.7662181629078824 and parameters: {'n_components': 6, 'percentile': 98.72342492753944}. Best is trial 47 with value: 0.8888326799038826.\n",
      "[I 2024-09-24 22:36:14,032] Trial 80 finished with value: 0.8783398107655661 and parameters: {'n_components': 8, 'percentile': 91.6561067829357}. Best is trial 47 with value: 0.8888326799038826.\n",
      "[I 2024-09-24 22:36:14,182] Trial 81 finished with value: 0.8791146092401323 and parameters: {'n_components': 8, 'percentile': 92.48449491322309}. Best is trial 47 with value: 0.8888326799038826.\n",
      "[I 2024-09-24 22:36:14,334] Trial 82 finished with value: 0.8752237594486277 and parameters: {'n_components': 8, 'percentile': 92.95808126862028}. Best is trial 47 with value: 0.8888326799038826.\n",
      "[I 2024-09-24 22:36:14,480] Trial 83 finished with value: 0.8833786382019492 and parameters: {'n_components': 9, 'percentile': 92.42413646023786}. Best is trial 47 with value: 0.8888326799038826.\n",
      "[I 2024-09-24 22:36:14,629] Trial 84 finished with value: 0.8628242074927954 and parameters: {'n_components': 10, 'percentile': 92.18660157294744}. Best is trial 47 with value: 0.8888326799038826.\n",
      "[I 2024-09-24 22:36:14,779] Trial 85 finished with value: 0.8698158503802309 and parameters: {'n_components': 9, 'percentile': 93.24574002468428}. Best is trial 47 with value: 0.8888326799038826.\n",
      "[I 2024-09-24 22:36:14,927] Trial 86 finished with value: 0.859877444663975 and parameters: {'n_components': 10, 'percentile': 92.45928618035762}. Best is trial 47 with value: 0.8888326799038826.\n",
      "[I 2024-09-24 22:36:15,079] Trial 87 finished with value: 0.8578551824230145 and parameters: {'n_components': 11, 'percentile': 91.74642076291654}. Best is trial 47 with value: 0.8888326799038826.\n",
      "[I 2024-09-24 22:36:15,228] Trial 88 finished with value: 0.8688632713925212 and parameters: {'n_components': 9, 'percentile': 93.38295980963991}. Best is trial 47 with value: 0.8888326799038826.\n",
      "[I 2024-09-24 22:36:15,382] Trial 89 finished with value: 0.7320044985221563 and parameters: {'n_components': 16, 'percentile': 99.66408471666499}. Best is trial 47 with value: 0.8888326799038826.\n",
      "[I 2024-09-24 22:36:15,537] Trial 90 finished with value: 0.8709172372493705 and parameters: {'n_components': 9, 'percentile': 93.01392847670118}. Best is trial 47 with value: 0.8888326799038826.\n",
      "[I 2024-09-24 22:36:15,690] Trial 91 finished with value: 0.8789706473663048 and parameters: {'n_components': 8, 'percentile': 92.5353779260257}. Best is trial 47 with value: 0.8888326799038826.\n",
      "[I 2024-09-24 22:36:15,839] Trial 92 finished with value: 0.8789356203007519 and parameters: {'n_components': 8, 'percentile': 92.13357132916089}. Best is trial 47 with value: 0.8888326799038826.\n",
      "[I 2024-09-24 22:36:15,995] Trial 93 finished with value: 0.882053769605033 and parameters: {'n_components': 9, 'percentile': 92.48469758288832}. Best is trial 47 with value: 0.8888326799038826.\n",
      "[I 2024-09-24 22:36:16,149] Trial 94 finished with value: 0.8908381774981694 and parameters: {'n_components': 9, 'percentile': 91.8814816456342}. Best is trial 94 with value: 0.8908381774981694.\n",
      "[I 2024-09-24 22:36:16,297] Trial 95 finished with value: 0.8980793154716752 and parameters: {'n_components': 9, 'percentile': 91.25247022845221}. Best is trial 95 with value: 0.8980793154716752.\n",
      "[I 2024-09-24 22:36:16,454] Trial 96 finished with value: 0.8975314676768911 and parameters: {'n_components': 10, 'percentile': 90.44595879311724}. Best is trial 95 with value: 0.8980793154716752.\n",
      "[I 2024-09-24 22:36:16,605] Trial 97 finished with value: 0.8527729096360239 and parameters: {'n_components': 11, 'percentile': 90.48936264534582}. Best is trial 95 with value: 0.8980793154716752.\n",
      "[I 2024-09-24 22:36:16,763] Trial 98 finished with value: 0.89769417103609 and parameters: {'n_components': 10, 'percentile': 90.14693711917145}. Best is trial 95 with value: 0.8980793154716752.\n",
      "[I 2024-09-24 22:36:16,911] Trial 99 finished with value: 0.7997544505831798 and parameters: {'n_components': 12, 'percentile': 90.24307100530605}. Best is trial 95 with value: 0.8980793154716752.\n"
     ]
    },
    {
     "name": "stdout",
     "output_type": "stream",
     "text": [
      "Best Hyperparameters: {'n_components': 9, 'percentile': 91.25247022845221}\n"
     ]
    }
   ],
   "source": [
    "def reconstruction_error(X, pca):\n",
    "    X_pca = pca.transform(X)\n",
    "    X_reconstructed = pca.inverse_transform(X_pca)\n",
    "    return np.mean((X - X_reconstructed) ** 2, axis=1)\n",
    "    \n",
    "def objective(trial):\n",
    "    n_components = trial.suggest_int('n_components', 2, min(train_latent_features.shape[1], 50))\n",
    "    percentile = trial.suggest_float('percentile', 90.0, 99.9)  \n",
    "\n",
    "    pca = PCA(n_components=n_components, whiten=True, svd_solver='auto')\n",
    "\n",
    "    normal_data_pca = pca.fit_transform(train_latent_features)\n",
    "    normal_data_reconstructed = pca.inverse_transform(normal_data_pca)\n",
    "\n",
    "    reconstruction_errors = np.mean((train_latent_features - normal_data_reconstructed) ** 2, axis=1)\n",
    "    threshold = np.percentile(reconstruction_errors, percentile)\n",
    "    val_reconstruction_errors = reconstruction_error(val_latent_features, pca)\n",
    "    val_predictions = np.where(val_reconstruction_errors > threshold, -1, 1)\n",
    "\n",
    "    val_true_labels = np.where(y_val == 0, 1, -1)\n",
    "\n",
    "    f1 = f1_score(val_true_labels, val_predictions, pos_label=1, average='binary')\n",
    "\n",
    "    return f1\n",
    "\n",
    "study = optuna.create_study(direction='maximize')\n",
    "study.optimize(objective, n_trials=100)\n",
    "\n",
    "best_params = study.best_params\n",
    "print(f\"Best Hyperparameters: {best_params}\")"
   ]
  },
  {
   "cell_type": "code",
   "execution_count": 79,
   "id": "283e41bb-dbaa-40ff-b9a8-593c994a7314",
   "metadata": {},
   "outputs": [
    {
     "name": "stdout",
     "output_type": "stream",
     "text": [
      "Test Accuracy: 0.8808\n",
      "Test Precision: 0.8853\n",
      "Test Recall: 0.9124\n",
      "Test F1 Score: 0.8987\n"
     ]
    }
   ],
   "source": [
    "best_pca = PCA(n_components=best_params['n_components'], whiten=True, svd_solver='auto')\n",
    "\n",
    "normal_data_pca = best_pca.fit_transform(train_latent_features)\n",
    "normal_data_reconstructed = best_pca.inverse_transform(normal_data_pca)\n",
    "\n",
    "reconstruction_errors = np.mean((train_latent_features - normal_data_reconstructed) ** 2, axis=1)\n",
    "\n",
    "threshold = np.percentile(reconstruction_errors, best_params['percentile'])\n",
    "\n",
    "test_pca = best_pca.transform(test_latent_features)\n",
    "test_reconstructed = best_pca.inverse_transform(test_pca)\n",
    "test_reconstruction_errors = np.mean((test_latent_features - test_reconstructed) ** 2, axis=1)\n",
    "\n",
    "test_predictions = np.where(test_reconstruction_errors > threshold, -1, 1) \n",
    "\n",
    "test_true_labels = np.where(y_test == 0, 1, -1)\n",
    "\n",
    "test_accuracy = accuracy_score(test_true_labels, test_predictions)\n",
    "test_precision = precision_score(test_true_labels, test_predictions, pos_label=1, average='binary')\n",
    "test_recall = recall_score(test_true_labels, test_predictions, pos_label=1, average='binary')\n",
    "test_f1 = f1_score(test_true_labels, test_predictions, pos_label=1, average='binary')\n",
    "\n",
    "print(f\"Test Accuracy: {test_accuracy:.4f}\")\n",
    "print(f\"Test Precision: {test_precision:.4f}\")\n",
    "print(f\"Test Recall: {test_recall:.4f}\")\n",
    "print(f\"Test F1 Score: {test_f1:.4f}\")"
   ]
  }
 ],
 "metadata": {
  "kernelspec": {
   "display_name": "Python 3 (ipykernel)",
   "language": "python",
   "name": "python3"
  },
  "language_info": {
   "codemirror_mode": {
    "name": "ipython",
    "version": 3
   },
   "file_extension": ".py",
   "mimetype": "text/x-python",
   "name": "python",
   "nbconvert_exporter": "python",
   "pygments_lexer": "ipython3",
   "version": "3.11.9"
  }
 },
 "nbformat": 4,
 "nbformat_minor": 5
}
