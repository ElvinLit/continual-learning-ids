{
 "cells": [
  {
   "cell_type": "markdown",
   "id": "701d42fa-fa25-4f44-babe-7950b1ebad0f",
   "metadata": {},
   "source": [
    "# Imports"
   ]
  },
  {
   "cell_type": "code",
   "execution_count": 2,
   "id": "12a730eb-6200-45b1-b54a-afb0099f42a2",
   "metadata": {},
   "outputs": [],
   "source": [
    "import pandas as pd\n",
    "import numpy as np\n",
    "import matplotlib.pyplot as plt\n",
    "\n",
    "from sklearn.model_selection import train_test_split, GridSearchCV\n",
    "from deepod.metrics import tabular_metrics\n",
    "from sklearn.metrics import accuracy_score, precision_score, recall_score, f1_score\n",
    "\n",
    "from tqdm import tqdm\n",
    "from time import time"
   ]
  },
  {
   "cell_type": "code",
   "execution_count": 3,
   "id": "323c86ac-b77a-4176-a19b-cc254198860e",
   "metadata": {},
   "outputs": [],
   "source": [
    "X_train = np.load('data/x_train.npy')\n",
    "y_train = np.load('data/y_train.npy')\n",
    "\n",
    "X_test = np.load('data/x_test.npy')\n",
    "y_test = np.load('data/y_test.npy')\n",
    "\n",
    "X_val = np.load('data/x_val.npy')\n",
    "y_val = np.load('data/y_val.npy')"
   ]
  },
  {
   "cell_type": "code",
   "execution_count": 4,
   "id": "b4f53dd4-c836-4f18-be9f-ead9e15a2c9a",
   "metadata": {},
   "outputs": [],
   "source": [
    "X_train = np.concatenate((X_train, X_val), axis=0)\n",
    "y_train = np.concatenate((y_train, y_val), axis=0)"
   ]
  },
  {
   "cell_type": "markdown",
   "id": "e1afcfae-9b3e-418e-8df9-0f41c099a495",
   "metadata": {
    "tags": []
   },
   "source": [
    "# Playground"
   ]
  },
  {
   "cell_type": "code",
   "execution_count": 5,
   "id": "d79e84cd-3e88-43d6-9a90-5834e4d0b646",
   "metadata": {},
   "outputs": [
    {
     "data": {
      "text/plain": [
       "(array([ 0,  1,  2,  3,  4,  5,  6,  7,  8,  9, 10, 11, 12, 13, 14, 15, 16,\n",
       "        17, 18]),\n",
       " array([ 37592,   2279,   1674,  18202,  17706,     23,   4058,  30357,\n",
       "         16645,     90,   4762, 324955,  61707,    812,  25292,   1693,\n",
       "           367,    916,  11789]))"
      ]
     },
     "execution_count": 5,
     "metadata": {},
     "output_type": "execute_result"
    }
   ],
   "source": [
    "np.unique(y_train, return_counts=True)"
   ]
  },
  {
   "cell_type": "markdown",
   "id": "c26860cb-afc6-462b-a65f-f9c14f733be8",
   "metadata": {},
   "source": [
    "11 is normal class"
   ]
  },
  {
   "cell_type": "code",
   "execution_count": 6,
   "id": "09299cdd-bdf5-40ed-b95d-82aae54b5284",
   "metadata": {},
   "outputs": [],
   "source": [
    "y_test_binary = np.where(y_test == 11, 'normal', 'anomaly')"
   ]
  },
  {
   "cell_type": "code",
   "execution_count": 7,
   "id": "11109899-e1c2-454a-85a9-44b89befaeef",
   "metadata": {},
   "outputs": [],
   "source": [
    "normal_data = X_train[y_train == 11] # 11 is normal class"
   ]
  },
  {
   "cell_type": "code",
   "execution_count": 8,
   "id": "04c96228-4afc-4ec0-9eec-070308871cad",
   "metadata": {},
   "outputs": [
    {
     "data": {
      "text/plain": [
       "324955"
      ]
     },
     "execution_count": 8,
     "metadata": {},
     "output_type": "execute_result"
    }
   ],
   "source": [
    "len(normal_data)"
   ]
  },
  {
   "cell_type": "markdown",
   "id": "66d5cb01-b1aa-4bfa-9133-51962151230d",
   "metadata": {
    "tags": []
   },
   "source": [
    "# Helpers"
   ]
  },
  {
   "cell_type": "code",
   "execution_count": 9,
   "id": "2cfb9704-c52b-4c9f-8c23-655eab0d1649",
   "metadata": {},
   "outputs": [],
   "source": [
    "def evaluate_model(model, y_test, y_pred):\n",
    "    positive_class = \"normal\"\n",
    "    \n",
    "    accuracy = accuracy_score(y_test, y_pred)\n",
    "    \n",
    "    precision = precision_score(y_test, y_pred, pos_label=positive_class)\n",
    "    recall = recall_score(y_test, y_pred, pos_label=positive_class)\n",
    "    f1 = f1_score(y_test, y_pred, pos_label=positive_class)\n",
    "    \n",
    "    metrics = {\n",
    "        'model': [model],\n",
    "        'accuracy': [accuracy],\n",
    "        'precision': [precision],\n",
    "        'recall': [recall],\n",
    "        'f1': [f1],\n",
    "    }\n",
    "    \n",
    "    return metrics"
   ]
  },
  {
   "cell_type": "markdown",
   "id": "45b50a07-7246-473f-8f6f-531d37acd4b5",
   "metadata": {
    "jp-MarkdownHeadingCollapsed": true,
    "tags": []
   },
   "source": [
    "# DIF"
   ]
  },
  {
   "cell_type": "code",
   "execution_count": 8,
   "id": "b10d8531-be07-4bef-ab71-ff5639fe5dab",
   "metadata": {},
   "outputs": [],
   "source": [
    "from deepod.models.tabular import DeepIsolationForest"
   ]
  },
  {
   "cell_type": "code",
   "execution_count": 11,
   "id": "cfbe9b4c-fd4c-4e91-b534-7426484c5eeb",
   "metadata": {},
   "outputs": [
    {
     "name": "stdout",
     "output_type": "stream",
     "text": [
      "Start Training...\n"
     ]
    },
    {
     "name": "stderr",
     "output_type": "stream",
     "text": [
      "100%|██████████| 50/50 [02:49<00:00,  3.40s/it]\n"
     ]
    },
    {
     "name": "stdout",
     "output_type": "stream",
     "text": [
      "Start Inference on the training data...\n",
      "Start Inference...\n"
     ]
    },
    {
     "name": "stderr",
     "output_type": "stream",
     "text": [
      "100%|██████████| 50/50 [11:17<00:00, 13.55s/it]\n"
     ]
    },
    {
     "name": "stdout",
     "output_type": "stream",
     "text": [
      "Start Inference...\n"
     ]
    },
    {
     "name": "stderr",
     "output_type": "stream",
     "text": [
      "100%|██████████| 50/50 [04:24<00:00,  5.29s/it]\n"
     ]
    }
   ],
   "source": [
    "clf_dif = DeepIsolationForest()\n",
    "clf_dif.fit(normal_data, y=None)\n",
    "y_preds_dif = clf_dif.predict(X_test)"
   ]
  },
  {
   "cell_type": "code",
   "execution_count": 40,
   "id": "b73e1091-7f36-444e-b4c3-fd1157bfe1b6",
   "metadata": {},
   "outputs": [],
   "source": [
    "y_preds_dif_binary = np.where(y_preds_dif == 0, 'normal', 'anomaly')"
   ]
  },
  {
   "cell_type": "code",
   "execution_count": 57,
   "id": "94e6f314-4175-4888-8430-a2ec067eb5a5",
   "metadata": {},
   "outputs": [
    {
     "data": {
      "text/html": [
       "<div>\n",
       "<style scoped>\n",
       "    .dataframe tbody tr th:only-of-type {\n",
       "        vertical-align: middle;\n",
       "    }\n",
       "\n",
       "    .dataframe tbody tr th {\n",
       "        vertical-align: top;\n",
       "    }\n",
       "\n",
       "    .dataframe thead th {\n",
       "        text-align: right;\n",
       "    }\n",
       "</style>\n",
       "<table border=\"1\" class=\"dataframe\">\n",
       "  <thead>\n",
       "    <tr style=\"text-align: right;\">\n",
       "      <th></th>\n",
       "      <th>model</th>\n",
       "      <th>accuracy</th>\n",
       "      <th>precision</th>\n",
       "      <th>recall</th>\n",
       "      <th>f1</th>\n",
       "    </tr>\n",
       "  </thead>\n",
       "  <tbody>\n",
       "    <tr>\n",
       "      <th>0</th>\n",
       "      <td>DIF</td>\n",
       "      <td>0.866398</td>\n",
       "      <td>0.86819</td>\n",
       "      <td>0.907101</td>\n",
       "      <td>0.887219</td>\n",
       "    </tr>\n",
       "  </tbody>\n",
       "</table>\n",
       "</div>"
      ],
      "text/plain": [
       "  model  accuracy  precision    recall        f1\n",
       "0   DIF  0.866398    0.86819  0.907101  0.887219"
      ]
     },
     "execution_count": 57,
     "metadata": {},
     "output_type": "execute_result"
    }
   ],
   "source": [
    "results_dif = pd.DataFrame(evaluate_model(\"DIF\", y_test_binary, y_preds_dif_binary))\n",
    "results_dif"
   ]
  },
  {
   "cell_type": "markdown",
   "id": "fbbc2d72-d3dd-4732-83dc-811317721e71",
   "metadata": {
    "jp-MarkdownHeadingCollapsed": true,
    "tags": []
   },
   "source": [
    "# SLAD"
   ]
  },
  {
   "cell_type": "code",
   "execution_count": 42,
   "id": "cafe92df-46e5-404d-8bc3-0e8338441a53",
   "metadata": {},
   "outputs": [],
   "source": [
    "from deepod.models.tabular import SLAD"
   ]
  },
  {
   "cell_type": "code",
   "execution_count": 43,
   "id": "a0f64b88-738f-4d35-a984-5d61d25194eb",
   "metadata": {},
   "outputs": [
    {
     "name": "stdout",
     "output_type": "stream",
     "text": [
      "Start Training...\n",
      "ensemble size: 1\n",
      "unified size: 128, subspace pool size: 50, ensemble size: 20\n",
      "len pool: [ 1  2  3  4  5  6  7  9 10 11 12 13 14 16 17 18 19 20 22 23 24 25 26 27\n",
      " 28 30 31 32 33 34 35 36 37 38 40 41 42 44 45 46 47 48 49 50 51 53 54 55\n",
      " 56 57]\n",
      "epoch  1, training loss: 0.646864, time: 7.6s\n",
      "epoch 10, training loss: 0.641175, time: 6.9s\n",
      "epoch 20, training loss: 0.641144, time: 7.0s\n",
      "epoch 30, training loss: 0.641133, time: 6.9s\n",
      "epoch 40, training loss: 0.641124, time: 6.9s\n",
      "epoch 50, training loss: 0.641126, time: 6.8s\n",
      "epoch 60, training loss: 0.641109, time: 6.9s\n",
      "epoch 70, training loss: 0.641107, time: 6.9s\n",
      "epoch 80, training loss: 0.641108, time: 6.8s\n",
      "epoch 90, training loss: 0.641101, time: 6.9s\n",
      "epoch100, training loss: 0.641104, time: 6.9s\n",
      "Start Inference on the training data...\n"
     ]
    }
   ],
   "source": [
    "clf_slad = SLAD()\n",
    "clf_slad.fit(normal_data, y=None)\n",
    "y_preds_slad = clf_slad.predict(X_test)"
   ]
  },
  {
   "cell_type": "code",
   "execution_count": 51,
   "id": "c647b99e-c503-4a29-ba13-0f500b2e0d4c",
   "metadata": {},
   "outputs": [],
   "source": [
    "y_preds_slad_binary = np.where(y_preds_slad == 0, 'normal', 'anomaly')"
   ]
  },
  {
   "cell_type": "code",
   "execution_count": 56,
   "id": "70cb9a65-2865-4a27-ac09-34d66eb3e8af",
   "metadata": {},
   "outputs": [
    {
     "data": {
      "text/html": [
       "<div>\n",
       "<style scoped>\n",
       "    .dataframe tbody tr th:only-of-type {\n",
       "        vertical-align: middle;\n",
       "    }\n",
       "\n",
       "    .dataframe tbody tr th {\n",
       "        vertical-align: top;\n",
       "    }\n",
       "\n",
       "    .dataframe thead th {\n",
       "        text-align: right;\n",
       "    }\n",
       "</style>\n",
       "<table border=\"1\" class=\"dataframe\">\n",
       "  <thead>\n",
       "    <tr style=\"text-align: right;\">\n",
       "      <th></th>\n",
       "      <th>model</th>\n",
       "      <th>accuracy</th>\n",
       "      <th>precision</th>\n",
       "      <th>recall</th>\n",
       "      <th>f1</th>\n",
       "    </tr>\n",
       "  </thead>\n",
       "  <tbody>\n",
       "    <tr>\n",
       "      <th>0</th>\n",
       "      <td>SLAD</td>\n",
       "      <td>0.880468</td>\n",
       "      <td>0.895327</td>\n",
       "      <td>0.898743</td>\n",
       "      <td>0.897032</td>\n",
       "    </tr>\n",
       "  </tbody>\n",
       "</table>\n",
       "</div>"
      ],
      "text/plain": [
       "  model  accuracy  precision    recall        f1\n",
       "0  SLAD  0.880468   0.895327  0.898743  0.897032"
      ]
     },
     "execution_count": 56,
     "metadata": {},
     "output_type": "execute_result"
    }
   ],
   "source": [
    "results_slad = pd.DataFrame(evaluate_model(\"SLAD\", y_test_binary, y_preds_slad_binary))\n",
    "results_slad"
   ]
  },
  {
   "cell_type": "markdown",
   "id": "084dab4b-079a-41d1-8ce1-0299f675eb30",
   "metadata": {},
   "source": [
    "# ICL"
   ]
  },
  {
   "cell_type": "code",
   "execution_count": 11,
   "id": "4be1e21b-fc1a-4354-9d26-b278134fe768",
   "metadata": {},
   "outputs": [],
   "source": [
    "from deepod.models.tabular import ICL"
   ]
  },
  {
   "cell_type": "code",
   "execution_count": 22,
   "id": "1a324fb5-b764-4dc0-ad10-5485949b3cc5",
   "metadata": {},
   "outputs": [
    {
     "name": "stdout",
     "output_type": "stream",
     "text": [
      "Start Training...\n",
      "ensemble size: 2\n",
      "kernel size: 10\n",
      "ICLNet(\n",
      "  (enc_f_net): MLPnet(\n",
      "    (network): Sequential(\n",
      "      (0): LinearBlock(\n",
      "        (linear): Linear(in_features=48, out_features=100, bias=False)\n",
      "        (act_layer): Tanh()\n",
      "        (bn_layer): BatchNorm1d(49, eps=1e-05, momentum=0.1, affine=False, track_running_stats=True)\n",
      "      )\n",
      "      (1): LinearBlock(\n",
      "        (linear): Linear(in_features=100, out_features=50, bias=False)\n",
      "        (act_layer): LeakyReLU(negative_slope=0.01)\n",
      "        (bn_layer): BatchNorm1d(49, eps=1e-05, momentum=0.1, affine=False, track_running_stats=True)\n",
      "      )\n",
      "      (2): LinearBlock(\n",
      "        (linear): Linear(in_features=50, out_features=128, bias=False)\n",
      "        (act_layer): LeakyReLU(negative_slope=0.01)\n",
      "        (bn_layer): BatchNorm1d(49, eps=1e-05, momentum=0.1, affine=False, track_running_stats=True)\n",
      "      )\n",
      "    )\n",
      "  )\n",
      "  (enc_g_net): MLPnet(\n",
      "    (network): Sequential(\n",
      "      (0): LinearBlock(\n",
      "        (linear): Linear(in_features=10, out_features=50, bias=False)\n",
      "        (act_layer): LeakyReLU(negative_slope=0.01)\n",
      "        (bn_layer): BatchNorm1d(49, eps=1e-05, momentum=0.1, affine=False, track_running_stats=True)\n",
      "      )\n",
      "      (1): LinearBlock(\n",
      "        (linear): Linear(in_features=50, out_features=25, bias=False)\n",
      "        (act_layer): LeakyReLU(negative_slope=0.01)\n",
      "        (bn_layer): BatchNorm1d(49, eps=1e-05, momentum=0.1, affine=False, track_running_stats=True)\n",
      "      )\n",
      "      (2): LinearBlock(\n",
      "        (linear): Linear(in_features=25, out_features=128, bias=False)\n",
      "        (act_layer): LeakyReLU(negative_slope=0.01)\n",
      "        (bn_layer): BatchNorm1d(49, eps=1e-05, momentum=0.1, affine=False, track_running_stats=True)\n",
      "      )\n",
      "    )\n",
      "  )\n",
      ")\n",
      "epoch  1, training loss: 0.644650, time: 20.9s\n",
      "kernel size: 10\n",
      "ICLNet(\n",
      "  (enc_f_net): MLPnet(\n",
      "    (network): Sequential(\n",
      "      (0): LinearBlock(\n",
      "        (linear): Linear(in_features=48, out_features=100, bias=False)\n",
      "        (act_layer): Tanh()\n",
      "        (bn_layer): BatchNorm1d(49, eps=1e-05, momentum=0.1, affine=False, track_running_stats=True)\n",
      "      )\n",
      "      (1): LinearBlock(\n",
      "        (linear): Linear(in_features=100, out_features=50, bias=False)\n",
      "        (act_layer): LeakyReLU(negative_slope=0.01)\n",
      "        (bn_layer): BatchNorm1d(49, eps=1e-05, momentum=0.1, affine=False, track_running_stats=True)\n",
      "      )\n",
      "      (2): LinearBlock(\n",
      "        (linear): Linear(in_features=50, out_features=128, bias=False)\n",
      "        (act_layer): LeakyReLU(negative_slope=0.01)\n",
      "        (bn_layer): BatchNorm1d(49, eps=1e-05, momentum=0.1, affine=False, track_running_stats=True)\n",
      "      )\n",
      "    )\n",
      "  )\n",
      "  (enc_g_net): MLPnet(\n",
      "    (network): Sequential(\n",
      "      (0): LinearBlock(\n",
      "        (linear): Linear(in_features=10, out_features=50, bias=False)\n",
      "        (act_layer): LeakyReLU(negative_slope=0.01)\n",
      "        (bn_layer): BatchNorm1d(49, eps=1e-05, momentum=0.1, affine=False, track_running_stats=True)\n",
      "      )\n",
      "      (1): LinearBlock(\n",
      "        (linear): Linear(in_features=50, out_features=25, bias=False)\n",
      "        (act_layer): LeakyReLU(negative_slope=0.01)\n",
      "        (bn_layer): BatchNorm1d(49, eps=1e-05, momentum=0.1, affine=False, track_running_stats=True)\n",
      "      )\n",
      "      (2): LinearBlock(\n",
      "        (linear): Linear(in_features=25, out_features=128, bias=False)\n",
      "        (act_layer): LeakyReLU(negative_slope=0.01)\n",
      "        (bn_layer): BatchNorm1d(49, eps=1e-05, momentum=0.1, affine=False, track_running_stats=True)\n",
      "      )\n",
      "    )\n",
      "  )\n",
      ")\n",
      "epoch  1, training loss: 0.625677, time: 21.0s\n",
      "Start Inference on the training data...\n"
     ]
    },
    {
     "name": "stderr",
     "output_type": "stream",
     "text": [
      "testing: 100%|██████████| 5078/5078 [00:08<00:00, 573.49it/s]\n",
      "testing: 100%|██████████| 5078/5078 [00:08<00:00, 584.94it/s]\n",
      "testing: 100%|██████████| 2192/2192 [00:03<00:00, 562.98it/s]\n",
      "testing: 100%|██████████| 2192/2192 [00:03<00:00, 557.01it/s]\n"
     ]
    }
   ],
   "source": [
    "clf_icl = ICL(epochs=5)\n",
    "clf_icl.fit(normal_data, y=None)\n",
    "y_preds_icl = clf_icl.predict(X_test)"
   ]
  },
  {
   "cell_type": "code",
   "execution_count": 23,
   "id": "944fc67c-9fba-47f2-8fdd-ed127037b07c",
   "metadata": {},
   "outputs": [],
   "source": [
    "y_preds_icl_binary = np.where(y_preds_icl == 0, 'normal', 'anomaly')"
   ]
  },
  {
   "cell_type": "code",
   "execution_count": 24,
   "id": "9f69ae49-2552-4616-a56e-9d575bc64094",
   "metadata": {},
   "outputs": [
    {
     "data": {
      "text/html": [
       "<div>\n",
       "<style scoped>\n",
       "    .dataframe tbody tr th:only-of-type {\n",
       "        vertical-align: middle;\n",
       "    }\n",
       "\n",
       "    .dataframe tbody tr th {\n",
       "        vertical-align: top;\n",
       "    }\n",
       "\n",
       "    .dataframe thead th {\n",
       "        text-align: right;\n",
       "    }\n",
       "</style>\n",
       "<table border=\"1\" class=\"dataframe\">\n",
       "  <thead>\n",
       "    <tr style=\"text-align: right;\">\n",
       "      <th></th>\n",
       "      <th>model</th>\n",
       "      <th>accuracy</th>\n",
       "      <th>precision</th>\n",
       "      <th>recall</th>\n",
       "      <th>f1</th>\n",
       "    </tr>\n",
       "  </thead>\n",
       "  <tbody>\n",
       "    <tr>\n",
       "      <th>0</th>\n",
       "      <td>ICL</td>\n",
       "      <td>0.881858</td>\n",
       "      <td>0.895635</td>\n",
       "      <td>0.90107</td>\n",
       "      <td>0.898344</td>\n",
       "    </tr>\n",
       "  </tbody>\n",
       "</table>\n",
       "</div>"
      ],
      "text/plain": [
       "  model  accuracy  precision   recall        f1\n",
       "0   ICL  0.881858   0.895635  0.90107  0.898344"
      ]
     },
     "execution_count": 24,
     "metadata": {},
     "output_type": "execute_result"
    }
   ],
   "source": [
    "results_icl = pd.DataFrame(evaluate_model(\"ICL\", y_test_binary, y_preds_icl_binary))\n",
    "results_icl"
   ]
  },
  {
   "cell_type": "markdown",
   "id": "8f333a1c-f3da-4229-ad7e-f6127e7748ab",
   "metadata": {
    "jp-MarkdownHeadingCollapsed": true,
    "tags": []
   },
   "source": [
    "# NeuTraL"
   ]
  },
  {
   "cell_type": "code",
   "execution_count": 25,
   "id": "a410865d-6411-4237-ba02-cb0e91a9af1c",
   "metadata": {},
   "outputs": [],
   "source": [
    "from deepod.models.tabular import NeuTraL"
   ]
  },
  {
   "cell_type": "code",
   "execution_count": 32,
   "id": "89d5e4ba-b790-49a0-a2e7-c907975ddf5a",
   "metadata": {},
   "outputs": [
    {
     "name": "stdout",
     "output_type": "stream",
     "text": [
      "Start Training...\n",
      "ensemble size: 1\n",
      "epoch  1, training loss: 0.135441, time: 35.9s\n",
      "Start Inference on the training data...\n"
     ]
    }
   ],
   "source": [
    "clf_neutral = NeuTraL(epochs=1)\n",
    "clf_neutral.fit(normal_data, y=None)\n",
    "y_preds_neutral = clf_neutral.predict(X_test)"
   ]
  },
  {
   "cell_type": "code",
   "execution_count": 33,
   "id": "7fe2006e-c4f9-4b2b-906d-6be9981a1726",
   "metadata": {},
   "outputs": [],
   "source": [
    "y_preds_neutral_binary = np.where(y_preds_neutral == 0, 'normal', 'anomaly')"
   ]
  },
  {
   "cell_type": "code",
   "execution_count": 34,
   "id": "b6c62ba9-ed11-449d-856f-2259ed60f369",
   "metadata": {},
   "outputs": [
    {
     "data": {
      "text/html": [
       "<div>\n",
       "<style scoped>\n",
       "    .dataframe tbody tr th:only-of-type {\n",
       "        vertical-align: middle;\n",
       "    }\n",
       "\n",
       "    .dataframe tbody tr th {\n",
       "        vertical-align: top;\n",
       "    }\n",
       "\n",
       "    .dataframe thead th {\n",
       "        text-align: right;\n",
       "    }\n",
       "</style>\n",
       "<table border=\"1\" class=\"dataframe\">\n",
       "  <thead>\n",
       "    <tr style=\"text-align: right;\">\n",
       "      <th></th>\n",
       "      <th>model</th>\n",
       "      <th>accuracy</th>\n",
       "      <th>precision</th>\n",
       "      <th>recall</th>\n",
       "      <th>f1</th>\n",
       "    </tr>\n",
       "  </thead>\n",
       "  <tbody>\n",
       "    <tr>\n",
       "      <th>0</th>\n",
       "      <td>NeuTraL</td>\n",
       "      <td>0.901334</td>\n",
       "      <td>0.92782</td>\n",
       "      <td>0.899679</td>\n",
       "      <td>0.913533</td>\n",
       "    </tr>\n",
       "  </tbody>\n",
       "</table>\n",
       "</div>"
      ],
      "text/plain": [
       "     model  accuracy  precision    recall        f1\n",
       "0  NeuTraL  0.901334    0.92782  0.899679  0.913533"
      ]
     },
     "execution_count": 34,
     "metadata": {},
     "output_type": "execute_result"
    }
   ],
   "source": [
    "results_neutral = pd.DataFrame(evaluate_model(\"NeuTraL\", y_test_binary, y_preds_neutral_binary))\n",
    "results_neutral"
   ]
  },
  {
   "cell_type": "markdown",
   "id": "a4ea77c7-66b0-45da-9cba-72a8d6a04445",
   "metadata": {
    "tags": []
   },
   "source": [
    "# GOAD"
   ]
  },
  {
   "cell_type": "markdown",
   "id": "89e4a1e7-1ea0-491f-bec0-7cf654cf3d5e",
   "metadata": {
    "tags": []
   },
   "source": [
    "# RCA"
   ]
  },
  {
   "cell_type": "code",
   "execution_count": 10,
   "id": "acdade57-a607-4d5b-a07e-072dc142d2af",
   "metadata": {},
   "outputs": [],
   "source": [
    "from deepod.models.tabular import RCA"
   ]
  },
  {
   "cell_type": "code",
   "execution_count": 17,
   "id": "eb556d26-ee53-49c0-9e43-f897950ef0b0",
   "metadata": {},
   "outputs": [
    {
     "name": "stdout",
     "output_type": "stream",
     "text": [
      "Start Training...\n",
      "ensemble size: 1\n",
      "RCANet(\n",
      "  (enc1): MLPnet(\n",
      "    (network): Sequential(\n",
      "      (0): LinearBlock(\n",
      "        (linear): Linear(in_features=58, out_features=100, bias=False)\n",
      "        (act_layer): LeakyReLU(negative_slope=0.01)\n",
      "        (dropout_layer): Dropout(p=0.5, inplace=False)\n",
      "      )\n",
      "      (1): LinearBlock(\n",
      "        (linear): Linear(in_features=100, out_features=50, bias=False)\n",
      "        (act_layer): LeakyReLU(negative_slope=0.01)\n",
      "        (dropout_layer): Dropout(p=0.5, inplace=False)\n",
      "      )\n",
      "      (2): LinearBlock(\n",
      "        (linear): Linear(in_features=50, out_features=128, bias=False)\n",
      "        (act_layer): Identity()\n",
      "      )\n",
      "    )\n",
      "  )\n",
      "  (enc2): MLPnet(\n",
      "    (network): Sequential(\n",
      "      (0): LinearBlock(\n",
      "        (linear): Linear(in_features=58, out_features=100, bias=False)\n",
      "        (act_layer): LeakyReLU(negative_slope=0.01)\n",
      "        (dropout_layer): Dropout(p=0.5, inplace=False)\n",
      "      )\n",
      "      (1): LinearBlock(\n",
      "        (linear): Linear(in_features=100, out_features=50, bias=False)\n",
      "        (act_layer): LeakyReLU(negative_slope=0.01)\n",
      "        (dropout_layer): Dropout(p=0.5, inplace=False)\n",
      "      )\n",
      "      (2): LinearBlock(\n",
      "        (linear): Linear(in_features=50, out_features=128, bias=False)\n",
      "        (act_layer): Identity()\n",
      "      )\n",
      "    )\n",
      "  )\n",
      "  (dec1): MLPnet(\n",
      "    (network): Sequential(\n",
      "      (0): LinearBlock(\n",
      "        (linear): Linear(in_features=128, out_features=50, bias=False)\n",
      "        (act_layer): LeakyReLU(negative_slope=0.01)\n",
      "        (dropout_layer): Dropout(p=0.5, inplace=False)\n",
      "      )\n",
      "      (1): LinearBlock(\n",
      "        (linear): Linear(in_features=50, out_features=100, bias=False)\n",
      "        (act_layer): LeakyReLU(negative_slope=0.01)\n",
      "        (dropout_layer): Dropout(p=0.5, inplace=False)\n",
      "      )\n",
      "      (2): LinearBlock(\n",
      "        (linear): Linear(in_features=100, out_features=58, bias=False)\n",
      "        (act_layer): Identity()\n",
      "      )\n",
      "    )\n",
      "  )\n",
      "  (dec2): MLPnet(\n",
      "    (network): Sequential(\n",
      "      (0): LinearBlock(\n",
      "        (linear): Linear(in_features=128, out_features=50, bias=False)\n",
      "        (act_layer): LeakyReLU(negative_slope=0.01)\n",
      "        (dropout_layer): Dropout(p=0.5, inplace=False)\n",
      "      )\n",
      "      (1): LinearBlock(\n",
      "        (linear): Linear(in_features=50, out_features=100, bias=False)\n",
      "        (act_layer): LeakyReLU(negative_slope=0.01)\n",
      "        (dropout_layer): Dropout(p=0.5, inplace=False)\n",
      "      )\n",
      "      (2): LinearBlock(\n",
      "        (linear): Linear(in_features=100, out_features=58, bias=False)\n",
      "        (act_layer): Identity()\n",
      "      )\n",
      "    )\n",
      "  )\n",
      ")\n",
      "epoch  1, training loss: 0.056591, time: 20.7s\n",
      "beta: 0.996\n",
      "beta: 0.992\n",
      "beta: 0.988\n",
      "beta: 0.984\n",
      "beta: 0.98\n",
      "beta: 0.98\n",
      "beta: 0.98\n",
      "beta: 0.98\n",
      "beta: 0.98\n",
      "epoch 10, training loss: 0.040383, time: 21.1s\n",
      "beta: 0.98\n",
      "Start Inference on the training data...\n"
     ]
    },
    {
     "name": "stderr",
     "output_type": "stream",
     "text": [
      "100%|██████████| 10/10 [00:45<00:00,  4.59s/it]\n",
      "100%|██████████| 10/10 [00:20<00:00,  2.00s/it]\n"
     ]
    }
   ],
   "source": [
    "clf_rca = RCA(epochs=10)\n",
    "clf_rca.fit(normal_data, y=None)\n",
    "y_preds_rca = clf_rca.predict(X_test)"
   ]
  },
  {
   "cell_type": "code",
   "execution_count": 18,
   "id": "7d75a6f3-e397-4f3e-b365-d193512e3a25",
   "metadata": {},
   "outputs": [],
   "source": [
    "y_preds_rca_binary = np.where(y_preds_rca == 0, 'normal', 'anomaly')"
   ]
  },
  {
   "cell_type": "code",
   "execution_count": 19,
   "id": "85529490-fa89-4460-966c-910926f599a5",
   "metadata": {},
   "outputs": [
    {
     "data": {
      "text/html": [
       "<div>\n",
       "<style scoped>\n",
       "    .dataframe tbody tr th:only-of-type {\n",
       "        vertical-align: middle;\n",
       "    }\n",
       "\n",
       "    .dataframe tbody tr th {\n",
       "        vertical-align: top;\n",
       "    }\n",
       "\n",
       "    .dataframe thead th {\n",
       "        text-align: right;\n",
       "    }\n",
       "</style>\n",
       "<table border=\"1\" class=\"dataframe\">\n",
       "  <thead>\n",
       "    <tr style=\"text-align: right;\">\n",
       "      <th></th>\n",
       "      <th>model</th>\n",
       "      <th>accuracy</th>\n",
       "      <th>precision</th>\n",
       "      <th>recall</th>\n",
       "      <th>f1</th>\n",
       "    </tr>\n",
       "  </thead>\n",
       "  <tbody>\n",
       "    <tr>\n",
       "      <th>0</th>\n",
       "      <td>RCA</td>\n",
       "      <td>0.848934</td>\n",
       "      <td>0.848958</td>\n",
       "      <td>0.899223</td>\n",
       "      <td>0.873368</td>\n",
       "    </tr>\n",
       "  </tbody>\n",
       "</table>\n",
       "</div>"
      ],
      "text/plain": [
       "  model  accuracy  precision    recall        f1\n",
       "0   RCA  0.848934   0.848958  0.899223  0.873368"
      ]
     },
     "execution_count": 19,
     "metadata": {},
     "output_type": "execute_result"
    }
   ],
   "source": [
    "results_rca = pd.DataFrame(evaluate_model(\"RCA\", y_test_binary, y_preds_rca_binary))\n",
    "results_rca"
   ]
  },
  {
   "cell_type": "markdown",
   "id": "3d95e49b-9ee4-416f-ac7a-bc39d6b71f55",
   "metadata": {},
   "source": [
    "# RDP"
   ]
  },
  {
   "cell_type": "code",
   "execution_count": 20,
   "id": "2fe11845-df7e-49cf-b3db-ab685b149aa6",
   "metadata": {},
   "outputs": [],
   "source": [
    "from deepod.models.tabular import RDP"
   ]
  },
  {
   "cell_type": "code",
   "execution_count": 27,
   "id": "dc434fc2-e659-4f6d-bfeb-0fbf440398f7",
   "metadata": {},
   "outputs": [
    {
     "name": "stdout",
     "output_type": "stream",
     "text": [
      "Start Training...\n",
      "ensemble size: 1\n",
      "MLPnet(\n",
      "  (network): Sequential(\n",
      "    (0): LinearBlock(\n",
      "      (linear): Linear(in_features=58, out_features=100, bias=False)\n",
      "      (act_layer): LeakyReLU(negative_slope=0.01)\n",
      "    )\n",
      "    (1): LinearBlock(\n",
      "      (linear): Linear(in_features=100, out_features=50, bias=False)\n",
      "      (act_layer): LeakyReLU(negative_slope=0.01)\n",
      "    )\n",
      "    (2): LinearBlock(\n",
      "      (linear): Linear(in_features=50, out_features=128, bias=False)\n",
      "      (act_layer): Identity()\n",
      "    )\n",
      "  )\n",
      ")\n",
      "epoch  1, training loss: 0.000019, time: 17.7s\n",
      "epoch 10, training loss: 0.000020, time: 17.9s\n",
      "Start Inference on the training data...\n"
     ]
    },
    {
     "name": "stderr",
     "output_type": "stream",
     "text": [
      "testing: 100%|██████████| 5078/5078 [00:04<00:00, 1060.20it/s]\n",
      "testing: 100%|██████████| 2192/2192 [00:02<00:00, 1030.77it/s]\n"
     ]
    }
   ],
   "source": [
    "clf_rdp = RDP(epochs=10)\n",
    "clf_rdp.fit(normal_data, y=None)\n",
    "y_preds_rdp = clf_rdp.predict(X_test)"
   ]
  },
  {
   "cell_type": "code",
   "execution_count": 28,
   "id": "c70f4b00-9ac2-4bfc-b980-2b39b9e9a1bb",
   "metadata": {},
   "outputs": [],
   "source": [
    "y_preds_rdp_binary = np.where(y_preds_rdp == 0, 'normal', 'anomaly')"
   ]
  },
  {
   "cell_type": "code",
   "execution_count": 29,
   "id": "d8fb878f-1775-4efc-9c65-370fe189cb06",
   "metadata": {},
   "outputs": [
    {
     "data": {
      "text/html": [
       "<div>\n",
       "<style scoped>\n",
       "    .dataframe tbody tr th:only-of-type {\n",
       "        vertical-align: middle;\n",
       "    }\n",
       "\n",
       "    .dataframe tbody tr th {\n",
       "        vertical-align: top;\n",
       "    }\n",
       "\n",
       "    .dataframe thead th {\n",
       "        text-align: right;\n",
       "    }\n",
       "</style>\n",
       "<table border=\"1\" class=\"dataframe\">\n",
       "  <thead>\n",
       "    <tr style=\"text-align: right;\">\n",
       "      <th></th>\n",
       "      <th>model</th>\n",
       "      <th>accuracy</th>\n",
       "      <th>precision</th>\n",
       "      <th>recall</th>\n",
       "      <th>f1</th>\n",
       "    </tr>\n",
       "  </thead>\n",
       "  <tbody>\n",
       "    <tr>\n",
       "      <th>0</th>\n",
       "      <td>RDP</td>\n",
       "      <td>0.884133</td>\n",
       "      <td>0.902058</td>\n",
       "      <td>0.897438</td>\n",
       "      <td>0.899742</td>\n",
       "    </tr>\n",
       "  </tbody>\n",
       "</table>\n",
       "</div>"
      ],
      "text/plain": [
       "  model  accuracy  precision    recall        f1\n",
       "0   RDP  0.884133   0.902058  0.897438  0.899742"
      ]
     },
     "execution_count": 29,
     "metadata": {},
     "output_type": "execute_result"
    }
   ],
   "source": [
    "results_rdp = pd.DataFrame(evaluate_model(\"RDP\", y_test_binary, y_preds_rdp_binary))\n",
    "results_rdp"
   ]
  },
  {
   "cell_type": "markdown",
   "id": "caa91bd5-a465-47cf-bcdc-5deb64842d9e",
   "metadata": {},
   "source": [
    "# REPEN"
   ]
  },
  {
   "cell_type": "code",
   "execution_count": 30,
   "id": "5e2bffd4-e565-45c8-948e-d99ba11afbdc",
   "metadata": {},
   "outputs": [],
   "source": [
    "from deepod.models.tabular import REPEN"
   ]
  },
  {
   "cell_type": "code",
   "execution_count": 32,
   "id": "7daf52b6-78cb-4b1a-b700-bade39d7c2f6",
   "metadata": {},
   "outputs": [
    {
     "name": "stdout",
     "output_type": "stream",
     "text": [
      "Start Training...\n",
      "ensemble size: 1\n",
      "MLPnet(\n",
      "  (network): Sequential(\n",
      "    (0): LinearBlock(\n",
      "      (linear): Linear(in_features=58, out_features=100, bias=False)\n",
      "      (act_layer): LeakyReLU(negative_slope=0.01)\n",
      "    )\n",
      "    (1): LinearBlock(\n",
      "      (linear): Linear(in_features=100, out_features=50, bias=False)\n",
      "      (act_layer): LeakyReLU(negative_slope=0.01)\n",
      "    )\n",
      "    (2): LinearBlock(\n",
      "      (linear): Linear(in_features=50, out_features=128, bias=False)\n",
      "      (act_layer): Identity()\n",
      "    )\n",
      "  )\n",
      ")\n",
      "epoch  1, training loss: 13.316550, time: 974.8s\n",
      "Start Inference on the training data...\n"
     ]
    },
    {
     "name": "stderr",
     "output_type": "stream",
     "text": [
      "testing: 100%|██████████| 5078/5078 [00:01<00:00, 2931.16it/s]\n",
      "testing: 100%|██████████| 2192/2192 [00:00<00:00, 2749.33it/s]\n"
     ]
    }
   ],
   "source": [
    "clf_repen = REPEN(epochs=1)\n",
    "clf_repen.fit(normal_data, y=None)\n",
    "y_preds_repdn = clf_repen.predict(X_test)"
   ]
  },
  {
   "cell_type": "code",
   "execution_count": 34,
   "id": "1c6e3115-eb20-41a0-825b-0a837048ae41",
   "metadata": {},
   "outputs": [],
   "source": [
    "y_preds_repen_binary = np.where(y_preds_repdn == 0, 'normal', 'anomaly')"
   ]
  },
  {
   "cell_type": "code",
   "execution_count": 35,
   "id": "ed7fd6e7-ed1b-4363-8ae9-b3738272c121",
   "metadata": {},
   "outputs": [
    {
     "data": {
      "text/html": [
       "<div>\n",
       "<style scoped>\n",
       "    .dataframe tbody tr th:only-of-type {\n",
       "        vertical-align: middle;\n",
       "    }\n",
       "\n",
       "    .dataframe tbody tr th {\n",
       "        vertical-align: top;\n",
       "    }\n",
       "\n",
       "    .dataframe thead th {\n",
       "        text-align: right;\n",
       "    }\n",
       "</style>\n",
       "<table border=\"1\" class=\"dataframe\">\n",
       "  <thead>\n",
       "    <tr style=\"text-align: right;\">\n",
       "      <th></th>\n",
       "      <th>model</th>\n",
       "      <th>accuracy</th>\n",
       "      <th>precision</th>\n",
       "      <th>recall</th>\n",
       "      <th>f1</th>\n",
       "    </tr>\n",
       "  </thead>\n",
       "  <tbody>\n",
       "    <tr>\n",
       "      <th>0</th>\n",
       "      <td>REPEN</td>\n",
       "      <td>0.755616</td>\n",
       "      <td>0.73428</td>\n",
       "      <td>0.90603</td>\n",
       "      <td>0.811164</td>\n",
       "    </tr>\n",
       "  </tbody>\n",
       "</table>\n",
       "</div>"
      ],
      "text/plain": [
       "   model  accuracy  precision   recall        f1\n",
       "0  REPEN  0.755616    0.73428  0.90603  0.811164"
      ]
     },
     "execution_count": 35,
     "metadata": {},
     "output_type": "execute_result"
    }
   ],
   "source": [
    "results_repen = pd.DataFrame(evaluate_model(\"REPEN\", y_test_binary, y_preds_repen_binary))\n",
    "results_repen"
   ]
  },
  {
   "cell_type": "markdown",
   "id": "4916424d-b812-4aa3-b789-7c6e252ee2ad",
   "metadata": {},
   "source": [
    "# Deep SVDD"
   ]
  },
  {
   "cell_type": "code",
   "execution_count": 36,
   "id": "6a500203-e34e-4c52-bbe9-6e00acfada2c",
   "metadata": {},
   "outputs": [],
   "source": [
    "from deepod.models.tabular import DeepSVDD"
   ]
  },
  {
   "cell_type": "code",
   "execution_count": 46,
   "id": "3a5bda4e-8b65-4be9-8e4d-553b155162a7",
   "metadata": {},
   "outputs": [
    {
     "name": "stdout",
     "output_type": "stream",
     "text": [
      "Start Training...\n",
      "ensemble size: 1\n",
      "MLPnet(\n",
      "  (network): Sequential(\n",
      "    (0): LinearBlock(\n",
      "      (linear): Linear(in_features=58, out_features=100, bias=False)\n",
      "      (act_layer): ReLU()\n",
      "    )\n",
      "    (1): LinearBlock(\n",
      "      (linear): Linear(in_features=100, out_features=50, bias=False)\n",
      "      (act_layer): ReLU()\n",
      "    )\n",
      "    (2): LinearBlock(\n",
      "      (linear): Linear(in_features=50, out_features=128, bias=False)\n",
      "      (act_layer): Identity()\n",
      "    )\n",
      "  )\n",
      ")\n",
      "epoch  1, training loss: 0.001419, time: 5.4s\n",
      "Start Inference on the training data...\n"
     ]
    },
    {
     "name": "stderr",
     "output_type": "stream",
     "text": [
      "testing: 100%|██████████| 5078/5078 [00:01<00:00, 2651.14it/s]\n",
      "testing: 100%|██████████| 2192/2192 [00:00<00:00, 2511.73it/s]\n"
     ]
    }
   ],
   "source": [
    "clf_deepsvdd = DeepSVDD(epochs=1)\n",
    "clf_deepsvdd.fit(normal_data, y=None)\n",
    "y_preds_deepsvdd = clf_deepsvdd.predict(X_test)"
   ]
  },
  {
   "cell_type": "code",
   "execution_count": 47,
   "id": "54ee2c96-5439-4216-ba92-76c99482c4c3",
   "metadata": {},
   "outputs": [],
   "source": [
    "y_preds_deepsvdd_binary = np.where(y_preds_deepsvdd == 0, 'normal', 'anomaly')"
   ]
  },
  {
   "cell_type": "code",
   "execution_count": 48,
   "id": "2c3cd5d6-3120-4bab-bf4f-65c6fb5e1e1c",
   "metadata": {},
   "outputs": [
    {
     "data": {
      "text/html": [
       "<div>\n",
       "<style scoped>\n",
       "    .dataframe tbody tr th:only-of-type {\n",
       "        vertical-align: middle;\n",
       "    }\n",
       "\n",
       "    .dataframe tbody tr th {\n",
       "        vertical-align: top;\n",
       "    }\n",
       "\n",
       "    .dataframe thead th {\n",
       "        text-align: right;\n",
       "    }\n",
       "</style>\n",
       "<table border=\"1\" class=\"dataframe\">\n",
       "  <thead>\n",
       "    <tr style=\"text-align: right;\">\n",
       "      <th></th>\n",
       "      <th>model</th>\n",
       "      <th>accuracy</th>\n",
       "      <th>precision</th>\n",
       "      <th>recall</th>\n",
       "      <th>f1</th>\n",
       "    </tr>\n",
       "  </thead>\n",
       "  <tbody>\n",
       "    <tr>\n",
       "      <th>0</th>\n",
       "      <td>DeepSVDD</td>\n",
       "      <td>0.795564</td>\n",
       "      <td>0.780753</td>\n",
       "      <td>0.89979</td>\n",
       "      <td>0.836055</td>\n",
       "    </tr>\n",
       "  </tbody>\n",
       "</table>\n",
       "</div>"
      ],
      "text/plain": [
       "      model  accuracy  precision   recall        f1\n",
       "0  DeepSVDD  0.795564   0.780753  0.89979  0.836055"
      ]
     },
     "execution_count": 48,
     "metadata": {},
     "output_type": "execute_result"
    }
   ],
   "source": [
    "results_deepsvdd = pd.DataFrame(evaluate_model(\"DeepSVDD\", y_test_binary, y_preds_deepsvdd_binary))\n",
    "results_deepsvdd"
   ]
  },
  {
   "cell_type": "markdown",
   "id": "612e3c61-cb38-40dd-b949-4220c674ec80",
   "metadata": {
    "jp-MarkdownHeadingCollapsed": true,
    "tags": []
   },
   "source": [
    "# Results"
   ]
  },
  {
   "cell_type": "code",
   "execution_count": 58,
   "id": "064ef917-611c-4bed-aaa3-0bfdbef151c2",
   "metadata": {},
   "outputs": [
    {
     "data": {
      "text/html": [
       "<div>\n",
       "<style scoped>\n",
       "    .dataframe tbody tr th:only-of-type {\n",
       "        vertical-align: middle;\n",
       "    }\n",
       "\n",
       "    .dataframe tbody tr th {\n",
       "        vertical-align: top;\n",
       "    }\n",
       "\n",
       "    .dataframe thead th {\n",
       "        text-align: right;\n",
       "    }\n",
       "</style>\n",
       "<table border=\"1\" class=\"dataframe\">\n",
       "  <thead>\n",
       "    <tr style=\"text-align: right;\">\n",
       "      <th></th>\n",
       "      <th>model</th>\n",
       "      <th>accuracy</th>\n",
       "      <th>precision</th>\n",
       "      <th>recall</th>\n",
       "      <th>f1</th>\n",
       "    </tr>\n",
       "  </thead>\n",
       "  <tbody>\n",
       "    <tr>\n",
       "      <th>0</th>\n",
       "      <td>DIF</td>\n",
       "      <td>0.866398</td>\n",
       "      <td>0.868190</td>\n",
       "      <td>0.907101</td>\n",
       "      <td>0.887219</td>\n",
       "    </tr>\n",
       "    <tr>\n",
       "      <th>1</th>\n",
       "      <td>SLAD</td>\n",
       "      <td>0.880468</td>\n",
       "      <td>0.895327</td>\n",
       "      <td>0.898743</td>\n",
       "      <td>0.897032</td>\n",
       "    </tr>\n",
       "  </tbody>\n",
       "</table>\n",
       "</div>"
      ],
      "text/plain": [
       "  model  accuracy  precision    recall        f1\n",
       "0   DIF  0.866398   0.868190  0.907101  0.887219\n",
       "1  SLAD  0.880468   0.895327  0.898743  0.897032"
      ]
     },
     "execution_count": 58,
     "metadata": {},
     "output_type": "execute_result"
    }
   ],
   "source": [
    "results_df = pd.concat([results_dif, results_slad], ignore_index=True)\n",
    "results_df.to_csv('results/DeepOD_results.csv', index=False)\n",
    "\n",
    "results_df"
   ]
  }
 ],
 "metadata": {
  "kernelspec": {
   "display_name": "Python 3 (ipykernel)",
   "language": "python",
   "name": "python3"
  },
  "language_info": {
   "codemirror_mode": {
    "name": "ipython",
    "version": 3
   },
   "file_extension": ".py",
   "mimetype": "text/x-python",
   "name": "python",
   "nbconvert_exporter": "python",
   "pygments_lexer": "ipython3",
   "version": "3.10.5"
  }
 },
 "nbformat": 4,
 "nbformat_minor": 5
}
