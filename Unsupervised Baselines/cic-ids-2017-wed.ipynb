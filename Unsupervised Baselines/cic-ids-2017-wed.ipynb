{
 "cells": [
  {
   "cell_type": "markdown",
   "id": "c96bac89-1a77-4407-a21a-559ffbaf6811",
   "metadata": {},
   "source": [
    "# Imports"
   ]
  },
  {
   "cell_type": "code",
   "execution_count": 1,
   "id": "ed4b10f6-3abc-49ea-a201-3e0211cb9845",
   "metadata": {},
   "outputs": [],
   "source": [
    "import pandas as pd\n",
    "import numpy as np\n",
    "import matplotlib.pyplot as plt\n",
    "\n",
    "from sklearn.model_selection import train_test_split, GridSearchCV\n",
    "from sklearn.metrics import classification_report, accuracy_score, precision_score, recall_score, f1_score, roc_auc_score, confusion_matrix, mean_squared_error\n",
    "\n",
    "from tqdm import tqdm\n",
    "import time\n",
    "import joblib"
   ]
  },
  {
   "cell_type": "code",
   "execution_count": 2,
   "id": "660178fa-0a26-4b84-a436-27a5a78a4fd2",
   "metadata": {},
   "outputs": [],
   "source": [
    "X_train = np.load('/home/jovyan/ssl-ids/dataset/preprocessed/CIC-IDS-2017/WED/X_train.npy', allow_pickle=True)\n",
    "y_train = np.load('/home/jovyan/ssl-ids/dataset/preprocessed/CIC-IDS-2017/WED/y_train.npy', allow_pickle=True)\n",
    "\n",
    "X_test = np.load('/home/jovyan/ssl-ids/dataset/preprocessed/CIC-IDS-2017/WED/X_test.npy', allow_pickle=True)\n",
    "y_test = np.load('/home/jovyan/ssl-ids/dataset/preprocessed/CIC-IDS-2017/WED/y_test.npy', allow_pickle=True)\n",
    "\n",
    "#X_val = np.load('data/x_val.npy')\n",
    "#y_val = np.load('data/y_val.npy')"
   ]
  },
  {
   "cell_type": "code",
   "execution_count": 29,
   "id": "48590b0c-3fbc-455a-9a97-965a85767095",
   "metadata": {},
   "outputs": [],
   "source": [
    "#X_train = np.concatenate((X_train, X_val), axis=0)\n",
    "#y_train = np.concatenate((y_train, y_val), axis=0)"
   ]
  },
  {
   "cell_type": "markdown",
   "id": "40fc21cd-6eab-433c-b413-31022b01b7b4",
   "metadata": {},
   "source": [
    "# Playground"
   ]
  },
  {
   "cell_type": "code",
   "execution_count": 3,
   "id": "430eb414-c717-409d-9f41-9d13e19fdbe6",
   "metadata": {},
   "outputs": [
    {
     "data": {
      "text/plain": [
       "(array(['BENIGN', 'DoS GoldenEye', 'DoS Hulk', 'DoS Slowhttptest',\n",
       "        'DoS slowloris', 'Heartbleed'], dtype=object),\n",
       " array([307762,   7265, 161014,   3876,   4059,      8]))"
      ]
     },
     "execution_count": 3,
     "metadata": {},
     "output_type": "execute_result"
    }
   ],
   "source": [
    "np.unique(y_train, return_counts=True)"
   ]
  },
  {
   "cell_type": "code",
   "execution_count": 4,
   "id": "2eba9a16-f5a5-47fe-8c32-71a45655fd42",
   "metadata": {},
   "outputs": [],
   "source": [
    "normal_data = X_train[y_train == 'BENIGN'] # normal class"
   ]
  },
  {
   "cell_type": "markdown",
   "id": "4d4823bc-9931-47cd-9a67-24a55fa3aaab",
   "metadata": {},
   "source": [
    "# Helpers"
   ]
  },
  {
   "cell_type": "code",
   "execution_count": 5,
   "id": "915b12be-c246-44fc-9cab-14f9704f8f53",
   "metadata": {},
   "outputs": [],
   "source": [
    "def evaluate_model(model, y_test, y_pred):\n",
    "    positive_class = 'normal'\n",
    "    \n",
    "    accuracy = accuracy_score(y_test, y_pred)\n",
    "    \n",
    "    precision = precision_score(y_test, y_pred, pos_label=positive_class, zero_division=True)\n",
    "    recall = recall_score(y_test, y_pred, pos_label=positive_class, zero_division=True)\n",
    "    f1 = f1_score(y_test, y_pred, pos_label=positive_class, zero_division=True)\n",
    "    \n",
    "    metrics = {\n",
    "        'model': [model],\n",
    "        'accuracy': [accuracy],\n",
    "        'precision': [precision],\n",
    "        'recall': [recall],\n",
    "        'f1': [f1],\n",
    "    }\n",
    "    \n",
    "    return metrics"
   ]
  },
  {
   "cell_type": "markdown",
   "id": "1e4cc678-8e9b-453b-bade-c016e3301910",
   "metadata": {
    "tags": []
   },
   "source": [
    "# OCSVM"
   ]
  },
  {
   "cell_type": "code",
   "execution_count": 6,
   "id": "a2535744-38f4-4d53-8104-5877528a9c19",
   "metadata": {},
   "outputs": [],
   "source": [
    "from sklearn.svm import OneClassSVM"
   ]
  },
  {
   "cell_type": "code",
   "execution_count": 7,
   "id": "772cbdf1-b9c0-4fc6-9dc5-6dce553d4c4e",
   "metadata": {},
   "outputs": [
    {
     "name": "stderr",
     "output_type": "stream",
     "text": [
      "Training OCSVM: 100%|██████████| 3078/3078 [00:39<00:00, 77.44it/s] \n"
     ]
    }
   ],
   "source": [
    "ocsvm = OneClassSVM(kernel='rbf', gamma='auto')\n",
    "\n",
    "batch_size = 100\n",
    "n_batches = int(np.ceil(len(normal_data) / batch_size))\n",
    "\n",
    "for i in tqdm(range(n_batches), desc=\"Training OCSVM\"):\n",
    "    start = i * batch_size\n",
    "    end = min((i + 1) * batch_size, len(normal_data))\n",
    "    batch_data = normal_data[start:end]\n",
    "    \n",
    "    if i == 0:\n",
    "        ocsvm.fit(batch_data)\n",
    "    else:\n",
    "        ocsvm.fit(np.vstack((ocsvm.support_vectors_, batch_data)))"
   ]
  },
  {
   "cell_type": "code",
   "execution_count": null,
   "id": "c0df8315-1fbc-43e8-abfe-c7e2105694e4",
   "metadata": {},
   "outputs": [],
   "source": [
    "ocsvm = OneClassSVM(kernel='linear', gamma='auto')\n",
    "\n",
    "start_time = time.time()\n",
    "\n",
    "ocsvm.fit(normal_data)\n",
    "\n",
    "training_time = time.time() - start_time\n",
    "print(f\"Training Time: {training_time}\")"
   ]
  },
  {
   "cell_type": "code",
   "execution_count": 8,
   "id": "349bd5b6-4f97-483c-942f-d744c52f4484",
   "metadata": {},
   "outputs": [],
   "source": [
    "y_pred_test_ocsvm = ocsvm.predict(X_test)\n",
    "y_pred_test_ocsvm = np.where(y_pred_test_ocsvm == 1, 'normal', 'anomaly')\n",
    "y_test_converted_ocsvm = np.where(y_test == 'BENIGN', 'normal', 'anomaly')"
   ]
  },
  {
   "cell_type": "code",
   "execution_count": 9,
   "id": "7d273b15-8733-499b-a31b-73e5f1a7f3e1",
   "metadata": {},
   "outputs": [
    {
     "data": {
      "text/plain": [
       "{'model': ['ocsvm'],\n",
       " 'accuracy': [0.7082295466598101],\n",
       " 'precision': [0.6860870093888151],\n",
       " 'recall': [0.997865164281293],\n",
       " 'f1': [0.8131137416366443]}"
      ]
     },
     "execution_count": 9,
     "metadata": {},
     "output_type": "execute_result"
    }
   ],
   "source": [
    "evaluate_model(\"ocsvm\", y_test_converted_ocsvm, y_pred_test_ocsvm)"
   ]
  },
  {
   "cell_type": "code",
   "execution_count": 10,
   "id": "49e5119a-8c58-4bb4-9d49-142f9c1744f8",
   "metadata": {},
   "outputs": [
    {
     "data": {
      "text/html": [
       "<div>\n",
       "<style scoped>\n",
       "    .dataframe tbody tr th:only-of-type {\n",
       "        vertical-align: middle;\n",
       "    }\n",
       "\n",
       "    .dataframe tbody tr th {\n",
       "        vertical-align: top;\n",
       "    }\n",
       "\n",
       "    .dataframe thead th {\n",
       "        text-align: right;\n",
       "    }\n",
       "</style>\n",
       "<table border=\"1\" class=\"dataframe\">\n",
       "  <thead>\n",
       "    <tr style=\"text-align: right;\">\n",
       "      <th></th>\n",
       "      <th>model</th>\n",
       "      <th>accuracy</th>\n",
       "      <th>precision</th>\n",
       "      <th>recall</th>\n",
       "      <th>f1</th>\n",
       "    </tr>\n",
       "  </thead>\n",
       "  <tbody>\n",
       "    <tr>\n",
       "      <th>0</th>\n",
       "      <td>ocsvm</td>\n",
       "      <td>0.70823</td>\n",
       "      <td>0.686087</td>\n",
       "      <td>0.997865</td>\n",
       "      <td>0.813114</td>\n",
       "    </tr>\n",
       "  </tbody>\n",
       "</table>\n",
       "</div>"
      ],
      "text/plain": [
       "   model  accuracy  precision    recall        f1\n",
       "0  ocsvm   0.70823   0.686087  0.997865  0.813114"
      ]
     },
     "execution_count": 10,
     "metadata": {},
     "output_type": "execute_result"
    }
   ],
   "source": [
    "ocsvm_df = pd.DataFrame(evaluate_model(\"ocsvm\", y_test_converted_ocsvm, y_pred_test_ocsvm)) \n",
    "ocsvm_df"
   ]
  },
  {
   "cell_type": "markdown",
   "id": "399202a7-7f0d-42f9-baf2-2396e10d12bf",
   "metadata": {},
   "source": [
    "# SGDOCSVM"
   ]
  },
  {
   "cell_type": "code",
   "execution_count": 11,
   "id": "743e5aaf-ff76-4530-bbe8-4e67a4b3bd4d",
   "metadata": {},
   "outputs": [],
   "source": [
    "from sklearn.linear_model import SGDOneClassSVM"
   ]
  },
  {
   "cell_type": "code",
   "execution_count": 12,
   "id": "89d571d5-b3eb-490d-8201-ca3e30e33ad6",
   "metadata": {},
   "outputs": [
    {
     "name": "stdout",
     "output_type": "stream",
     "text": [
      "Training Time: 0.559891939163208\n"
     ]
    }
   ],
   "source": [
    "sgdocsvm = SGDOneClassSVM()\n",
    "\n",
    "start_time = time.time()\n",
    "\n",
    "sgdocsvm.fit(normal_data)\n",
    "\n",
    "training_time = time.time() - start_time\n",
    "print(f\"Training Time: {training_time}\")"
   ]
  },
  {
   "cell_type": "code",
   "execution_count": 13,
   "id": "505618e3-2e84-4b7f-b0a3-53954764149d",
   "metadata": {},
   "outputs": [],
   "source": [
    "y_pred_test_sgdocsvm = sgdocsvm.predict(X_test)\n",
    "y_pred_test_sgdocsvm = np.where(y_pred_test_sgdocsvm == 1, 'normal', 'anomaly')\n",
    "y_test_converted_sgdocsvm = np.where(y_test == 'BENIGN', 'normal', 'anomaly')"
   ]
  },
  {
   "cell_type": "code",
   "execution_count": 14,
   "id": "b3eb6c25-6663-46d4-b1cd-01d99190e063",
   "metadata": {},
   "outputs": [
    {
     "data": {
      "text/plain": [
       "{'model': ['sgdocsvm'],\n",
       " 'accuracy': [0.695188583733749],\n",
       " 'precision': [0.9802665299846233],\n",
       " 'recall': [0.5314983009739398],\n",
       " 'f1': [0.6892738665683744]}"
      ]
     },
     "execution_count": 14,
     "metadata": {},
     "output_type": "execute_result"
    }
   ],
   "source": [
    "evaluate_model(\"sgdocsvm\", y_test_converted_sgdocsvm, y_pred_test_sgdocsvm)"
   ]
  },
  {
   "cell_type": "code",
   "execution_count": 15,
   "id": "6daa0ec4-94c2-4b97-adad-6efde4394831",
   "metadata": {},
   "outputs": [
    {
     "data": {
      "text/html": [
       "<div>\n",
       "<style scoped>\n",
       "    .dataframe tbody tr th:only-of-type {\n",
       "        vertical-align: middle;\n",
       "    }\n",
       "\n",
       "    .dataframe tbody tr th {\n",
       "        vertical-align: top;\n",
       "    }\n",
       "\n",
       "    .dataframe thead th {\n",
       "        text-align: right;\n",
       "    }\n",
       "</style>\n",
       "<table border=\"1\" class=\"dataframe\">\n",
       "  <thead>\n",
       "    <tr style=\"text-align: right;\">\n",
       "      <th></th>\n",
       "      <th>model</th>\n",
       "      <th>accuracy</th>\n",
       "      <th>precision</th>\n",
       "      <th>recall</th>\n",
       "      <th>f1</th>\n",
       "    </tr>\n",
       "  </thead>\n",
       "  <tbody>\n",
       "    <tr>\n",
       "      <th>0</th>\n",
       "      <td>sgdocsvm</td>\n",
       "      <td>0.695189</td>\n",
       "      <td>0.980267</td>\n",
       "      <td>0.531498</td>\n",
       "      <td>0.689274</td>\n",
       "    </tr>\n",
       "  </tbody>\n",
       "</table>\n",
       "</div>"
      ],
      "text/plain": [
       "      model  accuracy  precision    recall        f1\n",
       "0  sgdocsvm  0.695189   0.980267  0.531498  0.689274"
      ]
     },
     "execution_count": 15,
     "metadata": {},
     "output_type": "execute_result"
    }
   ],
   "source": [
    "sgdocsvm_df = pd.DataFrame(evaluate_model(\"sgdocsvm\", y_test_converted_sgdocsvm, y_pred_test_sgdocsvm)) \n",
    "sgdocsvm_df"
   ]
  },
  {
   "cell_type": "markdown",
   "id": "a14dfdf7-2aa8-4dfd-90fa-4a9975bba0b5",
   "metadata": {},
   "source": [
    "# LOF"
   ]
  },
  {
   "cell_type": "code",
   "execution_count": 16,
   "id": "9c5573c6-f618-4aba-8268-f8f9c0f9a696",
   "metadata": {},
   "outputs": [],
   "source": [
    "from sklearn.neighbors import LocalOutlierFactor"
   ]
  },
  {
   "cell_type": "code",
   "execution_count": 17,
   "id": "1a849c5f-762e-4e31-ac95-48b08489ef53",
   "metadata": {},
   "outputs": [
    {
     "name": "stdout",
     "output_type": "stream",
     "text": [
      "Training Time: 26.538133144378662\n"
     ]
    }
   ],
   "source": [
    "start_time = time.time()\n",
    "\n",
    "lof = LocalOutlierFactor(n_neighbors=50, contamination=0.001, novelty=True)\n",
    "lof.fit(normal_data)\n",
    "\n",
    "training_time = time.time() - start_time\n",
    "print(f\"Training Time: {training_time}\")"
   ]
  },
  {
   "cell_type": "code",
   "execution_count": 18,
   "id": "68177a04-a84c-4686-a2c5-f3f5bc68c421",
   "metadata": {},
   "outputs": [],
   "source": [
    "y_pred_test_lof = lof.predict(X_test)\n",
    "y_pred_test_lof = np.where(y_pred_test_lof == 1, 'normal', 'anomaly')\n",
    "y_test_converted_lof = np.where(y_test == 'BENIGN', 'normal', 'anomaly')"
   ]
  },
  {
   "cell_type": "code",
   "execution_count": 19,
   "id": "46c434b9-b615-48da-b5a9-db47ca573a55",
   "metadata": {},
   "outputs": [
    {
     "data": {
      "text/plain": [
       "{'model': ['lof'],\n",
       " 'accuracy': [0.6364038118501615],\n",
       " 'precision': [0.636482179078528],\n",
       " 'recall': [0.9988757374025744],\n",
       " 'f1': [0.7775259465385768]}"
      ]
     },
     "execution_count": 19,
     "metadata": {},
     "output_type": "execute_result"
    }
   ],
   "source": [
    "evaluate_model(\"lof\", y_test_converted_lof, y_pred_test_lof)"
   ]
  },
  {
   "cell_type": "code",
   "execution_count": 20,
   "id": "8a98cd1d-d58a-4ee3-82a8-00bf7587cfda",
   "metadata": {},
   "outputs": [
    {
     "data": {
      "text/html": [
       "<div>\n",
       "<style scoped>\n",
       "    .dataframe tbody tr th:only-of-type {\n",
       "        vertical-align: middle;\n",
       "    }\n",
       "\n",
       "    .dataframe tbody tr th {\n",
       "        vertical-align: top;\n",
       "    }\n",
       "\n",
       "    .dataframe thead th {\n",
       "        text-align: right;\n",
       "    }\n",
       "</style>\n",
       "<table border=\"1\" class=\"dataframe\">\n",
       "  <thead>\n",
       "    <tr style=\"text-align: right;\">\n",
       "      <th></th>\n",
       "      <th>model</th>\n",
       "      <th>accuracy</th>\n",
       "      <th>precision</th>\n",
       "      <th>recall</th>\n",
       "      <th>f1</th>\n",
       "    </tr>\n",
       "  </thead>\n",
       "  <tbody>\n",
       "    <tr>\n",
       "      <th>0</th>\n",
       "      <td>lof</td>\n",
       "      <td>0.636404</td>\n",
       "      <td>0.636482</td>\n",
       "      <td>0.998876</td>\n",
       "      <td>0.777526</td>\n",
       "    </tr>\n",
       "  </tbody>\n",
       "</table>\n",
       "</div>"
      ],
      "text/plain": [
       "  model  accuracy  precision    recall        f1\n",
       "0   lof  0.636404   0.636482  0.998876  0.777526"
      ]
     },
     "execution_count": 20,
     "metadata": {},
     "output_type": "execute_result"
    }
   ],
   "source": [
    "lof_df = pd.DataFrame(evaluate_model(\"lof\", y_test_converted_lof, y_pred_test_lof)) \n",
    "lof_df"
   ]
  },
  {
   "cell_type": "markdown",
   "id": "4ea7340e-6c41-43ff-8c37-cf190444e88c",
   "metadata": {
    "tags": []
   },
   "source": [
    "# IF"
   ]
  },
  {
   "cell_type": "code",
   "execution_count": 21,
   "id": "7bf0d08f-86a8-4522-ac27-5c861e0c810f",
   "metadata": {},
   "outputs": [],
   "source": [
    "from sklearn.ensemble import IsolationForest"
   ]
  },
  {
   "cell_type": "code",
   "execution_count": 22,
   "id": "ac29cbaf-eb51-4652-8f2b-aacc142f2ec0",
   "metadata": {},
   "outputs": [
    {
     "name": "stdout",
     "output_type": "stream",
     "text": [
      "Training Time: 59.34796667098999\n"
     ]
    }
   ],
   "source": [
    "start_time = time.time()\n",
    "\n",
    "iforest = IsolationForest(n_estimators=200, max_samples=128, contamination=0.001, random_state=21)\n",
    "iforest.fit(normal_data)\n",
    "\n",
    "training_time = time.time() - start_time\n",
    "print(f\"Training Time: {training_time}\")"
   ]
  },
  {
   "cell_type": "code",
   "execution_count": 23,
   "id": "dad3d3fa-45fe-412b-acc3-1df7e5813843",
   "metadata": {},
   "outputs": [],
   "source": [
    "y_pred_test_if = iforest.predict(X_test)\n",
    "y_pred_test_if = np.where(y_pred_test_if == 1, 'normal', 'anomaly')\n",
    "y_test_converted_if = np.where(y_test == \"BENIGN\", 'normal', 'anomaly')"
   ]
  },
  {
   "cell_type": "code",
   "execution_count": 24,
   "id": "71e9f1d0-abd9-4d5a-9550-e3d162d11485",
   "metadata": {},
   "outputs": [
    {
     "data": {
      "text/plain": [
       "{'model': ['if'],\n",
       " 'accuracy': [0.635423529978948],\n",
       " 'precision': [0.6358424725822532],\n",
       " 'recall': [0.9989641625506865],\n",
       " 'f1': [0.7770751959122509]}"
      ]
     },
     "execution_count": 24,
     "metadata": {},
     "output_type": "execute_result"
    }
   ],
   "source": [
    "evaluate_model(\"if\", y_test_converted_if, y_pred_test_if)"
   ]
  },
  {
   "cell_type": "code",
   "execution_count": 25,
   "id": "45e29fd4-eda0-46e3-8c4d-0d088082ee8c",
   "metadata": {},
   "outputs": [
    {
     "data": {
      "text/html": [
       "<div>\n",
       "<style scoped>\n",
       "    .dataframe tbody tr th:only-of-type {\n",
       "        vertical-align: middle;\n",
       "    }\n",
       "\n",
       "    .dataframe tbody tr th {\n",
       "        vertical-align: top;\n",
       "    }\n",
       "\n",
       "    .dataframe thead th {\n",
       "        text-align: right;\n",
       "    }\n",
       "</style>\n",
       "<table border=\"1\" class=\"dataframe\">\n",
       "  <thead>\n",
       "    <tr style=\"text-align: right;\">\n",
       "      <th></th>\n",
       "      <th>model</th>\n",
       "      <th>accuracy</th>\n",
       "      <th>precision</th>\n",
       "      <th>recall</th>\n",
       "      <th>f1</th>\n",
       "    </tr>\n",
       "  </thead>\n",
       "  <tbody>\n",
       "    <tr>\n",
       "      <th>0</th>\n",
       "      <td>if</td>\n",
       "      <td>0.635424</td>\n",
       "      <td>0.635842</td>\n",
       "      <td>0.998964</td>\n",
       "      <td>0.777075</td>\n",
       "    </tr>\n",
       "  </tbody>\n",
       "</table>\n",
       "</div>"
      ],
      "text/plain": [
       "  model  accuracy  precision    recall        f1\n",
       "0    if  0.635424   0.635842  0.998964  0.777075"
      ]
     },
     "execution_count": 25,
     "metadata": {},
     "output_type": "execute_result"
    }
   ],
   "source": [
    "if_df = pd.DataFrame(evaluate_model(\"if\", y_test_converted_if, y_pred_test_if)) \n",
    "if_df"
   ]
  },
  {
   "cell_type": "markdown",
   "id": "a768d5b1-956c-46c1-a407-babfbb9017ee",
   "metadata": {},
   "source": [
    "# PCA Reconstruction"
   ]
  },
  {
   "cell_type": "code",
   "execution_count": 26,
   "id": "d12c604e-c2ea-4c2b-94d4-1f835de14328",
   "metadata": {},
   "outputs": [],
   "source": [
    "from sklearn.decomposition import PCA"
   ]
  },
  {
   "cell_type": "code",
   "execution_count": 27,
   "id": "cfb05aee-1189-4cf9-9702-032bf77b523c",
   "metadata": {},
   "outputs": [
    {
     "name": "stdout",
     "output_type": "stream",
     "text": [
      "Training Time: 0.9824776649475098\n"
     ]
    }
   ],
   "source": [
    "start_time = time.time()\n",
    "\n",
    "pca = PCA(n_components=10)\n",
    "pca.fit(normal_data)\n",
    "\n",
    "training_time = time.time() - start_time\n",
    "print(f\"Training Time: {training_time}\")"
   ]
  },
  {
   "cell_type": "code",
   "execution_count": 28,
   "id": "077efbeb-d0c6-4823-bdfa-3690db126742",
   "metadata": {},
   "outputs": [],
   "source": [
    "normal_data_pca = pca.transform(normal_data)\n",
    "normal_data_reconstructed = pca.inverse_transform(normal_data_pca)\n",
    "\n",
    "train_reconstruction_error = np.mean((normal_data - normal_data_reconstructed) ** 2, axis=1)"
   ]
  },
  {
   "cell_type": "code",
   "execution_count": 29,
   "id": "abc8c20e-885c-4c56-bec4-f947a9639f5a",
   "metadata": {},
   "outputs": [],
   "source": [
    "threshold = np.percentile(train_reconstruction_error, 95)"
   ]
  },
  {
   "cell_type": "code",
   "execution_count": 30,
   "id": "fb19469b-f0db-4ee5-bafd-7eb375477077",
   "metadata": {},
   "outputs": [],
   "source": [
    "X_test_pca = pca.transform(X_test)\n",
    "X_test_reconstructed = pca.inverse_transform(X_test_pca)\n",
    "\n",
    "test_reconstruction_error = np.mean((X_test - X_test_reconstructed) ** 2, axis=1)"
   ]
  },
  {
   "cell_type": "code",
   "execution_count": 31,
   "id": "273becc0-0f02-4480-86a3-fd8bed6ad741",
   "metadata": {},
   "outputs": [
    {
     "data": {
      "text/plain": [
       "array([0.85440871, 2.14936658, 0.4279379 , ..., 0.12364499, 1.01218548,\n",
       "       2.1430408 ])"
      ]
     },
     "execution_count": 31,
     "metadata": {},
     "output_type": "execute_result"
    }
   ],
   "source": [
    "test_reconstruction_error"
   ]
  },
  {
   "cell_type": "code",
   "execution_count": 32,
   "id": "4c6cbf4f-ba57-4a6b-8e32-8676757b91e5",
   "metadata": {},
   "outputs": [],
   "source": [
    "y_pred_test_pca = (test_reconstruction_error > threshold).astype(int)\n",
    "y_pred_test_pca = np.where(y_pred_test_pca == 1, 'normal', 'anomaly')\n",
    "y_test_converted_pca = np.where(y_test == \"BENIGN\", 'normal', 'anomaly')"
   ]
  },
  {
   "cell_type": "code",
   "execution_count": 33,
   "id": "97f7ff0a-ea02-43e4-809f-f7cf54c40074",
   "metadata": {},
   "outputs": [
    {
     "data": {
      "text/plain": [
       "{'model': ['pca'],\n",
       " 'accuracy': [0.13715107589952916],\n",
       " 'precision': [0.11267566974088714],\n",
       " 'recall': [0.05185503328575218],\n",
       " 'f1': [0.07102383321077901]}"
      ]
     },
     "execution_count": 33,
     "metadata": {},
     "output_type": "execute_result"
    }
   ],
   "source": [
    "evaluate_model(\"pca\", y_test_converted_pca, y_pred_test_pca)"
   ]
  },
  {
   "cell_type": "code",
   "execution_count": 34,
   "id": "282cec7a-14be-4767-ad8d-1a1363da312c",
   "metadata": {},
   "outputs": [
    {
     "data": {
      "text/html": [
       "<div>\n",
       "<style scoped>\n",
       "    .dataframe tbody tr th:only-of-type {\n",
       "        vertical-align: middle;\n",
       "    }\n",
       "\n",
       "    .dataframe tbody tr th {\n",
       "        vertical-align: top;\n",
       "    }\n",
       "\n",
       "    .dataframe thead th {\n",
       "        text-align: right;\n",
       "    }\n",
       "</style>\n",
       "<table border=\"1\" class=\"dataframe\">\n",
       "  <thead>\n",
       "    <tr style=\"text-align: right;\">\n",
       "      <th></th>\n",
       "      <th>model</th>\n",
       "      <th>accuracy</th>\n",
       "      <th>precision</th>\n",
       "      <th>recall</th>\n",
       "      <th>f1</th>\n",
       "    </tr>\n",
       "  </thead>\n",
       "  <tbody>\n",
       "    <tr>\n",
       "      <th>0</th>\n",
       "      <td>pca</td>\n",
       "      <td>0.137151</td>\n",
       "      <td>0.112676</td>\n",
       "      <td>0.051855</td>\n",
       "      <td>0.071024</td>\n",
       "    </tr>\n",
       "  </tbody>\n",
       "</table>\n",
       "</div>"
      ],
      "text/plain": [
       "  model  accuracy  precision    recall        f1\n",
       "0   pca  0.137151   0.112676  0.051855  0.071024"
      ]
     },
     "execution_count": 34,
     "metadata": {},
     "output_type": "execute_result"
    }
   ],
   "source": [
    "pca_df = pd.DataFrame(evaluate_model(\"pca\", y_test_converted_pca, y_pred_test_pca)) \n",
    "pca_df"
   ]
  },
  {
   "cell_type": "markdown",
   "id": "ee501f31-d109-4f70-8c17-0da91048985a",
   "metadata": {},
   "source": [
    "# Results"
   ]
  },
  {
   "cell_type": "code",
   "execution_count": 35,
   "id": "ce8fa937-5790-4561-85da-1a783442f9b8",
   "metadata": {},
   "outputs": [
    {
     "data": {
      "text/html": [
       "<div>\n",
       "<style scoped>\n",
       "    .dataframe tbody tr th:only-of-type {\n",
       "        vertical-align: middle;\n",
       "    }\n",
       "\n",
       "    .dataframe tbody tr th {\n",
       "        vertical-align: top;\n",
       "    }\n",
       "\n",
       "    .dataframe thead th {\n",
       "        text-align: right;\n",
       "    }\n",
       "</style>\n",
       "<table border=\"1\" class=\"dataframe\">\n",
       "  <thead>\n",
       "    <tr style=\"text-align: right;\">\n",
       "      <th></th>\n",
       "      <th>model</th>\n",
       "      <th>accuracy</th>\n",
       "      <th>precision</th>\n",
       "      <th>recall</th>\n",
       "      <th>f1</th>\n",
       "    </tr>\n",
       "  </thead>\n",
       "  <tbody>\n",
       "    <tr>\n",
       "      <th>0</th>\n",
       "      <td>ocsvm</td>\n",
       "      <td>0.708230</td>\n",
       "      <td>0.686087</td>\n",
       "      <td>0.997865</td>\n",
       "      <td>0.813114</td>\n",
       "    </tr>\n",
       "    <tr>\n",
       "      <th>1</th>\n",
       "      <td>sgdocsvm</td>\n",
       "      <td>0.695189</td>\n",
       "      <td>0.980267</td>\n",
       "      <td>0.531498</td>\n",
       "      <td>0.689274</td>\n",
       "    </tr>\n",
       "    <tr>\n",
       "      <th>2</th>\n",
       "      <td>lof</td>\n",
       "      <td>0.636404</td>\n",
       "      <td>0.636482</td>\n",
       "      <td>0.998876</td>\n",
       "      <td>0.777526</td>\n",
       "    </tr>\n",
       "    <tr>\n",
       "      <th>3</th>\n",
       "      <td>if</td>\n",
       "      <td>0.635424</td>\n",
       "      <td>0.635842</td>\n",
       "      <td>0.998964</td>\n",
       "      <td>0.777075</td>\n",
       "    </tr>\n",
       "    <tr>\n",
       "      <th>4</th>\n",
       "      <td>pca</td>\n",
       "      <td>0.137151</td>\n",
       "      <td>0.112676</td>\n",
       "      <td>0.051855</td>\n",
       "      <td>0.071024</td>\n",
       "    </tr>\n",
       "  </tbody>\n",
       "</table>\n",
       "</div>"
      ],
      "text/plain": [
       "      model  accuracy  precision    recall        f1\n",
       "0     ocsvm  0.708230   0.686087  0.997865  0.813114\n",
       "1  sgdocsvm  0.695189   0.980267  0.531498  0.689274\n",
       "2       lof  0.636404   0.636482  0.998876  0.777526\n",
       "3        if  0.635424   0.635842  0.998964  0.777075\n",
       "4       pca  0.137151   0.112676  0.051855  0.071024"
      ]
     },
     "execution_count": 35,
     "metadata": {},
     "output_type": "execute_result"
    }
   ],
   "source": [
    "results_df = pd.concat([ocsvm_df, sgdocsvm_df, lof_df, if_df, pca_df], ignore_index=True)\n",
    "results_df.to_csv('/home/jovyan/ssl-ids/result/CIC-IDS-2017/results_cic_ids_2017_wed.csv', index=False)\n",
    "\n",
    "results_df"
   ]
  },
  {
   "cell_type": "code",
   "execution_count": 36,
   "id": "ec157cda-fbde-4d13-be41-980e14e35d84",
   "metadata": {},
   "outputs": [
    {
     "data": {
      "text/plain": [
       "['/home/jovyan/ssl-ids/model/CIC-IDS-2017/WED/pca.pkl']"
      ]
     },
     "execution_count": 36,
     "metadata": {},
     "output_type": "execute_result"
    }
   ],
   "source": [
    "joblib.dump(ocsvm, '/home/jovyan/ssl-ids/model/CIC-IDS-2017/WED/ocsvm.pkl')\n",
    "joblib.dump(sgdocsvm, '/home/jovyan/ssl-ids/model/CIC-IDS-2017/WED/sgdocsvm.pkl')\n",
    "joblib.dump(lof, '/home/jovyan/ssl-ids/model/CIC-IDS-2017/WED/lof.pkl')\n",
    "joblib.dump(iforest, '/home/jovyan/ssl-ids/model/CIC-IDS-2017/WED/iforest.pkl')\n",
    "joblib.dump(pca, '/home/jovyan/ssl-ids/model/CIC-IDS-2017/WED/pca.pkl')"
   ]
  },
  {
   "cell_type": "code",
   "execution_count": null,
   "id": "c3ce9cbe-6414-415d-a5e2-2164378c63c0",
   "metadata": {},
   "outputs": [],
   "source": []
  }
 ],
 "metadata": {
  "kernelspec": {
   "display_name": "Python 3 (ipykernel)",
   "language": "python",
   "name": "python3"
  },
  "language_info": {
   "codemirror_mode": {
    "name": "ipython",
    "version": 3
   },
   "file_extension": ".py",
   "mimetype": "text/x-python",
   "name": "python",
   "nbconvert_exporter": "python",
   "pygments_lexer": "ipython3",
   "version": "3.11.5"
  }
 },
 "nbformat": 4,
 "nbformat_minor": 5
}
