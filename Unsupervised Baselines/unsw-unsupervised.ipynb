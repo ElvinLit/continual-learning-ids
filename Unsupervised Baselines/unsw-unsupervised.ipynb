{
 "cells": [
  {
   "cell_type": "markdown",
   "id": "c96bac89-1a77-4407-a21a-559ffbaf6811",
   "metadata": {},
   "source": [
    "# Imports"
   ]
  },
  {
   "cell_type": "code",
   "execution_count": 1,
   "id": "ed4b10f6-3abc-49ea-a201-3e0211cb9845",
   "metadata": {},
   "outputs": [],
   "source": [
    "import pandas as pd\n",
    "import numpy as np\n",
    "import matplotlib.pyplot as plt\n",
    "\n",
    "from sklearn.model_selection import train_test_split, GridSearchCV\n",
    "from sklearn.metrics import classification_report, accuracy_score, precision_score, recall_score, f1_score, roc_auc_score, confusion_matrix\n",
    "\n",
    "from tqdm import tqdm\n",
    "from time import time"
   ]
  },
  {
   "cell_type": "code",
   "execution_count": 2,
   "id": "33a8188e-c21d-4e24-93f4-c2290a301403",
   "metadata": {},
   "outputs": [],
   "source": [
    "X_train = np.load('data/x_train.npy')\n",
    "y_train = np.load('data/y_train.npy')\n",
    "\n",
    "X_test = np.load('data/x_test.npy')\n",
    "y_test = np.load('data/y_test.npy')\n",
    "\n",
    "#X_val = np.load('data/x_val.npy')\n",
    "#y_val = np.load('data/y_val.npy')"
   ]
  },
  {
   "cell_type": "code",
   "execution_count": 3,
   "id": "48590b0c-3fbc-455a-9a97-965a85767095",
   "metadata": {},
   "outputs": [],
   "source": [
    "#X_train = np.concatenate((X_train, X_val), axis=0)\n",
    "#y_train = np.concatenate((y_train, y_val), axis=0)"
   ]
  },
  {
   "cell_type": "markdown",
   "id": "40fc21cd-6eab-433c-b413-31022b01b7b4",
   "metadata": {},
   "source": [
    "# Playground"
   ]
  },
  {
   "cell_type": "code",
   "execution_count": 4,
   "id": "430eb414-c717-409d-9f41-9d13e19fdbe6",
   "metadata": {},
   "outputs": [
    {
     "data": {
      "text/plain": [
       "(array([0, 1, 2, 3, 4, 5, 6, 7, 8, 9]),\n",
       " array([ 2142,  1863, 13082, 35620, 19397, 47097, 74400, 11189,  1209,\n",
       "          139]))"
      ]
     },
     "execution_count": 4,
     "metadata": {},
     "output_type": "execute_result"
    }
   ],
   "source": [
    "np.unique(y_train, return_counts=True)"
   ]
  },
  {
   "cell_type": "markdown",
   "id": "89a689b7-b407-4d1d-883c-932e4210e5d6",
   "metadata": {},
   "source": [
    "6 is normal class"
   ]
  },
  {
   "cell_type": "code",
   "execution_count": 5,
   "id": "2eba9a16-f5a5-47fe-8c32-71a45655fd42",
   "metadata": {},
   "outputs": [],
   "source": [
    "normal_data = X_train[y_train == 6] # normal class"
   ]
  },
  {
   "cell_type": "code",
   "execution_count": 6,
   "id": "2aeaa664-7786-44e3-946b-cf81e1b2f134",
   "metadata": {},
   "outputs": [
    {
     "data": {
      "text/plain": [
       "(array([0, 1, 2, 3, 4, 5, 6, 7, 8, 9]),\n",
       " array([  535,   466,  3271,  8905,  4849, 11774, 18600,  2798,   302,\n",
       "           35]))"
      ]
     },
     "execution_count": 6,
     "metadata": {},
     "output_type": "execute_result"
    }
   ],
   "source": [
    "np.unique(y_test, return_counts=True)"
   ]
  },
  {
   "cell_type": "code",
   "execution_count": 7,
   "id": "1778e5ce-70c3-4fea-b79c-2eede2bbc418",
   "metadata": {},
   "outputs": [
    {
     "data": {
      "text/plain": [
       "74400"
      ]
     },
     "execution_count": 7,
     "metadata": {},
     "output_type": "execute_result"
    }
   ],
   "source": [
    "len(normal_data)"
   ]
  },
  {
   "cell_type": "markdown",
   "id": "4d4823bc-9931-47cd-9a67-24a55fa3aaab",
   "metadata": {},
   "source": [
    "# Helpers"
   ]
  },
  {
   "cell_type": "code",
   "execution_count": 8,
   "id": "915b12be-c246-44fc-9cab-14f9704f8f53",
   "metadata": {},
   "outputs": [],
   "source": [
    "def evaluate_model(model, y_test, y_pred):\n",
    "    positive_class = 'normal'\n",
    "    \n",
    "    accuracy = accuracy_score(y_test, y_pred)\n",
    "    \n",
    "    precision = precision_score(y_test, y_pred, pos_label=positive_class)\n",
    "    recall = recall_score(y_test, y_pred, pos_label=positive_class)\n",
    "    f1 = f1_score(y_test, y_pred, pos_label=positive_class)\n",
    "    \n",
    "    metrics = {\n",
    "        'model': [model],\n",
    "        'accuracy': [accuracy],\n",
    "        'precision': [precision],\n",
    "        'recall': [recall],\n",
    "        'f1': [f1],\n",
    "    }\n",
    "    \n",
    "    return metrics"
   ]
  },
  {
   "cell_type": "markdown",
   "id": "030d9e9f-3ff0-4a01-895c-ec7d7da4f6a2",
   "metadata": {},
   "source": [
    "# SGD-OCSVM"
   ]
  },
  {
   "cell_type": "code",
   "execution_count": 9,
   "id": "7a57076e-36ce-4589-8030-9b6c310b8806",
   "metadata": {},
   "outputs": [],
   "source": [
    "from sklearn.linear_model import SGDOneClassSVM"
   ]
  },
  {
   "cell_type": "code",
   "execution_count": 74,
   "id": "36bb9abc-66f5-4d79-b92c-41e0447774a3",
   "metadata": {},
   "outputs": [
    {
     "name": "stdout",
     "output_type": "stream",
     "text": [
      "seconds: 0.09594535827636719\n"
     ]
    }
   ],
   "source": [
    "sgd_ocsvm_start = time()\n",
    "\n",
    "sgd_ocsvm = SGDOneClassSVM(nu=0.03, max_iter=1000, tol=0.001, learning_rate='invscaling', eta0=0.1, random_state=42)\n",
    "sgd_ocsvm.fit(normal_data)\n",
    "        \n",
    "print(f\"seconds: {time() - sgd_ocsvm_start}\")"
   ]
  },
  {
   "cell_type": "code",
   "execution_count": 75,
   "id": "72b11993-7ece-4945-a851-f26edbd0edc5",
   "metadata": {},
   "outputs": [],
   "source": [
    "y_pred_test_sgd_ocsvm = sgd_ocsvm.predict(X_test)\n",
    "y_pred_test_sgd_ocsvm = np.where(y_pred_test_sgd_ocsvm == 1, 'normal', 'anomaly')\n",
    "y_test_converted_sgd_ocsvm = np.where(y_test == 6, 'normal', 'anomaly')"
   ]
  },
  {
   "cell_type": "code",
   "execution_count": 76,
   "id": "d78af723-8a85-4ad3-9f94-d468a2724369",
   "metadata": {},
   "outputs": [
    {
     "data": {
      "text/html": [
       "<div>\n",
       "<style scoped>\n",
       "    .dataframe tbody tr th:only-of-type {\n",
       "        vertical-align: middle;\n",
       "    }\n",
       "\n",
       "    .dataframe tbody tr th {\n",
       "        vertical-align: top;\n",
       "    }\n",
       "\n",
       "    .dataframe thead th {\n",
       "        text-align: right;\n",
       "    }\n",
       "</style>\n",
       "<table border=\"1\" class=\"dataframe\">\n",
       "  <thead>\n",
       "    <tr style=\"text-align: right;\">\n",
       "      <th></th>\n",
       "      <th>model</th>\n",
       "      <th>accuracy</th>\n",
       "      <th>precision</th>\n",
       "      <th>recall</th>\n",
       "      <th>f1</th>\n",
       "    </tr>\n",
       "  </thead>\n",
       "  <tbody>\n",
       "    <tr>\n",
       "      <th>0</th>\n",
       "      <td>sgd_ocsvm</td>\n",
       "      <td>0.790861</td>\n",
       "      <td>0.636815</td>\n",
       "      <td>0.97871</td>\n",
       "      <td>0.771585</td>\n",
       "    </tr>\n",
       "  </tbody>\n",
       "</table>\n",
       "</div>"
      ],
      "text/plain": [
       "       model  accuracy  precision   recall        f1\n",
       "0  sgd_ocsvm  0.790861   0.636815  0.97871  0.771585"
      ]
     },
     "execution_count": 76,
     "metadata": {},
     "output_type": "execute_result"
    }
   ],
   "source": [
    "sgd_ocsvm_df = pd.DataFrame(evaluate_model(\"sgd_ocsvm\", y_test_converted_sgd_ocsvm, y_pred_test_sgd_ocsvm))\n",
    "sgd_ocsvm_df"
   ]
  },
  {
   "cell_type": "markdown",
   "id": "19ad8525-c7c2-4815-8a94-4037e135bcb5",
   "metadata": {},
   "source": [
    "# PCA Reconstruction"
   ]
  },
  {
   "cell_type": "code",
   "execution_count": 77,
   "id": "27789342-6581-46f2-b5a4-6441e595c26e",
   "metadata": {},
   "outputs": [],
   "source": [
    "from sklearn.decomposition import PCA"
   ]
  },
  {
   "cell_type": "code",
   "execution_count": 111,
   "id": "26ef825e-79a8-46b6-9c86-75a429dd0259",
   "metadata": {},
   "outputs": [
    {
     "name": "stdout",
     "output_type": "stream",
     "text": [
      "seconds: 1.5492980480194092\n"
     ]
    }
   ],
   "source": [
    "pca_start = time()\n",
    "\n",
    "pca = PCA(n_components=30, whiten=True, svd_solver='auto')\n",
    "\n",
    "normal_data_pca = pca.fit_transform(normal_data)\n",
    "normal_data_reconstructed = pca.inverse_transform(normal_data_pca)\n",
    "\n",
    "reconstruction_error = np.mean((normal_data - normal_data_reconstructed) ** 2, axis=1)\n",
    "\n",
    "threshold = np.percentile(reconstruction_error, 95)\n",
    "\n",
    "X_test_pca = pca.transform(X_test)\n",
    "X_test_reconstructed = pca.inverse_transform(X_test_pca)\n",
    "X_test_reconstruction_error = np.mean((X_test - X_test_reconstructed) ** 2, axis=1)\n",
    "\n",
    "print(f\"seconds: {time() - pca_start}\")"
   ]
  },
  {
   "cell_type": "code",
   "execution_count": 112,
   "id": "e786e2f9-361e-4f4d-8817-373820e82b3d",
   "metadata": {},
   "outputs": [],
   "source": [
    "y_pred_test_pca = np.where(X_test_reconstruction_error > threshold, 'anomaly', 'normal')\n",
    "y_test_converted_pca = np.where(y_test == 6, 'normal', 'anomaly')"
   ]
  },
  {
   "cell_type": "code",
   "execution_count": 113,
   "id": "d4d80c53-f8a4-423d-8b37-cd9a61a0a4b5",
   "metadata": {},
   "outputs": [
    {
     "data": {
      "text/html": [
       "<div>\n",
       "<style scoped>\n",
       "    .dataframe tbody tr th:only-of-type {\n",
       "        vertical-align: middle;\n",
       "    }\n",
       "\n",
       "    .dataframe tbody tr th {\n",
       "        vertical-align: top;\n",
       "    }\n",
       "\n",
       "    .dataframe thead th {\n",
       "        text-align: right;\n",
       "    }\n",
       "</style>\n",
       "<table border=\"1\" class=\"dataframe\">\n",
       "  <thead>\n",
       "    <tr style=\"text-align: right;\">\n",
       "      <th></th>\n",
       "      <th>model</th>\n",
       "      <th>accuracy</th>\n",
       "      <th>precision</th>\n",
       "      <th>recall</th>\n",
       "      <th>f1</th>\n",
       "    </tr>\n",
       "  </thead>\n",
       "  <tbody>\n",
       "    <tr>\n",
       "      <th>0</th>\n",
       "      <td>PCA Reconstruction</td>\n",
       "      <td>0.795576</td>\n",
       "      <td>0.647749</td>\n",
       "      <td>0.950484</td>\n",
       "      <td>0.770444</td>\n",
       "    </tr>\n",
       "  </tbody>\n",
       "</table>\n",
       "</div>"
      ],
      "text/plain": [
       "                model  accuracy  precision    recall        f1\n",
       "0  PCA Reconstruction  0.795576   0.647749  0.950484  0.770444"
      ]
     },
     "execution_count": 113,
     "metadata": {},
     "output_type": "execute_result"
    }
   ],
   "source": [
    "pca_df = pd.DataFrame(evaluate_model('PCA Reconstruction', y_test_converted_pca, y_pred_test_pca))\n",
    "pca_df"
   ]
  },
  {
   "cell_type": "markdown",
   "id": "cc4d9c6e-dede-4c02-bb8b-2dd0625d516b",
   "metadata": {},
   "source": [
    "# Results (2)"
   ]
  },
  {
   "cell_type": "code",
   "execution_count": 114,
   "id": "b9c68c69-92a8-4ed2-a161-29c7ba3dfa8c",
   "metadata": {},
   "outputs": [
    {
     "data": {
      "text/html": [
       "<div>\n",
       "<style scoped>\n",
       "    .dataframe tbody tr th:only-of-type {\n",
       "        vertical-align: middle;\n",
       "    }\n",
       "\n",
       "    .dataframe tbody tr th {\n",
       "        vertical-align: top;\n",
       "    }\n",
       "\n",
       "    .dataframe thead th {\n",
       "        text-align: right;\n",
       "    }\n",
       "</style>\n",
       "<table border=\"1\" class=\"dataframe\">\n",
       "  <thead>\n",
       "    <tr style=\"text-align: right;\">\n",
       "      <th></th>\n",
       "      <th>model</th>\n",
       "      <th>accuracy</th>\n",
       "      <th>precision</th>\n",
       "      <th>recall</th>\n",
       "      <th>f1</th>\n",
       "    </tr>\n",
       "  </thead>\n",
       "  <tbody>\n",
       "    <tr>\n",
       "      <th>0</th>\n",
       "      <td>sgd_ocsvm</td>\n",
       "      <td>0.790861</td>\n",
       "      <td>0.636815</td>\n",
       "      <td>0.978710</td>\n",
       "      <td>0.771585</td>\n",
       "    </tr>\n",
       "    <tr>\n",
       "      <th>1</th>\n",
       "      <td>PCA Reconstruction</td>\n",
       "      <td>0.795576</td>\n",
       "      <td>0.647749</td>\n",
       "      <td>0.950484</td>\n",
       "      <td>0.770444</td>\n",
       "    </tr>\n",
       "  </tbody>\n",
       "</table>\n",
       "</div>"
      ],
      "text/plain": [
       "                model  accuracy  precision    recall        f1\n",
       "0           sgd_ocsvm  0.790861   0.636815  0.978710  0.771585\n",
       "1  PCA Reconstruction  0.795576   0.647749  0.950484  0.770444"
      ]
     },
     "execution_count": 114,
     "metadata": {},
     "output_type": "execute_result"
    }
   ],
   "source": [
    "results_df = pd.concat([sgd_ocsvm_df, pca_df], ignore_index=True)\n",
    "results_df.to_csv('results/results_unsw_2.csv', index=False)\n",
    "\n",
    "results_df"
   ]
  },
  {
   "cell_type": "markdown",
   "id": "2903e084-d146-440e-9803-d40a2380fd6d",
   "metadata": {},
   "source": [
    "# OCSVM"
   ]
  },
  {
   "cell_type": "code",
   "execution_count": 45,
   "id": "a2535744-38f4-4d53-8104-5877528a9c19",
   "metadata": {},
   "outputs": [],
   "source": [
    "from sklearn.svm import OneClassSVM"
   ]
  },
  {
   "cell_type": "code",
   "execution_count": 106,
   "id": "15ee9fbd-0c6e-4c78-8564-3dcb0f1ab4cb",
   "metadata": {},
   "outputs": [
    {
     "name": "stderr",
     "output_type": "stream",
     "text": [
      "Training OCSVM: 100%|██████████| 1/1 [02:04<00:00, 124.83s/it]\n"
     ]
    }
   ],
   "source": [
    "ocsvm = OneClassSVM(kernel='rbf', gamma=0.1, nu=0.5)\n",
    "\n",
    "batch_size = 50000\n",
    "n_batches = 1# int(np.ceil(len(normal_data) / batch_size))\n",
    "\n",
    "for i in tqdm(range(n_batches), desc=\"Training OCSVM\"):\n",
    "    start = i * batch_size\n",
    "    end = min((i + 1) * batch_size, len(normal_data))\n",
    "    batch_data = normal_data[start:end]\n",
    "    \n",
    "    if i == 0:\n",
    "        ocsvm.fit(batch_data)\n",
    "    else:\n",
    "        ocsvm.fit(np.vstack((ocsvm.support_vectors_, batch_data)))"
   ]
  },
  {
   "cell_type": "code",
   "execution_count": 107,
   "id": "6861f788-17ea-4901-a2fd-be7cef67d37f",
   "metadata": {},
   "outputs": [],
   "source": [
    "y_pred_test_ocsvm = ocsvm.predict(X_test)\n",
    "y_pred_test_ocsvm = np.where(y_pred_test_ocsvm == 1, 'normal', 'anomaly')\n",
    "y_test_converted_ocsvm = np.where(y_test == 6, 'normal', 'anomaly')"
   ]
  },
  {
   "cell_type": "code",
   "execution_count": 108,
   "id": "49e5119a-8c58-4bb4-9d49-142f9c1744f8",
   "metadata": {},
   "outputs": [
    {
     "data": {
      "text/html": [
       "<div>\n",
       "<style scoped>\n",
       "    .dataframe tbody tr th:only-of-type {\n",
       "        vertical-align: middle;\n",
       "    }\n",
       "\n",
       "    .dataframe tbody tr th {\n",
       "        vertical-align: top;\n",
       "    }\n",
       "\n",
       "    .dataframe thead th {\n",
       "        text-align: right;\n",
       "    }\n",
       "</style>\n",
       "<table border=\"1\" class=\"dataframe\">\n",
       "  <thead>\n",
       "    <tr style=\"text-align: right;\">\n",
       "      <th></th>\n",
       "      <th>model</th>\n",
       "      <th>accuracy</th>\n",
       "      <th>precision</th>\n",
       "      <th>recall</th>\n",
       "      <th>f1</th>\n",
       "    </tr>\n",
       "  </thead>\n",
       "  <tbody>\n",
       "    <tr>\n",
       "      <th>0</th>\n",
       "      <td>ocsvm</td>\n",
       "      <td>0.765887</td>\n",
       "      <td>0.760379</td>\n",
       "      <td>0.513011</td>\n",
       "      <td>0.612668</td>\n",
       "    </tr>\n",
       "  </tbody>\n",
       "</table>\n",
       "</div>"
      ],
      "text/plain": [
       "   model  accuracy  precision    recall        f1\n",
       "0  ocsvm  0.765887   0.760379  0.513011  0.612668"
      ]
     },
     "execution_count": 108,
     "metadata": {},
     "output_type": "execute_result"
    }
   ],
   "source": [
    "ocsvm_df = pd.DataFrame(evaluate_model(\"ocsvm\", y_test_converted_ocsvm, y_pred_test_ocsvm))\n",
    "ocsvm_df"
   ]
  },
  {
   "cell_type": "markdown",
   "id": "a14dfdf7-2aa8-4dfd-90fa-4a9975bba0b5",
   "metadata": {},
   "source": [
    "# LOF"
   ]
  },
  {
   "cell_type": "code",
   "execution_count": 121,
   "id": "9c5573c6-f618-4aba-8268-f8f9c0f9a696",
   "metadata": {},
   "outputs": [],
   "source": [
    "from sklearn.neighbors import LocalOutlierFactor"
   ]
  },
  {
   "cell_type": "code",
   "execution_count": 122,
   "id": "1a849c5f-762e-4e31-ac95-48b08489ef53",
   "metadata": {},
   "outputs": [
    {
     "name": "stdout",
     "output_type": "stream",
     "text": [
      "seconds: 26.28725290298462\n"
     ]
    }
   ],
   "source": [
    "lof_start = time()\n",
    "\n",
    "lof = LocalOutlierFactor(n_neighbors=25, contamination=0.1, novelty=True)\n",
    "lof.fit(X_train)\n",
    "\n",
    "print(f\"seconds: {time() - lof_start}\")"
   ]
  },
  {
   "cell_type": "code",
   "execution_count": 123,
   "id": "68177a04-a84c-4686-a2c5-f3f5bc68c421",
   "metadata": {},
   "outputs": [],
   "source": [
    "y_pred_test_lof = lof.predict(X_test)\n",
    "y_pred_test_lof = np.where(y_pred_test_lof == 1, 'normal', 'anomaly')\n",
    "y_test_converted_lof = np.where(y_test == 6, 'normal', 'anomaly')"
   ]
  },
  {
   "cell_type": "code",
   "execution_count": 124,
   "id": "8a98cd1d-d58a-4ee3-82a8-00bf7587cfda",
   "metadata": {},
   "outputs": [
    {
     "data": {
      "text/html": [
       "<div>\n",
       "<style scoped>\n",
       "    .dataframe tbody tr th:only-of-type {\n",
       "        vertical-align: middle;\n",
       "    }\n",
       "\n",
       "    .dataframe tbody tr th {\n",
       "        vertical-align: top;\n",
       "    }\n",
       "\n",
       "    .dataframe thead th {\n",
       "        text-align: right;\n",
       "    }\n",
       "</style>\n",
       "<table border=\"1\" class=\"dataframe\">\n",
       "  <thead>\n",
       "    <tr style=\"text-align: right;\">\n",
       "      <th></th>\n",
       "      <th>model</th>\n",
       "      <th>accuracy</th>\n",
       "      <th>precision</th>\n",
       "      <th>recall</th>\n",
       "      <th>f1</th>\n",
       "    </tr>\n",
       "  </thead>\n",
       "  <tbody>\n",
       "    <tr>\n",
       "      <th>0</th>\n",
       "      <td>lof</td>\n",
       "      <td>0.426293</td>\n",
       "      <td>0.381883</td>\n",
       "      <td>0.953065</td>\n",
       "      <td>0.545278</td>\n",
       "    </tr>\n",
       "  </tbody>\n",
       "</table>\n",
       "</div>"
      ],
      "text/plain": [
       "  model  accuracy  precision    recall        f1\n",
       "0   lof  0.426293   0.381883  0.953065  0.545278"
      ]
     },
     "execution_count": 124,
     "metadata": {},
     "output_type": "execute_result"
    }
   ],
   "source": [
    "lof_df = pd.DataFrame(evaluate_model(\"lof\", y_test_converted_lof, y_pred_test_lof)) \n",
    "lof_df"
   ]
  },
  {
   "cell_type": "markdown",
   "id": "4ea7340e-6c41-43ff-8c37-cf190444e88c",
   "metadata": {
    "tags": []
   },
   "source": [
    "# IF"
   ]
  },
  {
   "cell_type": "code",
   "execution_count": 125,
   "id": "7bf0d08f-86a8-4522-ac27-5c861e0c810f",
   "metadata": {},
   "outputs": [],
   "source": [
    "from sklearn.ensemble import IsolationForest"
   ]
  },
  {
   "cell_type": "code",
   "execution_count": 154,
   "id": "ac29cbaf-eb51-4652-8f2b-aacc142f2ec0",
   "metadata": {},
   "outputs": [
    {
     "name": "stdout",
     "output_type": "stream",
     "text": [
      "seconds: 44.988903522491455\n"
     ]
    }
   ],
   "source": [
    "if_start = time()\n",
    "\n",
    "iforest = IsolationForest(n_estimators=400, max_samples=5192, contamination=0.1, random_state=42)\n",
    "iforest.fit(X_train)\n",
    "\n",
    "print(f\"seconds: {time() - if_start}\")"
   ]
  },
  {
   "cell_type": "code",
   "execution_count": 155,
   "id": "dad3d3fa-45fe-412b-acc3-1df7e5813843",
   "metadata": {},
   "outputs": [],
   "source": [
    "y_pred_test_if = iforest.predict(X_test)\n",
    "y_pred_test_if = np.where(y_pred_test_if == 1, 'normal', 'anomaly')\n",
    "y_test_converted_if = np.where(y_test == 6, 'normal', 'anomaly')"
   ]
  },
  {
   "cell_type": "code",
   "execution_count": 157,
   "id": "45e29fd4-eda0-46e3-8c4d-0d088082ee8c",
   "metadata": {},
   "outputs": [
    {
     "data": {
      "text/html": [
       "<div>\n",
       "<style scoped>\n",
       "    .dataframe tbody tr th:only-of-type {\n",
       "        vertical-align: middle;\n",
       "    }\n",
       "\n",
       "    .dataframe tbody tr th {\n",
       "        vertical-align: top;\n",
       "    }\n",
       "\n",
       "    .dataframe thead th {\n",
       "        text-align: right;\n",
       "    }\n",
       "</style>\n",
       "<table border=\"1\" class=\"dataframe\">\n",
       "  <thead>\n",
       "    <tr style=\"text-align: right;\">\n",
       "      <th></th>\n",
       "      <th>model</th>\n",
       "      <th>accuracy</th>\n",
       "      <th>precision</th>\n",
       "      <th>recall</th>\n",
       "      <th>f1</th>\n",
       "    </tr>\n",
       "  </thead>\n",
       "  <tbody>\n",
       "    <tr>\n",
       "      <th>0</th>\n",
       "      <td>if</td>\n",
       "      <td>0.34625</td>\n",
       "      <td>0.337483</td>\n",
       "      <td>0.842419</td>\n",
       "      <td>0.481908</td>\n",
       "    </tr>\n",
       "  </tbody>\n",
       "</table>\n",
       "</div>"
      ],
      "text/plain": [
       "  model  accuracy  precision    recall        f1\n",
       "0    if   0.34625   0.337483  0.842419  0.481908"
      ]
     },
     "execution_count": 157,
     "metadata": {},
     "output_type": "execute_result"
    }
   ],
   "source": [
    "if_df = pd.DataFrame(evaluate_model(\"if\", y_test_converted_if, y_pred_test_if))\n",
    "if_df"
   ]
  },
  {
   "cell_type": "markdown",
   "id": "ee501f31-d109-4f70-8c17-0da91048985a",
   "metadata": {},
   "source": [
    "# Results"
   ]
  },
  {
   "cell_type": "code",
   "execution_count": 158,
   "id": "ce8fa937-5790-4561-85da-1a783442f9b8",
   "metadata": {},
   "outputs": [
    {
     "data": {
      "text/html": [
       "<div>\n",
       "<style scoped>\n",
       "    .dataframe tbody tr th:only-of-type {\n",
       "        vertical-align: middle;\n",
       "    }\n",
       "\n",
       "    .dataframe tbody tr th {\n",
       "        vertical-align: top;\n",
       "    }\n",
       "\n",
       "    .dataframe thead th {\n",
       "        text-align: right;\n",
       "    }\n",
       "</style>\n",
       "<table border=\"1\" class=\"dataframe\">\n",
       "  <thead>\n",
       "    <tr style=\"text-align: right;\">\n",
       "      <th></th>\n",
       "      <th>model</th>\n",
       "      <th>accuracy</th>\n",
       "      <th>precision</th>\n",
       "      <th>recall</th>\n",
       "      <th>f1</th>\n",
       "    </tr>\n",
       "  </thead>\n",
       "  <tbody>\n",
       "    <tr>\n",
       "      <th>0</th>\n",
       "      <td>ocsvm</td>\n",
       "      <td>0.765887</td>\n",
       "      <td>0.760379</td>\n",
       "      <td>0.513011</td>\n",
       "      <td>0.612668</td>\n",
       "    </tr>\n",
       "    <tr>\n",
       "      <th>1</th>\n",
       "      <td>lof</td>\n",
       "      <td>0.426293</td>\n",
       "      <td>0.381883</td>\n",
       "      <td>0.953065</td>\n",
       "      <td>0.545278</td>\n",
       "    </tr>\n",
       "    <tr>\n",
       "      <th>2</th>\n",
       "      <td>if</td>\n",
       "      <td>0.346250</td>\n",
       "      <td>0.337483</td>\n",
       "      <td>0.842419</td>\n",
       "      <td>0.481908</td>\n",
       "    </tr>\n",
       "  </tbody>\n",
       "</table>\n",
       "</div>"
      ],
      "text/plain": [
       "   model  accuracy  precision    recall        f1\n",
       "0  ocsvm  0.765887   0.760379  0.513011  0.612668\n",
       "1    lof  0.426293   0.381883  0.953065  0.545278\n",
       "2     if  0.346250   0.337483  0.842419  0.481908"
      ]
     },
     "execution_count": 158,
     "metadata": {},
     "output_type": "execute_result"
    }
   ],
   "source": [
    "results_df = pd.concat([ocsvm_df, lof_df, if_df], ignore_index=True)\n",
    "results_df.to_csv('results/results_unsw.csv', index=False)\n",
    "\n",
    "results_df"
   ]
  }
 ],
 "metadata": {
  "kernelspec": {
   "display_name": "Python 3 (ipykernel)",
   "language": "python",
   "name": "python3"
  },
  "language_info": {
   "codemirror_mode": {
    "name": "ipython",
    "version": 3
   },
   "file_extension": ".py",
   "mimetype": "text/x-python",
   "name": "python",
   "nbconvert_exporter": "python",
   "pygments_lexer": "ipython3",
   "version": "3.10.5"
  }
 },
 "nbformat": 4,
 "nbformat_minor": 5
}
