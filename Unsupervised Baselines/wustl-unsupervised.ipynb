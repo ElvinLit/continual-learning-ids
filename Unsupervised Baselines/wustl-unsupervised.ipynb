{
 "cells": [
  {
   "cell_type": "markdown",
   "id": "c96bac89-1a77-4407-a21a-559ffbaf6811",
   "metadata": {},
   "source": [
    "# Imports"
   ]
  },
  {
   "cell_type": "code",
   "execution_count": 1,
   "id": "ed4b10f6-3abc-49ea-a201-3e0211cb9845",
   "metadata": {},
   "outputs": [],
   "source": [
    "import pandas as pd\n",
    "import numpy as np\n",
    "import matplotlib.pyplot as plt\n",
    "\n",
    "from sklearn.model_selection import train_test_split, GridSearchCV\n",
    "from sklearn.metrics import classification_report, accuracy_score, precision_score, recall_score, f1_score, roc_auc_score, confusion_matrix\n",
    "\n",
    "from tqdm import tqdm\n",
    "from time import time"
   ]
  },
  {
   "cell_type": "code",
   "execution_count": 2,
   "id": "33a8188e-c21d-4e24-93f4-c2290a301403",
   "metadata": {},
   "outputs": [],
   "source": [
    "X_train = np.load('data/x_train.npy')\n",
    "y_train = np.load('data/y_train.npy')\n",
    "\n",
    "X_test = np.load('data/x_test.npy')\n",
    "y_test = np.load('data/y_test.npy')\n",
    "\n",
    "#X_val = np.load('data/x_val.npy')\n",
    "#y_val = np.load('data/y_val.npy')"
   ]
  },
  {
   "cell_type": "code",
   "execution_count": 3,
   "id": "48590b0c-3fbc-455a-9a97-965a85767095",
   "metadata": {},
   "outputs": [],
   "source": [
    "#X_train = np.concatenate((X_train, X_val), axis=0)\n",
    "#y_train = np.concatenate((y_train, y_val), axis=0)"
   ]
  },
  {
   "cell_type": "markdown",
   "id": "40fc21cd-6eab-433c-b413-31022b01b7b4",
   "metadata": {},
   "source": [
    "# Playground"
   ]
  },
  {
   "cell_type": "code",
   "execution_count": 4,
   "id": "430eb414-c717-409d-9f41-9d13e19fdbe6",
   "metadata": {},
   "outputs": [
    {
     "data": {
      "text/plain": [
       "(array([0, 1, 2, 3, 4]), array([   166,    210,  62760,   6637, 885235]))"
      ]
     },
     "execution_count": 4,
     "metadata": {},
     "output_type": "execute_result"
    }
   ],
   "source": [
    "np.unique(y_train, return_counts=True)"
   ]
  },
  {
   "cell_type": "markdown",
   "id": "89a689b7-b407-4d1d-883c-932e4210e5d6",
   "metadata": {},
   "source": [
    "4 is normal class"
   ]
  },
  {
   "cell_type": "code",
   "execution_count": 5,
   "id": "2eba9a16-f5a5-47fe-8c32-71a45655fd42",
   "metadata": {},
   "outputs": [],
   "source": [
    "normal_data = X_train[y_train == 4] # 11 is normal class"
   ]
  },
  {
   "cell_type": "markdown",
   "id": "4d4823bc-9931-47cd-9a67-24a55fa3aaab",
   "metadata": {},
   "source": [
    "# Helpers"
   ]
  },
  {
   "cell_type": "code",
   "execution_count": 6,
   "id": "915b12be-c246-44fc-9cab-14f9704f8f53",
   "metadata": {},
   "outputs": [],
   "source": [
    "def evaluate_model(model, y_test, y_pred):\n",
    "    positive_class = 'normal'\n",
    "    \n",
    "    accuracy = accuracy_score(y_test, y_pred)\n",
    "    \n",
    "    precision = precision_score(y_test, y_pred, pos_label=positive_class)\n",
    "    recall = recall_score(y_test, y_pred, pos_label=positive_class)\n",
    "    f1 = f1_score(y_test, y_pred, pos_label=positive_class)\n",
    "    \n",
    "    metrics = {\n",
    "        'model': [model],\n",
    "        'accuracy': [accuracy],\n",
    "        'precision': [precision],\n",
    "        'recall': [recall],\n",
    "        'f1': [f1],\n",
    "    }\n",
    "    \n",
    "    return metrics"
   ]
  },
  {
   "cell_type": "markdown",
   "id": "669d90c6-d18b-435b-8b34-a0169c63a3da",
   "metadata": {},
   "source": [
    "# SGD-OCSVM"
   ]
  },
  {
   "cell_type": "code",
   "execution_count": 7,
   "id": "94c841f6-55a6-49c4-a9d1-e4a9c958efdd",
   "metadata": {},
   "outputs": [],
   "source": [
    "from sklearn.linear_model import SGDOneClassSVM"
   ]
  },
  {
   "cell_type": "code",
   "execution_count": 29,
   "id": "6a434ef5-2fe9-4f6d-adf9-ce04b05f0c51",
   "metadata": {},
   "outputs": [
    {
     "name": "stdout",
     "output_type": "stream",
     "text": [
      "seconds: 1.4948680400848389\n"
     ]
    }
   ],
   "source": [
    "sgd_ocsvm_start = time()\n",
    "\n",
    "sgd_ocsvm = SGDOneClassSVM(nu=0.001, max_iter=1000, tol=0.001, learning_rate='optimal', eta0=0.5, random_state=42)\n",
    "sgd_ocsvm.fit(normal_data)\n",
    "        \n",
    "print(f\"seconds: {time() - sgd_ocsvm_start}\")"
   ]
  },
  {
   "cell_type": "code",
   "execution_count": 30,
   "id": "a8f0c852-56a4-4ec3-9bc7-d390bc41d92a",
   "metadata": {},
   "outputs": [],
   "source": [
    "y_pred_test_sgd_ocsvm = sgd_ocsvm.predict(X_test)\n",
    "y_pred_test_sgd_ocsvm = np.where(y_pred_test_sgd_ocsvm == 1, 'normal', 'anomaly')\n",
    "y_test_converted_sgd_ocsvm = np.where(y_test == 4, 'normal', 'anomaly')"
   ]
  },
  {
   "cell_type": "code",
   "execution_count": 31,
   "id": "ecaa6304-b3ae-4fd0-98e0-e242a2ae54dd",
   "metadata": {},
   "outputs": [
    {
     "data": {
      "text/html": [
       "<div>\n",
       "<style scoped>\n",
       "    .dataframe tbody tr th:only-of-type {\n",
       "        vertical-align: middle;\n",
       "    }\n",
       "\n",
       "    .dataframe tbody tr th {\n",
       "        vertical-align: top;\n",
       "    }\n",
       "\n",
       "    .dataframe thead th {\n",
       "        text-align: right;\n",
       "    }\n",
       "</style>\n",
       "<table border=\"1\" class=\"dataframe\">\n",
       "  <thead>\n",
       "    <tr style=\"text-align: right;\">\n",
       "      <th></th>\n",
       "      <th>model</th>\n",
       "      <th>accuracy</th>\n",
       "      <th>precision</th>\n",
       "      <th>recall</th>\n",
       "      <th>f1</th>\n",
       "    </tr>\n",
       "  </thead>\n",
       "  <tbody>\n",
       "    <tr>\n",
       "      <th>0</th>\n",
       "      <td>sgd_ocsvm</td>\n",
       "      <td>0.926564</td>\n",
       "      <td>0.927875</td>\n",
       "      <td>0.998461</td>\n",
       "      <td>0.961874</td>\n",
       "    </tr>\n",
       "  </tbody>\n",
       "</table>\n",
       "</div>"
      ],
      "text/plain": [
       "       model  accuracy  precision    recall        f1\n",
       "0  sgd_ocsvm  0.926564   0.927875  0.998461  0.961874"
      ]
     },
     "execution_count": 31,
     "metadata": {},
     "output_type": "execute_result"
    }
   ],
   "source": [
    "sgd_ocsvm_df = pd.DataFrame(evaluate_model(\"sgd_ocsvm\", y_test_converted_sgd_ocsvm, y_pred_test_sgd_ocsvm))\n",
    "sgd_ocsvm_df"
   ]
  },
  {
   "cell_type": "markdown",
   "id": "bec252c5-82aa-4f4a-9496-8ae1cb8adbb5",
   "metadata": {},
   "source": [
    "# PCA Reconstruction"
   ]
  },
  {
   "cell_type": "code",
   "execution_count": 32,
   "id": "333175ba-ac6b-4a18-a350-56f07a9cad84",
   "metadata": {},
   "outputs": [],
   "source": [
    "from sklearn.decomposition import PCA"
   ]
  },
  {
   "cell_type": "code",
   "execution_count": 45,
   "id": "7618b7fb-7baa-4754-bf9f-64b9b5316ca7",
   "metadata": {},
   "outputs": [
    {
     "name": "stdout",
     "output_type": "stream",
     "text": [
      "seconds: 5.7105419635772705\n"
     ]
    }
   ],
   "source": [
    "pca_start = time()\n",
    "\n",
    "pca = PCA(n_components=2, whiten=True, svd_solver='auto')\n",
    "\n",
    "normal_data_pca = pca.fit_transform(normal_data)\n",
    "normal_data_reconstructed = pca.inverse_transform(normal_data_pca)\n",
    "\n",
    "reconstruction_error = np.mean((normal_data - normal_data_reconstructed) ** 2, axis=1)\n",
    "\n",
    "threshold = np.percentile(reconstruction_error, 95)\n",
    "\n",
    "X_test_pca = pca.transform(X_test)\n",
    "X_test_reconstructed = pca.inverse_transform(X_test_pca)\n",
    "X_test_reconstruction_error = np.mean((X_test - X_test_reconstructed) ** 2, axis=1)\n",
    "\n",
    "print(f\"seconds: {time() - pca_start}\")"
   ]
  },
  {
   "cell_type": "code",
   "execution_count": 46,
   "id": "33b03678-633c-47a1-8aa2-58d700eb5d55",
   "metadata": {},
   "outputs": [],
   "source": [
    "y_pred_test_pca = np.where(X_test_reconstruction_error > threshold, 'anomaly', 'normal')\n",
    "y_test_converted_pca = np.where(y_test == 4, 'normal', 'anomaly')"
   ]
  },
  {
   "cell_type": "code",
   "execution_count": 47,
   "id": "37d3b02f-a4c0-45d3-83cd-7334f0cb093b",
   "metadata": {},
   "outputs": [
    {
     "data": {
      "text/html": [
       "<div>\n",
       "<style scoped>\n",
       "    .dataframe tbody tr th:only-of-type {\n",
       "        vertical-align: middle;\n",
       "    }\n",
       "\n",
       "    .dataframe tbody tr th {\n",
       "        vertical-align: top;\n",
       "    }\n",
       "\n",
       "    .dataframe thead th {\n",
       "        text-align: right;\n",
       "    }\n",
       "</style>\n",
       "<table border=\"1\" class=\"dataframe\">\n",
       "  <thead>\n",
       "    <tr style=\"text-align: right;\">\n",
       "      <th></th>\n",
       "      <th>model</th>\n",
       "      <th>accuracy</th>\n",
       "      <th>precision</th>\n",
       "      <th>recall</th>\n",
       "      <th>f1</th>\n",
       "    </tr>\n",
       "  </thead>\n",
       "  <tbody>\n",
       "    <tr>\n",
       "      <th>0</th>\n",
       "      <td>PCA Reconstruction</td>\n",
       "      <td>0.953802</td>\n",
       "      <td>1.0</td>\n",
       "      <td>0.950206</td>\n",
       "      <td>0.974467</td>\n",
       "    </tr>\n",
       "  </tbody>\n",
       "</table>\n",
       "</div>"
      ],
      "text/plain": [
       "                model  accuracy  precision    recall        f1\n",
       "0  PCA Reconstruction  0.953802        1.0  0.950206  0.974467"
      ]
     },
     "execution_count": 47,
     "metadata": {},
     "output_type": "execute_result"
    }
   ],
   "source": [
    "pca_df = pd.DataFrame(evaluate_model('PCA Reconstruction', y_test_converted_pca, y_pred_test_pca))\n",
    "pca_df"
   ]
  },
  {
   "cell_type": "markdown",
   "id": "88d300a3-0083-465d-865c-bc3ab323165b",
   "metadata": {},
   "source": [
    "# Results (2)"
   ]
  },
  {
   "cell_type": "code",
   "execution_count": 49,
   "id": "ffd99aa5-113f-4530-85d4-3a048a7fdbbf",
   "metadata": {},
   "outputs": [
    {
     "data": {
      "text/html": [
       "<div>\n",
       "<style scoped>\n",
       "    .dataframe tbody tr th:only-of-type {\n",
       "        vertical-align: middle;\n",
       "    }\n",
       "\n",
       "    .dataframe tbody tr th {\n",
       "        vertical-align: top;\n",
       "    }\n",
       "\n",
       "    .dataframe thead th {\n",
       "        text-align: right;\n",
       "    }\n",
       "</style>\n",
       "<table border=\"1\" class=\"dataframe\">\n",
       "  <thead>\n",
       "    <tr style=\"text-align: right;\">\n",
       "      <th></th>\n",
       "      <th>model</th>\n",
       "      <th>accuracy</th>\n",
       "      <th>precision</th>\n",
       "      <th>recall</th>\n",
       "      <th>f1</th>\n",
       "    </tr>\n",
       "  </thead>\n",
       "  <tbody>\n",
       "    <tr>\n",
       "      <th>0</th>\n",
       "      <td>sgd_ocsvm</td>\n",
       "      <td>0.926564</td>\n",
       "      <td>0.927875</td>\n",
       "      <td>0.998461</td>\n",
       "      <td>0.961874</td>\n",
       "    </tr>\n",
       "    <tr>\n",
       "      <th>1</th>\n",
       "      <td>PCA Reconstruction</td>\n",
       "      <td>0.953802</td>\n",
       "      <td>1.000000</td>\n",
       "      <td>0.950206</td>\n",
       "      <td>0.974467</td>\n",
       "    </tr>\n",
       "  </tbody>\n",
       "</table>\n",
       "</div>"
      ],
      "text/plain": [
       "                model  accuracy  precision    recall        f1\n",
       "0           sgd_ocsvm  0.926564   0.927875  0.998461  0.961874\n",
       "1  PCA Reconstruction  0.953802   1.000000  0.950206  0.974467"
      ]
     },
     "execution_count": 49,
     "metadata": {},
     "output_type": "execute_result"
    }
   ],
   "source": [
    "results_df = pd.concat([sgd_ocsvm_df, pca_df], ignore_index=True)\n",
    "results_df.to_csv('results/results_wustl_2.csv', index=False)\n",
    "\n",
    "results_df"
   ]
  },
  {
   "cell_type": "markdown",
   "id": "1e4cc678-8e9b-453b-bade-c016e3301910",
   "metadata": {
    "tags": []
   },
   "source": [
    "# OCSVM"
   ]
  },
  {
   "cell_type": "code",
   "execution_count": 7,
   "id": "a2535744-38f4-4d53-8104-5877528a9c19",
   "metadata": {},
   "outputs": [],
   "source": [
    "from sklearn.svm import OneClassSVM"
   ]
  },
  {
   "cell_type": "code",
   "execution_count": 8,
   "id": "15ee9fbd-0c6e-4c78-8564-3dcb0f1ab4cb",
   "metadata": {},
   "outputs": [
    {
     "name": "stderr",
     "output_type": "stream",
     "text": [
      "Training OCSVM: 100%|██████████| 1/1 [00:02<00:00,  2.02s/it]\n"
     ]
    }
   ],
   "source": [
    "ocsvm = OneClassSVM(kernel='rbf', gamma=5, nu=0.01)\n",
    "\n",
    "batch_size = 50000\n",
    "n_batches = 1# int(np.ceil(len(normal_data) / batch_size))\n",
    "\n",
    "for i in tqdm(range(n_batches), desc=\"Training OCSVM\"):\n",
    "    start = i * batch_size\n",
    "    end = min((i + 1) * batch_size, len(normal_data))\n",
    "    batch_data = normal_data[start:end]\n",
    "    \n",
    "    if i == 0:\n",
    "        ocsvm.fit(batch_data)\n",
    "    else:\n",
    "        ocsvm.fit(np.vstack((ocsvm.support_vectors_, batch_data)))"
   ]
  },
  {
   "cell_type": "code",
   "execution_count": 9,
   "id": "6861f788-17ea-4901-a2fd-be7cef67d37f",
   "metadata": {},
   "outputs": [],
   "source": [
    "y_pred_test_ocsvm = ocsvm.predict(X_test)\n",
    "y_pred_test_ocsvm = np.where(y_pred_test_ocsvm == 1, 'normal', 'anomaly')\n",
    "y_test_converted_ocsvm = np.where(y_test == 4, 'normal', 'anomaly')"
   ]
  },
  {
   "cell_type": "code",
   "execution_count": 10,
   "id": "49e5119a-8c58-4bb4-9d49-142f9c1744f8",
   "metadata": {},
   "outputs": [
    {
     "data": {
      "text/html": [
       "<div>\n",
       "<style scoped>\n",
       "    .dataframe tbody tr th:only-of-type {\n",
       "        vertical-align: middle;\n",
       "    }\n",
       "\n",
       "    .dataframe tbody tr th {\n",
       "        vertical-align: top;\n",
       "    }\n",
       "\n",
       "    .dataframe thead th {\n",
       "        text-align: right;\n",
       "    }\n",
       "</style>\n",
       "<table border=\"1\" class=\"dataframe\">\n",
       "  <thead>\n",
       "    <tr style=\"text-align: right;\">\n",
       "      <th></th>\n",
       "      <th>model</th>\n",
       "      <th>accuracy</th>\n",
       "      <th>precision</th>\n",
       "      <th>recall</th>\n",
       "      <th>f1</th>\n",
       "    </tr>\n",
       "  </thead>\n",
       "  <tbody>\n",
       "    <tr>\n",
       "      <th>0</th>\n",
       "      <td>ocsvm</td>\n",
       "      <td>0.990509</td>\n",
       "      <td>0.999736</td>\n",
       "      <td>0.990032</td>\n",
       "      <td>0.99486</td>\n",
       "    </tr>\n",
       "  </tbody>\n",
       "</table>\n",
       "</div>"
      ],
      "text/plain": [
       "   model  accuracy  precision    recall       f1\n",
       "0  ocsvm  0.990509   0.999736  0.990032  0.99486"
      ]
     },
     "execution_count": 10,
     "metadata": {},
     "output_type": "execute_result"
    }
   ],
   "source": [
    "ocsvm_df = pd.DataFrame(evaluate_model(\"ocsvm\", y_test_converted_ocsvm, y_pred_test_ocsvm)) \n",
    "ocsvm_df"
   ]
  },
  {
   "cell_type": "markdown",
   "id": "a14dfdf7-2aa8-4dfd-90fa-4a9975bba0b5",
   "metadata": {},
   "source": [
    "# LOF"
   ]
  },
  {
   "cell_type": "code",
   "execution_count": 11,
   "id": "9c5573c6-f618-4aba-8268-f8f9c0f9a696",
   "metadata": {},
   "outputs": [],
   "source": [
    "from sklearn.neighbors import LocalOutlierFactor"
   ]
  },
  {
   "cell_type": "code",
   "execution_count": 12,
   "id": "1a849c5f-762e-4e31-ac95-48b08489ef53",
   "metadata": {},
   "outputs": [
    {
     "name": "stdout",
     "output_type": "stream",
     "text": [
      "seconds: 439.2442111968994\n"
     ]
    }
   ],
   "source": [
    "lof_start = time()\n",
    "\n",
    "lof = LocalOutlierFactor(n_neighbors=50, contamination=0.0001, novelty=True)\n",
    "lof.fit(X_train)\n",
    "\n",
    "print(f\"seconds: {time() - lof_start}\")"
   ]
  },
  {
   "cell_type": "code",
   "execution_count": 13,
   "id": "68177a04-a84c-4686-a2c5-f3f5bc68c421",
   "metadata": {},
   "outputs": [],
   "source": [
    "y_pred_test_lof = lof.predict(X_test)\n",
    "y_pred_test_lof = np.where(y_pred_test_lof == 1, 'normal', 'anomaly')\n",
    "y_test_converted_lof = np.where(y_test == 4, 'normal', 'anomaly')"
   ]
  },
  {
   "cell_type": "code",
   "execution_count": 14,
   "id": "8a98cd1d-d58a-4ee3-82a8-00bf7587cfda",
   "metadata": {},
   "outputs": [
    {
     "data": {
      "text/html": [
       "<div>\n",
       "<style scoped>\n",
       "    .dataframe tbody tr th:only-of-type {\n",
       "        vertical-align: middle;\n",
       "    }\n",
       "\n",
       "    .dataframe tbody tr th {\n",
       "        vertical-align: top;\n",
       "    }\n",
       "\n",
       "    .dataframe thead th {\n",
       "        text-align: right;\n",
       "    }\n",
       "</style>\n",
       "<table border=\"1\" class=\"dataframe\">\n",
       "  <thead>\n",
       "    <tr style=\"text-align: right;\">\n",
       "      <th></th>\n",
       "      <th>model</th>\n",
       "      <th>accuracy</th>\n",
       "      <th>precision</th>\n",
       "      <th>recall</th>\n",
       "      <th>f1</th>\n",
       "    </tr>\n",
       "  </thead>\n",
       "  <tbody>\n",
       "    <tr>\n",
       "      <th>0</th>\n",
       "      <td>lof</td>\n",
       "      <td>0.927804</td>\n",
       "      <td>0.927839</td>\n",
       "      <td>0.999955</td>\n",
       "      <td>0.962548</td>\n",
       "    </tr>\n",
       "  </tbody>\n",
       "</table>\n",
       "</div>"
      ],
      "text/plain": [
       "  model  accuracy  precision    recall        f1\n",
       "0   lof  0.927804   0.927839  0.999955  0.962548"
      ]
     },
     "execution_count": 14,
     "metadata": {},
     "output_type": "execute_result"
    }
   ],
   "source": [
    "lof_df = pd.DataFrame(evaluate_model(\"lof\", y_test_converted_lof, y_pred_test_lof))  \n",
    "lof_df"
   ]
  },
  {
   "cell_type": "markdown",
   "id": "4ea7340e-6c41-43ff-8c37-cf190444e88c",
   "metadata": {
    "tags": []
   },
   "source": [
    "# IF"
   ]
  },
  {
   "cell_type": "code",
   "execution_count": 15,
   "id": "7bf0d08f-86a8-4522-ac27-5c861e0c810f",
   "metadata": {},
   "outputs": [],
   "source": [
    "from sklearn.ensemble import IsolationForest"
   ]
  },
  {
   "cell_type": "code",
   "execution_count": 52,
   "id": "ac29cbaf-eb51-4652-8f2b-aacc142f2ec0",
   "metadata": {},
   "outputs": [
    {
     "name": "stdout",
     "output_type": "stream",
     "text": [
      "seconds: 43.22564077377319\n"
     ]
    }
   ],
   "source": [
    "if_start = time()\n",
    "\n",
    "iforest = IsolationForest(n_estimators=100, max_samples=256, contamination=0.1, random_state=42)\n",
    "iforest.fit(X_train)\n",
    "\n",
    "print(f\"seconds: {time() - if_start}\")"
   ]
  },
  {
   "cell_type": "code",
   "execution_count": 53,
   "id": "dad3d3fa-45fe-412b-acc3-1df7e5813843",
   "metadata": {},
   "outputs": [],
   "source": [
    "y_pred_test_if = iforest.predict(X_test)\n",
    "y_pred_test_if = np.where(y_pred_test_if == 1, 'normal', 'anomaly')\n",
    "y_test_converted_if = np.where(y_test == 4, 'normal', 'anomaly')"
   ]
  },
  {
   "cell_type": "code",
   "execution_count": 54,
   "id": "45e29fd4-eda0-46e3-8c4d-0d088082ee8c",
   "metadata": {},
   "outputs": [
    {
     "data": {
      "text/html": [
       "<div>\n",
       "<style scoped>\n",
       "    .dataframe tbody tr th:only-of-type {\n",
       "        vertical-align: middle;\n",
       "    }\n",
       "\n",
       "    .dataframe tbody tr th {\n",
       "        vertical-align: top;\n",
       "    }\n",
       "\n",
       "    .dataframe thead th {\n",
       "        text-align: right;\n",
       "    }\n",
       "</style>\n",
       "<table border=\"1\" class=\"dataframe\">\n",
       "  <thead>\n",
       "    <tr style=\"text-align: right;\">\n",
       "      <th></th>\n",
       "      <th>model</th>\n",
       "      <th>accuracy</th>\n",
       "      <th>precision</th>\n",
       "      <th>recall</th>\n",
       "      <th>f1</th>\n",
       "    </tr>\n",
       "  </thead>\n",
       "  <tbody>\n",
       "    <tr>\n",
       "      <th>0</th>\n",
       "      <td>if</td>\n",
       "      <td>0.973022</td>\n",
       "      <td>1.0</td>\n",
       "      <td>0.970923</td>\n",
       "      <td>0.985247</td>\n",
       "    </tr>\n",
       "  </tbody>\n",
       "</table>\n",
       "</div>"
      ],
      "text/plain": [
       "  model  accuracy  precision    recall        f1\n",
       "0    if  0.973022        1.0  0.970923  0.985247"
      ]
     },
     "execution_count": 54,
     "metadata": {},
     "output_type": "execute_result"
    }
   ],
   "source": [
    "if_df = pd.DataFrame(evaluate_model(\"if\", y_test_converted_if, y_pred_test_if))  \n",
    "if_df"
   ]
  },
  {
   "cell_type": "markdown",
   "id": "ee501f31-d109-4f70-8c17-0da91048985a",
   "metadata": {},
   "source": [
    "# Results"
   ]
  },
  {
   "cell_type": "code",
   "execution_count": 55,
   "id": "ce8fa937-5790-4561-85da-1a783442f9b8",
   "metadata": {},
   "outputs": [
    {
     "data": {
      "text/html": [
       "<div>\n",
       "<style scoped>\n",
       "    .dataframe tbody tr th:only-of-type {\n",
       "        vertical-align: middle;\n",
       "    }\n",
       "\n",
       "    .dataframe tbody tr th {\n",
       "        vertical-align: top;\n",
       "    }\n",
       "\n",
       "    .dataframe thead th {\n",
       "        text-align: right;\n",
       "    }\n",
       "</style>\n",
       "<table border=\"1\" class=\"dataframe\">\n",
       "  <thead>\n",
       "    <tr style=\"text-align: right;\">\n",
       "      <th></th>\n",
       "      <th>model</th>\n",
       "      <th>accuracy</th>\n",
       "      <th>precision</th>\n",
       "      <th>recall</th>\n",
       "      <th>f1</th>\n",
       "    </tr>\n",
       "  </thead>\n",
       "  <tbody>\n",
       "    <tr>\n",
       "      <th>0</th>\n",
       "      <td>ocsvm</td>\n",
       "      <td>0.990509</td>\n",
       "      <td>0.999736</td>\n",
       "      <td>0.990032</td>\n",
       "      <td>0.994860</td>\n",
       "    </tr>\n",
       "    <tr>\n",
       "      <th>1</th>\n",
       "      <td>lof</td>\n",
       "      <td>0.927804</td>\n",
       "      <td>0.927839</td>\n",
       "      <td>0.999955</td>\n",
       "      <td>0.962548</td>\n",
       "    </tr>\n",
       "    <tr>\n",
       "      <th>2</th>\n",
       "      <td>if</td>\n",
       "      <td>0.973022</td>\n",
       "      <td>1.000000</td>\n",
       "      <td>0.970923</td>\n",
       "      <td>0.985247</td>\n",
       "    </tr>\n",
       "  </tbody>\n",
       "</table>\n",
       "</div>"
      ],
      "text/plain": [
       "   model  accuracy  precision    recall        f1\n",
       "0  ocsvm  0.990509   0.999736  0.990032  0.994860\n",
       "1    lof  0.927804   0.927839  0.999955  0.962548\n",
       "2     if  0.973022   1.000000  0.970923  0.985247"
      ]
     },
     "execution_count": 55,
     "metadata": {},
     "output_type": "execute_result"
    }
   ],
   "source": [
    "results_df = pd.concat([ocsvm_df, lof_df, if_df], ignore_index=True)\n",
    "results_df.to_csv('results/results_wustl.csv', index=False)\n",
    "\n",
    "results_df"
   ]
  },
  {
   "cell_type": "code",
   "execution_count": null,
   "id": "80dd69d7-df39-41d0-93c0-388cd4298677",
   "metadata": {},
   "outputs": [],
   "source": []
  }
 ],
 "metadata": {
  "kernelspec": {
   "display_name": "Python 3 (ipykernel)",
   "language": "python",
   "name": "python3"
  },
  "language_info": {
   "codemirror_mode": {
    "name": "ipython",
    "version": 3
   },
   "file_extension": ".py",
   "mimetype": "text/x-python",
   "name": "python",
   "nbconvert_exporter": "python",
   "pygments_lexer": "ipython3",
   "version": "3.10.5"
  }
 },
 "nbformat": 4,
 "nbformat_minor": 5
}
