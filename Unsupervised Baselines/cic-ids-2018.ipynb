{
 "cells": [
  {
   "cell_type": "markdown",
   "id": "c96bac89-1a77-4407-a21a-559ffbaf6811",
   "metadata": {},
   "source": [
    "# Imports"
   ]
  },
  {
   "cell_type": "code",
   "execution_count": 1,
   "id": "ed4b10f6-3abc-49ea-a201-3e0211cb9845",
   "metadata": {},
   "outputs": [],
   "source": [
    "import pandas as pd\n",
    "import numpy as np\n",
    "import matplotlib.pyplot as plt\n",
    "\n",
    "from sklearn.model_selection import train_test_split, GridSearchCV\n",
    "from sklearn.metrics import classification_report, accuracy_score, precision_score, recall_score, f1_score, roc_auc_score, confusion_matrix, mean_squared_error\n",
    "\n",
    "from tqdm import tqdm\n",
    "import time\n",
    "import joblib"
   ]
  },
  {
   "cell_type": "code",
   "execution_count": 7,
   "id": "660178fa-0a26-4b84-a436-27a5a78a4fd2",
   "metadata": {},
   "outputs": [],
   "source": [
    "X_train = np.load('/home/jovyan/ssl-ids/dataset/preprocessed/CIC-IDS-2018/214/X_train.npy', allow_pickle=True)\n",
    "y_train = np.load('/home/jovyan/ssl-ids/dataset/preprocessed/CIC-IDS-2018/214/y_train.npy', allow_pickle=True)\n",
    "\n",
    "X_test = np.load('/home/jovyan/ssl-ids/dataset/preprocessed/CIC-IDS-2018/214/X_test.npy', allow_pickle=True)\n",
    "y_test = np.load('/home/jovyan/ssl-ids/dataset/preprocessed/CIC-IDS-2018/214/y_test.npy', allow_pickle=True)\n",
    "\n",
    "#X_val = np.load('data/x_val.npy')\n",
    "#y_val = np.load('data/y_val.npy')"
   ]
  },
  {
   "cell_type": "code",
   "execution_count": 56,
   "id": "ef0cd5aa-73f3-4f87-ba2a-35a0aed50cf3",
   "metadata": {},
   "outputs": [],
   "source": [
    "X_train = np.load('/home/jovyan/ssl-ids/dataset/preprocessed/CIC-IDS-2018/215/X_train.npy', allow_pickle=True)\n",
    "y_train = np.load('/home/jovyan/ssl-ids/dataset/preprocessed/CIC-IDS-2018/215/y_train.npy', allow_pickle=True)\n",
    "\n",
    "X_test = np.load('/home/jovyan/ssl-ids/dataset/preprocessed/CIC-IDS-2018/215/X_test.npy', allow_pickle=True)\n",
    "y_test = np.load('/home/jovyan/ssl-ids/dataset/preprocessed/CIC-IDS-2018/215/y_test.npy', allow_pickle=True)"
   ]
  },
  {
   "cell_type": "code",
   "execution_count": 29,
   "id": "48590b0c-3fbc-455a-9a97-965a85767095",
   "metadata": {},
   "outputs": [],
   "source": [
    "#X_train = np.concatenate((X_train, X_val), axis=0)\n",
    "#y_train = np.concatenate((y_train, y_val), axis=0)"
   ]
  },
  {
   "cell_type": "markdown",
   "id": "40fc21cd-6eab-433c-b413-31022b01b7b4",
   "metadata": {},
   "source": [
    "# Playground"
   ]
  },
  {
   "cell_type": "code",
   "execution_count": 57,
   "id": "430eb414-c717-409d-9f41-9d13e19fdbe6",
   "metadata": {},
   "outputs": [
    {
     "data": {
      "text/plain": [
       "(array(['Benign', 'DoS attacks-GoldenEye', 'DoS attacks-Slowloris'],\n",
       "       dtype=object),\n",
       " array([691545,  29141,   7697]))"
      ]
     },
     "execution_count": 57,
     "metadata": {},
     "output_type": "execute_result"
    }
   ],
   "source": [
    "np.unique(y_train, return_counts=True)"
   ]
  },
  {
   "cell_type": "code",
   "execution_count": 58,
   "id": "2eba9a16-f5a5-47fe-8c32-71a45655fd42",
   "metadata": {},
   "outputs": [],
   "source": [
    "normal_data = X_train[y_train == 'Benign'] # normal class"
   ]
  },
  {
   "cell_type": "markdown",
   "id": "4d4823bc-9931-47cd-9a67-24a55fa3aaab",
   "metadata": {},
   "source": [
    "# Helpers"
   ]
  },
  {
   "cell_type": "code",
   "execution_count": 59,
   "id": "915b12be-c246-44fc-9cab-14f9704f8f53",
   "metadata": {},
   "outputs": [],
   "source": [
    "def evaluate_model(model, y_test, y_pred):\n",
    "    positive_class = 'normal'\n",
    "    \n",
    "    accuracy = accuracy_score(y_test, y_pred)\n",
    "    \n",
    "    precision = precision_score(y_test, y_pred, pos_label=positive_class, zero_division=True)\n",
    "    recall = recall_score(y_test, y_pred, pos_label=positive_class, zero_division=True)\n",
    "    f1 = f1_score(y_test, y_pred, pos_label=positive_class, zero_division=True)\n",
    "    \n",
    "    metrics = {\n",
    "        'model': [model],\n",
    "        'accuracy': [accuracy],\n",
    "        'precision': [precision],\n",
    "        'recall': [recall],\n",
    "        'f1': [f1],\n",
    "    }\n",
    "    \n",
    "    return metrics"
   ]
  },
  {
   "cell_type": "markdown",
   "id": "1e4cc678-8e9b-453b-bade-c016e3301910",
   "metadata": {
    "tags": []
   },
   "source": [
    "# OCSVM"
   ]
  },
  {
   "cell_type": "code",
   "execution_count": 60,
   "id": "a2535744-38f4-4d53-8104-5877528a9c19",
   "metadata": {},
   "outputs": [],
   "source": [
    "from sklearn.svm import OneClassSVM"
   ]
  },
  {
   "cell_type": "code",
   "execution_count": 61,
   "id": "772cbdf1-b9c0-4fc6-9dc5-6dce553d4c4e",
   "metadata": {},
   "outputs": [
    {
     "name": "stderr",
     "output_type": "stream",
     "text": [
      "Training OCSVM: 100%|██████████| 6916/6916 [03:42<00:00, 31.13it/s]\n"
     ]
    }
   ],
   "source": [
    "ocsvm = OneClassSVM(kernel='rbf', gamma='auto')\n",
    "\n",
    "batch_size = 100\n",
    "n_batches = int(np.ceil(len(normal_data) / batch_size))\n",
    "\n",
    "for i in tqdm(range(n_batches), desc=\"Training OCSVM\"):\n",
    "    start = i * batch_size\n",
    "    end = min((i + 1) * batch_size, len(normal_data))\n",
    "    batch_data = normal_data[start:end]\n",
    "    \n",
    "    if i == 0:\n",
    "        ocsvm.fit(batch_data)\n",
    "    else:\n",
    "        ocsvm.fit(np.vstack((ocsvm.support_vectors_, batch_data)))"
   ]
  },
  {
   "cell_type": "code",
   "execution_count": null,
   "id": "c0df8315-1fbc-43e8-abfe-c7e2105694e4",
   "metadata": {},
   "outputs": [],
   "source": [
    "ocsvm = OneClassSVM(kernel='linear', gamma='auto')\n",
    "\n",
    "start_time = time.time()\n",
    "\n",
    "ocsvm.fit(normal_data)\n",
    "\n",
    "training_time = time.time() - start_time\n",
    "print(f\"Training Time: {training_time}\")"
   ]
  },
  {
   "cell_type": "code",
   "execution_count": 62,
   "id": "349bd5b6-4f97-483c-942f-d744c52f4484",
   "metadata": {},
   "outputs": [],
   "source": [
    "y_pred_test_ocsvm = ocsvm.predict(X_test)\n",
    "y_pred_test_ocsvm = np.where(y_pred_test_ocsvm == 1, 'normal', 'anomaly')\n",
    "y_test_converted_ocsvm = np.where(y_test == 'Benign', 'normal', 'anomaly')"
   ]
  },
  {
   "cell_type": "code",
   "execution_count": 63,
   "id": "7d273b15-8733-499b-a31b-73e5f1a7f3e1",
   "metadata": {},
   "outputs": [
    {
     "data": {
      "text/plain": [
       "{'model': ['ocsvm'],\n",
       " 'accuracy': [0.9561823608241368],\n",
       " 'precision': [0.9576264784598117],\n",
       " 'recall': [0.9980093235636482],\n",
       " 'f1': [0.9774009588139565]}"
      ]
     },
     "execution_count": 63,
     "metadata": {},
     "output_type": "execute_result"
    }
   ],
   "source": [
    "evaluate_model(\"ocsvm\", y_test_converted_ocsvm, y_pred_test_ocsvm)"
   ]
  },
  {
   "cell_type": "code",
   "execution_count": 64,
   "id": "49e5119a-8c58-4bb4-9d49-142f9c1744f8",
   "metadata": {},
   "outputs": [
    {
     "data": {
      "text/html": [
       "<div>\n",
       "<style scoped>\n",
       "    .dataframe tbody tr th:only-of-type {\n",
       "        vertical-align: middle;\n",
       "    }\n",
       "\n",
       "    .dataframe tbody tr th {\n",
       "        vertical-align: top;\n",
       "    }\n",
       "\n",
       "    .dataframe thead th {\n",
       "        text-align: right;\n",
       "    }\n",
       "</style>\n",
       "<table border=\"1\" class=\"dataframe\">\n",
       "  <thead>\n",
       "    <tr style=\"text-align: right;\">\n",
       "      <th></th>\n",
       "      <th>model</th>\n",
       "      <th>accuracy</th>\n",
       "      <th>precision</th>\n",
       "      <th>recall</th>\n",
       "      <th>f1</th>\n",
       "    </tr>\n",
       "  </thead>\n",
       "  <tbody>\n",
       "    <tr>\n",
       "      <th>0</th>\n",
       "      <td>ocsvm</td>\n",
       "      <td>0.956182</td>\n",
       "      <td>0.957626</td>\n",
       "      <td>0.998009</td>\n",
       "      <td>0.977401</td>\n",
       "    </tr>\n",
       "  </tbody>\n",
       "</table>\n",
       "</div>"
      ],
      "text/plain": [
       "   model  accuracy  precision    recall        f1\n",
       "0  ocsvm  0.956182   0.957626  0.998009  0.977401"
      ]
     },
     "execution_count": 64,
     "metadata": {},
     "output_type": "execute_result"
    }
   ],
   "source": [
    "ocsvm_df = pd.DataFrame(evaluate_model(\"ocsvm\", y_test_converted_ocsvm, y_pred_test_ocsvm)) \n",
    "ocsvm_df"
   ]
  },
  {
   "cell_type": "markdown",
   "id": "bbc83c4b-02ef-4e9e-902c-df6eb42b18e3",
   "metadata": {},
   "source": [
    "# SGDOCSVM"
   ]
  },
  {
   "cell_type": "code",
   "execution_count": 65,
   "id": "820daff0-f9f3-4d5c-9606-8c2f9dcd59e0",
   "metadata": {},
   "outputs": [],
   "source": [
    "from sklearn.linear_model import SGDOneClassSVM"
   ]
  },
  {
   "cell_type": "code",
   "execution_count": 66,
   "id": "97266af6-6fa3-42c9-9dec-340e4857083b",
   "metadata": {},
   "outputs": [
    {
     "name": "stdout",
     "output_type": "stream",
     "text": [
      "Training Time: 1.5478932857513428\n"
     ]
    }
   ],
   "source": [
    "sgdocsvm = SGDOneClassSVM()\n",
    "\n",
    "start_time = time.time()\n",
    "\n",
    "sgdocsvm.fit(normal_data)\n",
    "\n",
    "training_time = time.time() - start_time\n",
    "print(f\"Training Time: {training_time}\")"
   ]
  },
  {
   "cell_type": "code",
   "execution_count": 67,
   "id": "b979ec00-2a1c-436a-816e-1593d63cdedf",
   "metadata": {},
   "outputs": [],
   "source": [
    "y_pred_test_sgdocsvm = sgdocsvm.predict(X_test)\n",
    "y_pred_test_sgdocsvm = np.where(y_pred_test_sgdocsvm == 1, 'normal', 'anomaly')\n",
    "y_test_converted_sgdocsvm = np.where(y_test == 'Benign', 'normal', 'anomaly')"
   ]
  },
  {
   "cell_type": "code",
   "execution_count": 68,
   "id": "59f36a61-a20c-4e43-954f-2f6daeffe34d",
   "metadata": {},
   "outputs": [
    {
     "data": {
      "text/plain": [
       "{'model': ['sgdocsvm'],\n",
       " 'accuracy': [0.6474727574626666],\n",
       " 'precision': [1.0],\n",
       " 'recall': [0.6286994809620479],\n",
       " 'f1': [0.772026378482892]}"
      ]
     },
     "execution_count": 68,
     "metadata": {},
     "output_type": "execute_result"
    }
   ],
   "source": [
    "evaluate_model(\"sgdocsvm\", y_test_converted_sgdocsvm, y_pred_test_sgdocsvm)"
   ]
  },
  {
   "cell_type": "code",
   "execution_count": 69,
   "id": "6f94f95c-d19e-44cb-a52b-f4dae54a8604",
   "metadata": {},
   "outputs": [
    {
     "data": {
      "text/html": [
       "<div>\n",
       "<style scoped>\n",
       "    .dataframe tbody tr th:only-of-type {\n",
       "        vertical-align: middle;\n",
       "    }\n",
       "\n",
       "    .dataframe tbody tr th {\n",
       "        vertical-align: top;\n",
       "    }\n",
       "\n",
       "    .dataframe thead th {\n",
       "        text-align: right;\n",
       "    }\n",
       "</style>\n",
       "<table border=\"1\" class=\"dataframe\">\n",
       "  <thead>\n",
       "    <tr style=\"text-align: right;\">\n",
       "      <th></th>\n",
       "      <th>model</th>\n",
       "      <th>accuracy</th>\n",
       "      <th>precision</th>\n",
       "      <th>recall</th>\n",
       "      <th>f1</th>\n",
       "    </tr>\n",
       "  </thead>\n",
       "  <tbody>\n",
       "    <tr>\n",
       "      <th>0</th>\n",
       "      <td>sgdocsvm</td>\n",
       "      <td>0.647473</td>\n",
       "      <td>1.0</td>\n",
       "      <td>0.628699</td>\n",
       "      <td>0.772026</td>\n",
       "    </tr>\n",
       "  </tbody>\n",
       "</table>\n",
       "</div>"
      ],
      "text/plain": [
       "      model  accuracy  precision    recall        f1\n",
       "0  sgdocsvm  0.647473        1.0  0.628699  0.772026"
      ]
     },
     "execution_count": 69,
     "metadata": {},
     "output_type": "execute_result"
    }
   ],
   "source": [
    "sgdocsvm_df = pd.DataFrame(evaluate_model(\"sgdocsvm\", y_test_converted_sgdocsvm, y_pred_test_sgdocsvm)) \n",
    "sgdocsvm_df"
   ]
  },
  {
   "cell_type": "markdown",
   "id": "a14dfdf7-2aa8-4dfd-90fa-4a9975bba0b5",
   "metadata": {},
   "source": [
    "# LOF"
   ]
  },
  {
   "cell_type": "code",
   "execution_count": 70,
   "id": "9c5573c6-f618-4aba-8268-f8f9c0f9a696",
   "metadata": {},
   "outputs": [],
   "source": [
    "from sklearn.neighbors import LocalOutlierFactor"
   ]
  },
  {
   "cell_type": "code",
   "execution_count": 71,
   "id": "1a849c5f-762e-4e31-ac95-48b08489ef53",
   "metadata": {},
   "outputs": [
    {
     "name": "stdout",
     "output_type": "stream",
     "text": [
      "Training Time: 131.53099656105042\n"
     ]
    }
   ],
   "source": [
    "start_time = time.time()\n",
    "\n",
    "lof = LocalOutlierFactor(n_neighbors=50, contamination=0.001, novelty=True)\n",
    "lof.fit(normal_data)\n",
    "\n",
    "training_time = time.time() - start_time\n",
    "print(f\"Training Time: {training_time}\")"
   ]
  },
  {
   "cell_type": "code",
   "execution_count": 72,
   "id": "68177a04-a84c-4686-a2c5-f3f5bc68c421",
   "metadata": {},
   "outputs": [],
   "source": [
    "y_pred_test_lof = lof.predict(X_test)\n",
    "y_pred_test_lof = np.where(y_pred_test_lof == 1, 'normal', 'anomaly')\n",
    "y_test_converted_lof = np.where(y_test == 'Benign', 'normal', 'anomaly')"
   ]
  },
  {
   "cell_type": "code",
   "execution_count": 73,
   "id": "46c434b9-b615-48da-b5a9-db47ca573a55",
   "metadata": {},
   "outputs": [
    {
     "data": {
      "text/plain": [
       "{'model': ['lof'],\n",
       " 'accuracy': [0.9486009001649769],\n",
       " 'precision': [0.9493967147941136],\n",
       " 'recall': [0.9991171293770982],\n",
       " 'f1': [0.9736225617925808]}"
      ]
     },
     "execution_count": 73,
     "metadata": {},
     "output_type": "execute_result"
    }
   ],
   "source": [
    "evaluate_model(\"lof\", y_test_converted_lof, y_pred_test_lof)"
   ]
  },
  {
   "cell_type": "code",
   "execution_count": 74,
   "id": "8a98cd1d-d58a-4ee3-82a8-00bf7587cfda",
   "metadata": {},
   "outputs": [
    {
     "data": {
      "text/html": [
       "<div>\n",
       "<style scoped>\n",
       "    .dataframe tbody tr th:only-of-type {\n",
       "        vertical-align: middle;\n",
       "    }\n",
       "\n",
       "    .dataframe tbody tr th {\n",
       "        vertical-align: top;\n",
       "    }\n",
       "\n",
       "    .dataframe thead th {\n",
       "        text-align: right;\n",
       "    }\n",
       "</style>\n",
       "<table border=\"1\" class=\"dataframe\">\n",
       "  <thead>\n",
       "    <tr style=\"text-align: right;\">\n",
       "      <th></th>\n",
       "      <th>model</th>\n",
       "      <th>accuracy</th>\n",
       "      <th>precision</th>\n",
       "      <th>recall</th>\n",
       "      <th>f1</th>\n",
       "    </tr>\n",
       "  </thead>\n",
       "  <tbody>\n",
       "    <tr>\n",
       "      <th>0</th>\n",
       "      <td>lof</td>\n",
       "      <td>0.948601</td>\n",
       "      <td>0.949397</td>\n",
       "      <td>0.999117</td>\n",
       "      <td>0.973623</td>\n",
       "    </tr>\n",
       "  </tbody>\n",
       "</table>\n",
       "</div>"
      ],
      "text/plain": [
       "  model  accuracy  precision    recall        f1\n",
       "0   lof  0.948601   0.949397  0.999117  0.973623"
      ]
     },
     "execution_count": 74,
     "metadata": {},
     "output_type": "execute_result"
    }
   ],
   "source": [
    "lof_df = pd.DataFrame(evaluate_model(\"lof\", y_test_converted_lof, y_pred_test_lof)) \n",
    "lof_df"
   ]
  },
  {
   "cell_type": "markdown",
   "id": "4ea7340e-6c41-43ff-8c37-cf190444e88c",
   "metadata": {
    "tags": []
   },
   "source": [
    "# IF"
   ]
  },
  {
   "cell_type": "code",
   "execution_count": 75,
   "id": "7bf0d08f-86a8-4522-ac27-5c861e0c810f",
   "metadata": {},
   "outputs": [],
   "source": [
    "from sklearn.ensemble import IsolationForest"
   ]
  },
  {
   "cell_type": "code",
   "execution_count": 76,
   "id": "ac29cbaf-eb51-4652-8f2b-aacc142f2ec0",
   "metadata": {},
   "outputs": [
    {
     "name": "stdout",
     "output_type": "stream",
     "text": [
      "Training Time: 134.4211220741272\n"
     ]
    }
   ],
   "source": [
    "start_time = time.time()\n",
    "\n",
    "iforest = IsolationForest(n_estimators=200, max_samples=128, contamination=0.001, random_state=21)\n",
    "iforest.fit(normal_data)\n",
    "\n",
    "training_time = time.time() - start_time\n",
    "print(f\"Training Time: {training_time}\")"
   ]
  },
  {
   "cell_type": "code",
   "execution_count": 77,
   "id": "dad3d3fa-45fe-412b-acc3-1df7e5813843",
   "metadata": {},
   "outputs": [],
   "source": [
    "y_pred_test_if = iforest.predict(X_test)\n",
    "y_pred_test_if = np.where(y_pred_test_if == 1, 'normal', 'anomaly')\n",
    "y_test_converted_if = np.where(y_test == \"Benign\", 'normal', 'anomaly')"
   ]
  },
  {
   "cell_type": "code",
   "execution_count": 78,
   "id": "71e9f1d0-abd9-4d5a-9550-e3d162d11485",
   "metadata": {},
   "outputs": [
    {
     "data": {
      "text/plain": [
       "{'model': ['if'],\n",
       " 'accuracy': [0.9486222563921858],\n",
       " 'precision': [0.9493977963728853],\n",
       " 'recall': [0.9991396228961531],\n",
       " 'f1': [0.9736338105349681]}"
      ]
     },
     "execution_count": 78,
     "metadata": {},
     "output_type": "execute_result"
    }
   ],
   "source": [
    "evaluate_model(\"if\", y_test_converted_if, y_pred_test_if)"
   ]
  },
  {
   "cell_type": "code",
   "execution_count": 79,
   "id": "45e29fd4-eda0-46e3-8c4d-0d088082ee8c",
   "metadata": {},
   "outputs": [
    {
     "data": {
      "text/html": [
       "<div>\n",
       "<style scoped>\n",
       "    .dataframe tbody tr th:only-of-type {\n",
       "        vertical-align: middle;\n",
       "    }\n",
       "\n",
       "    .dataframe tbody tr th {\n",
       "        vertical-align: top;\n",
       "    }\n",
       "\n",
       "    .dataframe thead th {\n",
       "        text-align: right;\n",
       "    }\n",
       "</style>\n",
       "<table border=\"1\" class=\"dataframe\">\n",
       "  <thead>\n",
       "    <tr style=\"text-align: right;\">\n",
       "      <th></th>\n",
       "      <th>model</th>\n",
       "      <th>accuracy</th>\n",
       "      <th>precision</th>\n",
       "      <th>recall</th>\n",
       "      <th>f1</th>\n",
       "    </tr>\n",
       "  </thead>\n",
       "  <tbody>\n",
       "    <tr>\n",
       "      <th>0</th>\n",
       "      <td>if</td>\n",
       "      <td>0.948622</td>\n",
       "      <td>0.949398</td>\n",
       "      <td>0.99914</td>\n",
       "      <td>0.973634</td>\n",
       "    </tr>\n",
       "  </tbody>\n",
       "</table>\n",
       "</div>"
      ],
      "text/plain": [
       "  model  accuracy  precision   recall        f1\n",
       "0    if  0.948622   0.949398  0.99914  0.973634"
      ]
     },
     "execution_count": 79,
     "metadata": {},
     "output_type": "execute_result"
    }
   ],
   "source": [
    "if_df = pd.DataFrame(evaluate_model(\"if\", y_test_converted_if, y_pred_test_if)) \n",
    "if_df"
   ]
  },
  {
   "cell_type": "markdown",
   "id": "f96dab5e-85ee-4878-86ce-dcc50ae67188",
   "metadata": {},
   "source": [
    "# PCA Reconstruction"
   ]
  },
  {
   "cell_type": "code",
   "execution_count": 80,
   "id": "08d4a4ca-8117-475b-82ec-5108ca921b89",
   "metadata": {},
   "outputs": [],
   "source": [
    "from sklearn.decomposition import PCA"
   ]
  },
  {
   "cell_type": "code",
   "execution_count": 81,
   "id": "1516dd83-40ed-4b04-996e-e989cf028b21",
   "metadata": {},
   "outputs": [
    {
     "name": "stdout",
     "output_type": "stream",
     "text": [
      "Training Time: 1.8851401805877686\n"
     ]
    }
   ],
   "source": [
    "start_time = time.time()\n",
    "\n",
    "pca = PCA(n_components=10)\n",
    "pca.fit(normal_data)\n",
    "\n",
    "training_time = time.time() - start_time\n",
    "print(f\"Training Time: {training_time}\")"
   ]
  },
  {
   "cell_type": "code",
   "execution_count": 82,
   "id": "72055a32-82ab-4c22-885b-033ae068ded7",
   "metadata": {},
   "outputs": [],
   "source": [
    "normal_data_pca = pca.transform(normal_data)\n",
    "normal_data_reconstructed = pca.inverse_transform(normal_data_pca)\n",
    "\n",
    "train_reconstruction_error = np.mean((normal_data - normal_data_reconstructed) ** 2, axis=1)"
   ]
  },
  {
   "cell_type": "code",
   "execution_count": 83,
   "id": "c3728c2b-a3e9-45b6-be1a-8939c8fc5e4b",
   "metadata": {},
   "outputs": [],
   "source": [
    "threshold = np.percentile(train_reconstruction_error, 95)"
   ]
  },
  {
   "cell_type": "code",
   "execution_count": 84,
   "id": "e6c23803-5bae-48f6-a597-55ffe6474cd7",
   "metadata": {},
   "outputs": [],
   "source": [
    "X_test_pca = pca.transform(X_test)\n",
    "X_test_reconstructed = pca.inverse_transform(X_test_pca)\n",
    "\n",
    "test_reconstruction_error = np.mean((X_test - X_test_reconstructed) ** 2, axis=1)"
   ]
  },
  {
   "cell_type": "code",
   "execution_count": 85,
   "id": "27a0f31b-6134-4038-9ac9-d89f150f0cb5",
   "metadata": {},
   "outputs": [
    {
     "data": {
      "text/plain": [
       "array([0.04170892, 0.43751703, 0.06272378, ..., 0.10418225, 0.00406046,\n",
       "       0.04805483])"
      ]
     },
     "execution_count": 85,
     "metadata": {},
     "output_type": "execute_result"
    }
   ],
   "source": [
    "test_reconstruction_error"
   ]
  },
  {
   "cell_type": "code",
   "execution_count": 86,
   "id": "17d9ee7f-ec5e-415d-8ff9-ddc9a94188ae",
   "metadata": {},
   "outputs": [],
   "source": [
    "y_pred_test_pca = (test_reconstruction_error > threshold).astype(int)\n",
    "y_pred_test_pca = np.where(y_pred_test_pca == 1, 'normal', 'anomaly')\n",
    "y_test_converted_pca = np.where(y_test == \"Benign\", 'normal', 'anomaly')"
   ]
  },
  {
   "cell_type": "code",
   "execution_count": 87,
   "id": "4eb83350-a55a-41d5-846e-9fe95fa19557",
   "metadata": {},
   "outputs": [
    {
     "data": {
      "text/plain": [
       "{'model': ['pca'],\n",
       " 'accuracy': [0.08872978499618257],\n",
       " 'precision': [0.8334110624008955],\n",
       " 'recall': [0.05024489818870938],\n",
       " 'f1': [0.09477592150623176]}"
      ]
     },
     "execution_count": 87,
     "metadata": {},
     "output_type": "execute_result"
    }
   ],
   "source": [
    "evaluate_model(\"pca\", y_test_converted_pca, y_pred_test_pca)"
   ]
  },
  {
   "cell_type": "code",
   "execution_count": 88,
   "id": "46898548-6f62-4094-b23e-613c447071b2",
   "metadata": {},
   "outputs": [
    {
     "data": {
      "text/html": [
       "<div>\n",
       "<style scoped>\n",
       "    .dataframe tbody tr th:only-of-type {\n",
       "        vertical-align: middle;\n",
       "    }\n",
       "\n",
       "    .dataframe tbody tr th {\n",
       "        vertical-align: top;\n",
       "    }\n",
       "\n",
       "    .dataframe thead th {\n",
       "        text-align: right;\n",
       "    }\n",
       "</style>\n",
       "<table border=\"1\" class=\"dataframe\">\n",
       "  <thead>\n",
       "    <tr style=\"text-align: right;\">\n",
       "      <th></th>\n",
       "      <th>model</th>\n",
       "      <th>accuracy</th>\n",
       "      <th>precision</th>\n",
       "      <th>recall</th>\n",
       "      <th>f1</th>\n",
       "    </tr>\n",
       "  </thead>\n",
       "  <tbody>\n",
       "    <tr>\n",
       "      <th>0</th>\n",
       "      <td>pca</td>\n",
       "      <td>0.08873</td>\n",
       "      <td>0.833411</td>\n",
       "      <td>0.050245</td>\n",
       "      <td>0.094776</td>\n",
       "    </tr>\n",
       "  </tbody>\n",
       "</table>\n",
       "</div>"
      ],
      "text/plain": [
       "  model  accuracy  precision    recall        f1\n",
       "0   pca   0.08873   0.833411  0.050245  0.094776"
      ]
     },
     "execution_count": 88,
     "metadata": {},
     "output_type": "execute_result"
    }
   ],
   "source": [
    "pca_df = pd.DataFrame(evaluate_model(\"pca\", y_test_converted_pca, y_pred_test_pca)) \n",
    "pca_df"
   ]
  },
  {
   "cell_type": "markdown",
   "id": "ee501f31-d109-4f70-8c17-0da91048985a",
   "metadata": {},
   "source": [
    "# Results"
   ]
  },
  {
   "cell_type": "code",
   "execution_count": 54,
   "id": "ce8fa937-5790-4561-85da-1a783442f9b8",
   "metadata": {},
   "outputs": [
    {
     "data": {
      "text/html": [
       "<div>\n",
       "<style scoped>\n",
       "    .dataframe tbody tr th:only-of-type {\n",
       "        vertical-align: middle;\n",
       "    }\n",
       "\n",
       "    .dataframe tbody tr th {\n",
       "        vertical-align: top;\n",
       "    }\n",
       "\n",
       "    .dataframe thead th {\n",
       "        text-align: right;\n",
       "    }\n",
       "</style>\n",
       "<table border=\"1\" class=\"dataframe\">\n",
       "  <thead>\n",
       "    <tr style=\"text-align: right;\">\n",
       "      <th></th>\n",
       "      <th>model</th>\n",
       "      <th>accuracy</th>\n",
       "      <th>precision</th>\n",
       "      <th>recall</th>\n",
       "      <th>f1</th>\n",
       "    </tr>\n",
       "  </thead>\n",
       "  <tbody>\n",
       "    <tr>\n",
       "      <th>0</th>\n",
       "      <td>ocsvm</td>\n",
       "      <td>0.694825</td>\n",
       "      <td>0.675729</td>\n",
       "      <td>0.998056</td>\n",
       "      <td>0.805856</td>\n",
       "    </tr>\n",
       "    <tr>\n",
       "      <th>1</th>\n",
       "      <td>sgdocsvm</td>\n",
       "      <td>0.696223</td>\n",
       "      <td>1.000000</td>\n",
       "      <td>0.521309</td>\n",
       "      <td>0.685343</td>\n",
       "    </tr>\n",
       "    <tr>\n",
       "      <th>2</th>\n",
       "      <td>lof</td>\n",
       "      <td>0.723614</td>\n",
       "      <td>0.696872</td>\n",
       "      <td>0.999036</td>\n",
       "      <td>0.821035</td>\n",
       "    </tr>\n",
       "    <tr>\n",
       "      <th>3</th>\n",
       "      <td>if</td>\n",
       "      <td>0.633981</td>\n",
       "      <td>0.634373</td>\n",
       "      <td>0.999028</td>\n",
       "      <td>0.775996</td>\n",
       "    </tr>\n",
       "    <tr>\n",
       "      <th>4</th>\n",
       "      <td>pca</td>\n",
       "      <td>0.335480</td>\n",
       "      <td>0.339127</td>\n",
       "      <td>0.049698</td>\n",
       "      <td>0.086692</td>\n",
       "    </tr>\n",
       "  </tbody>\n",
       "</table>\n",
       "</div>"
      ],
      "text/plain": [
       "      model  accuracy  precision    recall        f1\n",
       "0     ocsvm  0.694825   0.675729  0.998056  0.805856\n",
       "1  sgdocsvm  0.696223   1.000000  0.521309  0.685343\n",
       "2       lof  0.723614   0.696872  0.999036  0.821035\n",
       "3        if  0.633981   0.634373  0.999028  0.775996\n",
       "4       pca  0.335480   0.339127  0.049698  0.086692"
      ]
     },
     "execution_count": 54,
     "metadata": {},
     "output_type": "execute_result"
    }
   ],
   "source": [
    "results_df = pd.concat([ocsvm_df, sgdocsvm_df, lof_df, if_df, pca_df], ignore_index=True)\n",
    "results_df.to_csv('/home/jovyan/ssl-ids/result/CIC-IDS-2018/results_cic_ids_2018_214.csv', index=False)\n",
    "\n",
    "results_df"
   ]
  },
  {
   "cell_type": "code",
   "execution_count": 89,
   "id": "6e67a845-d7ae-4d56-9cbe-4f1b35e4a2c7",
   "metadata": {},
   "outputs": [
    {
     "data": {
      "text/html": [
       "<div>\n",
       "<style scoped>\n",
       "    .dataframe tbody tr th:only-of-type {\n",
       "        vertical-align: middle;\n",
       "    }\n",
       "\n",
       "    .dataframe tbody tr th {\n",
       "        vertical-align: top;\n",
       "    }\n",
       "\n",
       "    .dataframe thead th {\n",
       "        text-align: right;\n",
       "    }\n",
       "</style>\n",
       "<table border=\"1\" class=\"dataframe\">\n",
       "  <thead>\n",
       "    <tr style=\"text-align: right;\">\n",
       "      <th></th>\n",
       "      <th>model</th>\n",
       "      <th>accuracy</th>\n",
       "      <th>precision</th>\n",
       "      <th>recall</th>\n",
       "      <th>f1</th>\n",
       "    </tr>\n",
       "  </thead>\n",
       "  <tbody>\n",
       "    <tr>\n",
       "      <th>0</th>\n",
       "      <td>ocsvm</td>\n",
       "      <td>0.956182</td>\n",
       "      <td>0.957626</td>\n",
       "      <td>0.998009</td>\n",
       "      <td>0.977401</td>\n",
       "    </tr>\n",
       "    <tr>\n",
       "      <th>1</th>\n",
       "      <td>sgdocsvm</td>\n",
       "      <td>0.647473</td>\n",
       "      <td>1.000000</td>\n",
       "      <td>0.628699</td>\n",
       "      <td>0.772026</td>\n",
       "    </tr>\n",
       "    <tr>\n",
       "      <th>2</th>\n",
       "      <td>lof</td>\n",
       "      <td>0.948601</td>\n",
       "      <td>0.949397</td>\n",
       "      <td>0.999117</td>\n",
       "      <td>0.973623</td>\n",
       "    </tr>\n",
       "    <tr>\n",
       "      <th>3</th>\n",
       "      <td>if</td>\n",
       "      <td>0.948622</td>\n",
       "      <td>0.949398</td>\n",
       "      <td>0.999140</td>\n",
       "      <td>0.973634</td>\n",
       "    </tr>\n",
       "    <tr>\n",
       "      <th>4</th>\n",
       "      <td>pca</td>\n",
       "      <td>0.088730</td>\n",
       "      <td>0.833411</td>\n",
       "      <td>0.050245</td>\n",
       "      <td>0.094776</td>\n",
       "    </tr>\n",
       "  </tbody>\n",
       "</table>\n",
       "</div>"
      ],
      "text/plain": [
       "      model  accuracy  precision    recall        f1\n",
       "0     ocsvm  0.956182   0.957626  0.998009  0.977401\n",
       "1  sgdocsvm  0.647473   1.000000  0.628699  0.772026\n",
       "2       lof  0.948601   0.949397  0.999117  0.973623\n",
       "3        if  0.948622   0.949398  0.999140  0.973634\n",
       "4       pca  0.088730   0.833411  0.050245  0.094776"
      ]
     },
     "execution_count": 89,
     "metadata": {},
     "output_type": "execute_result"
    }
   ],
   "source": [
    "results_df = pd.concat([ocsvm_df, sgdocsvm_df, lof_df, if_df, pca_df], ignore_index=True)\n",
    "results_df.to_csv('/home/jovyan/ssl-ids/result/CIC-IDS-2018/results_cic_ids_2018_215.csv', index=False)\n",
    "\n",
    "results_df"
   ]
  },
  {
   "cell_type": "code",
   "execution_count": 55,
   "id": "ec157cda-fbde-4d13-be41-980e14e35d84",
   "metadata": {},
   "outputs": [
    {
     "data": {
      "text/plain": [
       "['/home/jovyan/ssl-ids/model/CIC-IDS-2018/214/pca.pkl']"
      ]
     },
     "execution_count": 55,
     "metadata": {},
     "output_type": "execute_result"
    }
   ],
   "source": [
    "joblib.dump(ocsvm, '/home/jovyan/ssl-ids/model/CIC-IDS-2018/214/ocsvm.pkl')\n",
    "joblib.dump(sgdocsvm, '/home/jovyan/ssl-ids/model/CIC-IDS-2018/214/sgdocsvm.pkl')\n",
    "joblib.dump(lof, '/home/jovyan/ssl-ids/model/CIC-IDS-2018/214/lof.pkl')\n",
    "joblib.dump(iforest, '/home/jovyan/ssl-ids/model/CIC-IDS-2018/214/iforest.pkl')\n",
    "joblib.dump(pca, '/home/jovyan/ssl-ids/model/CIC-IDS-2018/214/pca.pkl')"
   ]
  },
  {
   "cell_type": "code",
   "execution_count": 90,
   "id": "c3ce9cbe-6414-415d-a5e2-2164378c63c0",
   "metadata": {},
   "outputs": [
    {
     "data": {
      "text/plain": [
       "['/home/jovyan/ssl-ids/model/CIC-IDS-2018/215/pca.pkl']"
      ]
     },
     "execution_count": 90,
     "metadata": {},
     "output_type": "execute_result"
    }
   ],
   "source": [
    "joblib.dump(ocsvm, '/home/jovyan/ssl-ids/model/CIC-IDS-2018/215/ocsvm.pkl')\n",
    "joblib.dump(sgdocsvm, '/home/jovyan/ssl-ids/model/CIC-IDS-2018/214/sgdocsvm.pkl')\n",
    "joblib.dump(lof, '/home/jovyan/ssl-ids/model/CIC-IDS-2018/215/lof.pkl')\n",
    "joblib.dump(iforest, '/home/jovyan/ssl-ids/model/CIC-IDS-2018/215/iforest.pkl')\n",
    "joblib.dump(pca, '/home/jovyan/ssl-ids/model/CIC-IDS-2018/215/pca.pkl')"
   ]
  },
  {
   "cell_type": "code",
   "execution_count": null,
   "id": "80506435-d0a8-4a93-ba86-d8e892dd8745",
   "metadata": {},
   "outputs": [],
   "source": []
  }
 ],
 "metadata": {
  "kernelspec": {
   "display_name": "Python 3 (ipykernel)",
   "language": "python",
   "name": "python3"
  },
  "language_info": {
   "codemirror_mode": {
    "name": "ipython",
    "version": 3
   },
   "file_extension": ".py",
   "mimetype": "text/x-python",
   "name": "python",
   "nbconvert_exporter": "python",
   "pygments_lexer": "ipython3",
   "version": "3.11.5"
  }
 },
 "nbformat": 4,
 "nbformat_minor": 5
}
