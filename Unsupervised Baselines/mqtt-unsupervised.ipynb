{
 "cells": [
  {
   "cell_type": "markdown",
   "id": "c96bac89-1a77-4407-a21a-559ffbaf6811",
   "metadata": {},
   "source": [
    "# Imports"
   ]
  },
  {
   "cell_type": "code",
   "execution_count": 1,
   "id": "ed4b10f6-3abc-49ea-a201-3e0211cb9845",
   "metadata": {},
   "outputs": [],
   "source": [
    "import pandas as pd\n",
    "import numpy as np\n",
    "import matplotlib.pyplot as plt\n",
    "\n",
    "from sklearn.model_selection import train_test_split, GridSearchCV\n",
    "from sklearn.metrics import classification_report, accuracy_score, precision_score, recall_score, f1_score, roc_auc_score, confusion_matrix\n",
    "\n",
    "from tqdm import tqdm\n",
    "from time import time"
   ]
  },
  {
   "cell_type": "code",
   "execution_count": 2,
   "id": "33a8188e-c21d-4e24-93f4-c2290a301403",
   "metadata": {},
   "outputs": [],
   "source": [
    "X_train = np.load('data/x_train.npy')\n",
    "y_train = np.load('data/y_train.npy')\n",
    "\n",
    "X_test = np.load('data/x_test.npy')\n",
    "y_test = np.load('data/y_test.npy')\n",
    "\n",
    "#X_val = np.load('data/x_val.npy')\n",
    "#y_val = np.load('data/y_val.npy')"
   ]
  },
  {
   "cell_type": "code",
   "execution_count": 3,
   "id": "48590b0c-3fbc-455a-9a97-965a85767095",
   "metadata": {},
   "outputs": [],
   "source": [
    "#X_train = np.concatenate((X_train, X_val), axis=0)\n",
    "#y_train = np.concatenate((y_train, y_val), axis=0)"
   ]
  },
  {
   "cell_type": "markdown",
   "id": "40fc21cd-6eab-433c-b413-31022b01b7b4",
   "metadata": {},
   "source": [
    "# Playground"
   ]
  },
  {
   "cell_type": "code",
   "execution_count": 4,
   "id": "430eb414-c717-409d-9f41-9d13e19fdbe6",
   "metadata": {},
   "outputs": [
    {
     "data": {
      "text/plain": [
       "(array([0, 1, 2, 3, 4, 5], dtype=int8),\n",
       " array([ 10150,  91156,    429, 115824,   7646,   6441]))"
      ]
     },
     "execution_count": 4,
     "metadata": {},
     "output_type": "execute_result"
    }
   ],
   "source": [
    "np.unique(y_train, return_counts=True)"
   ]
  },
  {
   "cell_type": "markdown",
   "id": "89a689b7-b407-4d1d-883c-932e4210e5d6",
   "metadata": {},
   "source": [
    "3 is normal class"
   ]
  },
  {
   "cell_type": "code",
   "execution_count": 5,
   "id": "2eba9a16-f5a5-47fe-8c32-71a45655fd42",
   "metadata": {},
   "outputs": [],
   "source": [
    "normal_data = X_train[y_train == 3] # normal class"
   ]
  },
  {
   "cell_type": "markdown",
   "id": "4d4823bc-9931-47cd-9a67-24a55fa3aaab",
   "metadata": {},
   "source": [
    "# Helpers"
   ]
  },
  {
   "cell_type": "code",
   "execution_count": 6,
   "id": "915b12be-c246-44fc-9cab-14f9704f8f53",
   "metadata": {},
   "outputs": [],
   "source": [
    "def evaluate_model(model, y_test, y_pred):\n",
    "    positive_class = 'normal'\n",
    "    \n",
    "    accuracy = accuracy_score(y_test, y_pred)\n",
    "    \n",
    "    precision = precision_score(y_test, y_pred, pos_label=positive_class)\n",
    "    recall = recall_score(y_test, y_pred, pos_label=positive_class)\n",
    "    f1 = f1_score(y_test, y_pred, pos_label=positive_class)\n",
    "    \n",
    "    metrics = {\n",
    "        'model': [model],\n",
    "        'accuracy': [accuracy],\n",
    "        'precision': [precision],\n",
    "        'recall': [recall],\n",
    "        'f1': [f1],\n",
    "    }\n",
    "    \n",
    "    return metrics"
   ]
  },
  {
   "cell_type": "markdown",
   "id": "35ea6dc2-a74b-484b-8d67-de04e606a2b2",
   "metadata": {},
   "source": [
    "# SGD-OCSVM"
   ]
  },
  {
   "cell_type": "code",
   "execution_count": 7,
   "id": "f1f18203-7a0a-4d7d-8586-d3ea899fd978",
   "metadata": {},
   "outputs": [],
   "source": [
    "from sklearn.linear_model import SGDOneClassSVM"
   ]
  },
  {
   "cell_type": "code",
   "execution_count": 55,
   "id": "92abe58a-743e-4986-be7f-7a6fd2b9fc53",
   "metadata": {},
   "outputs": [
    {
     "name": "stdout",
     "output_type": "stream",
     "text": [
      "seconds: 0.7971386909484863\n"
     ]
    }
   ],
   "source": [
    "sgd_ocsvm_start = time()\n",
    "\n",
    "sgd_ocsvm = SGDOneClassSVM(nu=0.05, max_iter=1000, tol=0.001, learning_rate='adaptive', eta0=0.05, random_state=42)\n",
    "sgd_ocsvm.fit(normal_data)\n",
    "        \n",
    "print(f\"seconds: {time() - sgd_ocsvm_start}\")"
   ]
  },
  {
   "cell_type": "code",
   "execution_count": 56,
   "id": "ab4b0cae-88b5-4e4d-bbce-47ef02758b82",
   "metadata": {},
   "outputs": [],
   "source": [
    "y_pred_test_sgd_ocsvm = sgd_ocsvm.predict(X_test)\n",
    "y_pred_test_sgd_ocsvm = np.where(y_pred_test_sgd_ocsvm == 1, 'normal', 'anomaly')\n",
    "y_test_converted_sgd_ocsvm = np.where(y_test == 3, 'normal', 'anomaly')"
   ]
  },
  {
   "cell_type": "code",
   "execution_count": 57,
   "id": "2ac93c06-6c19-43bd-afc6-f00a53d9a833",
   "metadata": {},
   "outputs": [
    {
     "data": {
      "text/html": [
       "<div>\n",
       "<style scoped>\n",
       "    .dataframe tbody tr th:only-of-type {\n",
       "        vertical-align: middle;\n",
       "    }\n",
       "\n",
       "    .dataframe tbody tr th {\n",
       "        vertical-align: top;\n",
       "    }\n",
       "\n",
       "    .dataframe thead th {\n",
       "        text-align: right;\n",
       "    }\n",
       "</style>\n",
       "<table border=\"1\" class=\"dataframe\">\n",
       "  <thead>\n",
       "    <tr style=\"text-align: right;\">\n",
       "      <th></th>\n",
       "      <th>model</th>\n",
       "      <th>accuracy</th>\n",
       "      <th>precision</th>\n",
       "      <th>recall</th>\n",
       "      <th>f1</th>\n",
       "    </tr>\n",
       "  </thead>\n",
       "  <tbody>\n",
       "    <tr>\n",
       "      <th>0</th>\n",
       "      <td>sgd_ocsvm</td>\n",
       "      <td>0.856864</td>\n",
       "      <td>0.778326</td>\n",
       "      <td>0.997905</td>\n",
       "      <td>0.874543</td>\n",
       "    </tr>\n",
       "  </tbody>\n",
       "</table>\n",
       "</div>"
      ],
      "text/plain": [
       "       model  accuracy  precision    recall        f1\n",
       "0  sgd_ocsvm  0.856864   0.778326  0.997905  0.874543"
      ]
     },
     "execution_count": 57,
     "metadata": {},
     "output_type": "execute_result"
    }
   ],
   "source": [
    "sgd_ocsvm_df = pd.DataFrame(evaluate_model(\"sgd_ocsvm\", y_test_converted_sgd_ocsvm, y_pred_test_sgd_ocsvm))\n",
    "sgd_ocsvm_df"
   ]
  },
  {
   "cell_type": "markdown",
   "id": "8e334538-d183-45d3-b3bc-923d1524b730",
   "metadata": {},
   "source": [
    "# PCA Reconstruction"
   ]
  },
  {
   "cell_type": "code",
   "execution_count": 12,
   "id": "eceb3579-9ef3-430c-b890-d9c1c394216c",
   "metadata": {},
   "outputs": [],
   "source": [
    "from sklearn.decomposition import PCA"
   ]
  },
  {
   "cell_type": "code",
   "execution_count": 76,
   "id": "a39a12a9-1a65-47e1-9c34-a501c008b34e",
   "metadata": {},
   "outputs": [
    {
     "name": "stdout",
     "output_type": "stream",
     "text": [
      "seconds: 1.5816032886505127\n"
     ]
    }
   ],
   "source": [
    "pca_start = time()\n",
    "\n",
    "pca = PCA(n_components=3, whiten=True, svd_solver='auto')\n",
    "\n",
    "normal_data_pca = pca.fit_transform(normal_data)\n",
    "normal_data_reconstructed = pca.inverse_transform(normal_data_pca)\n",
    "\n",
    "reconstruction_error = np.mean((normal_data - normal_data_reconstructed) ** 2, axis=1)\n",
    "\n",
    "threshold = np.percentile(reconstruction_error, 95)\n",
    "\n",
    "X_test_pca = pca.transform(X_test)\n",
    "X_test_reconstructed = pca.inverse_transform(X_test_pca)\n",
    "X_test_reconstruction_error = np.mean((X_test - X_test_reconstructed) ** 2, axis=1)\n",
    "\n",
    "print(f\"seconds: {time() - pca_start}\")"
   ]
  },
  {
   "cell_type": "code",
   "execution_count": 77,
   "id": "40e4d791-fa67-42f2-adc8-cf417a358281",
   "metadata": {},
   "outputs": [],
   "source": [
    "y_pred_test_pca = np.where(X_test_reconstruction_error > threshold, 'anomaly', 'normal')\n",
    "y_test_converted_pca = np.where(y_test == 3, 'normal', 'anomaly')"
   ]
  },
  {
   "cell_type": "code",
   "execution_count": 78,
   "id": "41a6fc0c-9854-48c5-a33f-66511bfd866c",
   "metadata": {},
   "outputs": [
    {
     "data": {
      "text/html": [
       "<div>\n",
       "<style scoped>\n",
       "    .dataframe tbody tr th:only-of-type {\n",
       "        vertical-align: middle;\n",
       "    }\n",
       "\n",
       "    .dataframe tbody tr th {\n",
       "        vertical-align: top;\n",
       "    }\n",
       "\n",
       "    .dataframe thead th {\n",
       "        text-align: right;\n",
       "    }\n",
       "</style>\n",
       "<table border=\"1\" class=\"dataframe\">\n",
       "  <thead>\n",
       "    <tr style=\"text-align: right;\">\n",
       "      <th></th>\n",
       "      <th>model</th>\n",
       "      <th>accuracy</th>\n",
       "      <th>precision</th>\n",
       "      <th>recall</th>\n",
       "      <th>f1</th>\n",
       "    </tr>\n",
       "  </thead>\n",
       "  <tbody>\n",
       "    <tr>\n",
       "      <th>0</th>\n",
       "      <td>PCA Reconstruction</td>\n",
       "      <td>0.825582</td>\n",
       "      <td>0.744312</td>\n",
       "      <td>0.991841</td>\n",
       "      <td>0.850431</td>\n",
       "    </tr>\n",
       "  </tbody>\n",
       "</table>\n",
       "</div>"
      ],
      "text/plain": [
       "                model  accuracy  precision    recall        f1\n",
       "0  PCA Reconstruction  0.825582   0.744312  0.991841  0.850431"
      ]
     },
     "execution_count": 78,
     "metadata": {},
     "output_type": "execute_result"
    }
   ],
   "source": [
    "pca_df = pd.DataFrame(evaluate_model('PCA Reconstruction', y_test_converted_pca, y_pred_test_pca))\n",
    "pca_df"
   ]
  },
  {
   "cell_type": "markdown",
   "id": "2da7cac9-39ac-4b00-9002-80a18ff5cec3",
   "metadata": {},
   "source": [
    "# Results (2)"
   ]
  },
  {
   "cell_type": "code",
   "execution_count": 79,
   "id": "fc64819d-3dd1-4535-b029-2521ebab14ed",
   "metadata": {},
   "outputs": [
    {
     "data": {
      "text/html": [
       "<div>\n",
       "<style scoped>\n",
       "    .dataframe tbody tr th:only-of-type {\n",
       "        vertical-align: middle;\n",
       "    }\n",
       "\n",
       "    .dataframe tbody tr th {\n",
       "        vertical-align: top;\n",
       "    }\n",
       "\n",
       "    .dataframe thead th {\n",
       "        text-align: right;\n",
       "    }\n",
       "</style>\n",
       "<table border=\"1\" class=\"dataframe\">\n",
       "  <thead>\n",
       "    <tr style=\"text-align: right;\">\n",
       "      <th></th>\n",
       "      <th>model</th>\n",
       "      <th>accuracy</th>\n",
       "      <th>precision</th>\n",
       "      <th>recall</th>\n",
       "      <th>f1</th>\n",
       "    </tr>\n",
       "  </thead>\n",
       "  <tbody>\n",
       "    <tr>\n",
       "      <th>0</th>\n",
       "      <td>sgd_ocsvm</td>\n",
       "      <td>0.856864</td>\n",
       "      <td>0.778326</td>\n",
       "      <td>0.997905</td>\n",
       "      <td>0.874543</td>\n",
       "    </tr>\n",
       "    <tr>\n",
       "      <th>1</th>\n",
       "      <td>PCA Reconstruction</td>\n",
       "      <td>0.825582</td>\n",
       "      <td>0.744312</td>\n",
       "      <td>0.991841</td>\n",
       "      <td>0.850431</td>\n",
       "    </tr>\n",
       "  </tbody>\n",
       "</table>\n",
       "</div>"
      ],
      "text/plain": [
       "                model  accuracy  precision    recall        f1\n",
       "0           sgd_ocsvm  0.856864   0.778326  0.997905  0.874543\n",
       "1  PCA Reconstruction  0.825582   0.744312  0.991841  0.850431"
      ]
     },
     "execution_count": 79,
     "metadata": {},
     "output_type": "execute_result"
    }
   ],
   "source": [
    "results_df = pd.concat([sgd_ocsvm_df, pca_df], ignore_index=True)\n",
    "results_df.to_csv('results/results_mqtt_2.csv', index=False)\n",
    "\n",
    "results_df"
   ]
  },
  {
   "cell_type": "markdown",
   "id": "1e4cc678-8e9b-453b-bade-c016e3301910",
   "metadata": {
    "tags": []
   },
   "source": [
    "# OCSVM"
   ]
  },
  {
   "cell_type": "code",
   "execution_count": 52,
   "id": "a2535744-38f4-4d53-8104-5877528a9c19",
   "metadata": {},
   "outputs": [],
   "source": [
    "from sklearn.svm import OneClassSVM"
   ]
  },
  {
   "cell_type": "code",
   "execution_count": 87,
   "id": "15ee9fbd-0c6e-4c78-8564-3dcb0f1ab4cb",
   "metadata": {},
   "outputs": [
    {
     "name": "stderr",
     "output_type": "stream",
     "text": [
      "Training OCSVM: 100%|██████████| 1/1 [00:24<00:00, 24.83s/it]\n"
     ]
    }
   ],
   "source": [
    "ocsvm = OneClassSVM(kernel='rbf', gamma=0.05, nu=0.1)\n",
    "\n",
    "batch_size = 50000\n",
    "n_batches = 1# int(np.ceil(len(normal_data) / batch_size))\n",
    "\n",
    "for i in tqdm(range(n_batches), desc=\"Training OCSVM\"):\n",
    "    start = i * batch_size\n",
    "    end = min((i + 1) * batch_size, len(normal_data))\n",
    "    batch_data = normal_data[start:end]\n",
    "    \n",
    "    if i == 0:\n",
    "        ocsvm.fit(batch_data)\n",
    "    else:\n",
    "        ocsvm.fit(np.vstack((ocsvm.support_vectors_, batch_data)))"
   ]
  },
  {
   "cell_type": "code",
   "execution_count": 88,
   "id": "6861f788-17ea-4901-a2fd-be7cef67d37f",
   "metadata": {},
   "outputs": [],
   "source": [
    "y_pred_test_ocsvm = ocsvm.predict(X_test)\n",
    "y_pred_test_ocsvm = np.where(y_pred_test_ocsvm == 1, 'normal', 'anomaly')\n",
    "y_test_converted_ocsvm = np.where(y_test == 3, 'normal', 'anomaly')"
   ]
  },
  {
   "cell_type": "code",
   "execution_count": 89,
   "id": "7d273b15-8733-499b-a31b-73e5f1a7f3e1",
   "metadata": {},
   "outputs": [
    {
     "data": {
      "text/plain": [
       "{'model': ['ocsvm'],\n",
       " 'accuracy': [0.840678819619297],\n",
       " 'precision': [0.7873406966864911],\n",
       " 'recall': [0.9334394327041238],\n",
       " 'f1': [0.854187982191743]}"
      ]
     },
     "execution_count": 89,
     "metadata": {},
     "output_type": "execute_result"
    }
   ],
   "source": [
    "evaluate_model(\"ocsvm\", y_test_converted_ocsvm, y_pred_test_ocsvm)"
   ]
  },
  {
   "cell_type": "code",
   "execution_count": 83,
   "id": "49e5119a-8c58-4bb4-9d49-142f9c1744f8",
   "metadata": {},
   "outputs": [
    {
     "data": {
      "text/html": [
       "<div>\n",
       "<style scoped>\n",
       "    .dataframe tbody tr th:only-of-type {\n",
       "        vertical-align: middle;\n",
       "    }\n",
       "\n",
       "    .dataframe tbody tr th {\n",
       "        vertical-align: top;\n",
       "    }\n",
       "\n",
       "    .dataframe thead th {\n",
       "        text-align: right;\n",
       "    }\n",
       "</style>\n",
       "<table border=\"1\" class=\"dataframe\">\n",
       "  <thead>\n",
       "    <tr style=\"text-align: right;\">\n",
       "      <th></th>\n",
       "      <th>model</th>\n",
       "      <th>accuracy</th>\n",
       "      <th>precision</th>\n",
       "      <th>recall</th>\n",
       "      <th>f1</th>\n",
       "    </tr>\n",
       "  </thead>\n",
       "  <tbody>\n",
       "    <tr>\n",
       "      <th>0</th>\n",
       "      <td>ocsvm</td>\n",
       "      <td>0.840679</td>\n",
       "      <td>0.787341</td>\n",
       "      <td>0.933439</td>\n",
       "      <td>0.854188</td>\n",
       "    </tr>\n",
       "  </tbody>\n",
       "</table>\n",
       "</div>"
      ],
      "text/plain": [
       "   model  accuracy  precision    recall        f1\n",
       "0  ocsvm  0.840679   0.787341  0.933439  0.854188"
      ]
     },
     "execution_count": 83,
     "metadata": {},
     "output_type": "execute_result"
    }
   ],
   "source": [
    "ocsvm_df = pd.DataFrame(evaluate_model(\"ocsvm\", y_test_converted_ocsvm, y_pred_test_ocsvm))\n",
    "ocsvm_df"
   ]
  },
  {
   "cell_type": "markdown",
   "id": "a14dfdf7-2aa8-4dfd-90fa-4a9975bba0b5",
   "metadata": {},
   "source": [
    "# LOF"
   ]
  },
  {
   "cell_type": "code",
   "execution_count": 90,
   "id": "9c5573c6-f618-4aba-8268-f8f9c0f9a696",
   "metadata": {},
   "outputs": [],
   "source": [
    "from sklearn.neighbors import LocalOutlierFactor"
   ]
  },
  {
   "cell_type": "code",
   "execution_count": 115,
   "id": "1a849c5f-762e-4e31-ac95-48b08489ef53",
   "metadata": {},
   "outputs": [
    {
     "name": "stdout",
     "output_type": "stream",
     "text": [
      "seconds: 31.28235673904419\n"
     ]
    }
   ],
   "source": [
    "lof_start = time()\n",
    "\n",
    "lof = LocalOutlierFactor(n_neighbors=200, contamination=0.5, novelty=True, leaf_size=40)\n",
    "lof.fit(X_train)\n",
    "\n",
    "print(f\"seconds: {time() - lof_start}\")"
   ]
  },
  {
   "cell_type": "code",
   "execution_count": 116,
   "id": "68177a04-a84c-4686-a2c5-f3f5bc68c421",
   "metadata": {},
   "outputs": [],
   "source": [
    "y_pred_test_lof = lof.predict(X_test)\n",
    "y_pred_test_lof = np.where(y_pred_test_lof == 1, 'normal', 'anomaly')\n",
    "y_test_converted_lof = np.where(y_test == 3, 'normal', 'anomaly')"
   ]
  },
  {
   "cell_type": "code",
   "execution_count": 117,
   "id": "8a98cd1d-d58a-4ee3-82a8-00bf7587cfda",
   "metadata": {},
   "outputs": [
    {
     "data": {
      "text/html": [
       "<div>\n",
       "<style scoped>\n",
       "    .dataframe tbody tr th:only-of-type {\n",
       "        vertical-align: middle;\n",
       "    }\n",
       "\n",
       "    .dataframe tbody tr th {\n",
       "        vertical-align: top;\n",
       "    }\n",
       "\n",
       "    .dataframe thead th {\n",
       "        text-align: right;\n",
       "    }\n",
       "</style>\n",
       "<table border=\"1\" class=\"dataframe\">\n",
       "  <thead>\n",
       "    <tr style=\"text-align: right;\">\n",
       "      <th></th>\n",
       "      <th>model</th>\n",
       "      <th>accuracy</th>\n",
       "      <th>precision</th>\n",
       "      <th>recall</th>\n",
       "      <th>f1</th>\n",
       "    </tr>\n",
       "  </thead>\n",
       "  <tbody>\n",
       "    <tr>\n",
       "      <th>0</th>\n",
       "      <td>lof</td>\n",
       "      <td>0.538443</td>\n",
       "      <td>0.557351</td>\n",
       "      <td>0.373053</td>\n",
       "      <td>0.446949</td>\n",
       "    </tr>\n",
       "  </tbody>\n",
       "</table>\n",
       "</div>"
      ],
      "text/plain": [
       "  model  accuracy  precision    recall        f1\n",
       "0   lof  0.538443   0.557351  0.373053  0.446949"
      ]
     },
     "execution_count": 117,
     "metadata": {},
     "output_type": "execute_result"
    }
   ],
   "source": [
    "lof_df = pd.DataFrame(evaluate_model(\"lof\", y_test_converted_lof, y_pred_test_lof)) \n",
    "lof_df"
   ]
  },
  {
   "cell_type": "markdown",
   "id": "4ea7340e-6c41-43ff-8c37-cf190444e88c",
   "metadata": {
    "tags": []
   },
   "source": [
    "# IF"
   ]
  },
  {
   "cell_type": "code",
   "execution_count": 118,
   "id": "7bf0d08f-86a8-4522-ac27-5c861e0c810f",
   "metadata": {},
   "outputs": [],
   "source": [
    "from sklearn.ensemble import IsolationForest"
   ]
  },
  {
   "cell_type": "code",
   "execution_count": 155,
   "id": "ac29cbaf-eb51-4652-8f2b-aacc142f2ec0",
   "metadata": {},
   "outputs": [
    {
     "name": "stdout",
     "output_type": "stream",
     "text": [
      "seconds: 5.823337554931641\n"
     ]
    }
   ],
   "source": [
    "if_start = time()\n",
    "\n",
    "iforest = IsolationForest(n_estimators=100, max_samples=256, contamination=0.3, random_state=42)\n",
    "iforest.fit(X_train)\n",
    "\n",
    "print(f\"seconds: {time() - if_start}\")"
   ]
  },
  {
   "cell_type": "code",
   "execution_count": 156,
   "id": "dad3d3fa-45fe-412b-acc3-1df7e5813843",
   "metadata": {},
   "outputs": [],
   "source": [
    "y_pred_test_if = iforest.predict(X_test)\n",
    "y_pred_test_if = np.where(y_pred_test_if == 1, 'normal', 'anomaly')\n",
    "y_test_converted_if = np.where(y_test == 3, 'normal', 'anomaly')"
   ]
  },
  {
   "cell_type": "code",
   "execution_count": 157,
   "id": "69233a29-cfac-491a-9414-8c3d831d3b5a",
   "metadata": {},
   "outputs": [
    {
     "data": {
      "text/plain": [
       "{'model': ['if'],\n",
       " 'accuracy': [0.7519689797562695],\n",
       " 'precision': [0.6732420900980772],\n",
       " 'recall': [0.9790688772940631],\n",
       " 'f1': [0.797852692752838]}"
      ]
     },
     "execution_count": 157,
     "metadata": {},
     "output_type": "execute_result"
    }
   ],
   "source": [
    "evaluate_model(\"if\", y_test_converted_if, y_pred_test_if)"
   ]
  },
  {
   "cell_type": "code",
   "execution_count": 158,
   "id": "45e29fd4-eda0-46e3-8c4d-0d088082ee8c",
   "metadata": {},
   "outputs": [
    {
     "data": {
      "text/html": [
       "<div>\n",
       "<style scoped>\n",
       "    .dataframe tbody tr th:only-of-type {\n",
       "        vertical-align: middle;\n",
       "    }\n",
       "\n",
       "    .dataframe tbody tr th {\n",
       "        vertical-align: top;\n",
       "    }\n",
       "\n",
       "    .dataframe thead th {\n",
       "        text-align: right;\n",
       "    }\n",
       "</style>\n",
       "<table border=\"1\" class=\"dataframe\">\n",
       "  <thead>\n",
       "    <tr style=\"text-align: right;\">\n",
       "      <th></th>\n",
       "      <th>model</th>\n",
       "      <th>accuracy</th>\n",
       "      <th>precision</th>\n",
       "      <th>recall</th>\n",
       "      <th>f1</th>\n",
       "    </tr>\n",
       "  </thead>\n",
       "  <tbody>\n",
       "    <tr>\n",
       "      <th>0</th>\n",
       "      <td>if</td>\n",
       "      <td>0.751969</td>\n",
       "      <td>0.673242</td>\n",
       "      <td>0.979069</td>\n",
       "      <td>0.797853</td>\n",
       "    </tr>\n",
       "  </tbody>\n",
       "</table>\n",
       "</div>"
      ],
      "text/plain": [
       "  model  accuracy  precision    recall        f1\n",
       "0    if  0.751969   0.673242  0.979069  0.797853"
      ]
     },
     "execution_count": 158,
     "metadata": {},
     "output_type": "execute_result"
    }
   ],
   "source": [
    "if_df = pd.DataFrame(evaluate_model(\"if\", y_test_converted_if, y_pred_test_if)) \n",
    "if_df"
   ]
  },
  {
   "cell_type": "markdown",
   "id": "ee501f31-d109-4f70-8c17-0da91048985a",
   "metadata": {},
   "source": [
    "# Results"
   ]
  },
  {
   "cell_type": "code",
   "execution_count": 160,
   "id": "ce8fa937-5790-4561-85da-1a783442f9b8",
   "metadata": {},
   "outputs": [
    {
     "data": {
      "text/html": [
       "<div>\n",
       "<style scoped>\n",
       "    .dataframe tbody tr th:only-of-type {\n",
       "        vertical-align: middle;\n",
       "    }\n",
       "\n",
       "    .dataframe tbody tr th {\n",
       "        vertical-align: top;\n",
       "    }\n",
       "\n",
       "    .dataframe thead th {\n",
       "        text-align: right;\n",
       "    }\n",
       "</style>\n",
       "<table border=\"1\" class=\"dataframe\">\n",
       "  <thead>\n",
       "    <tr style=\"text-align: right;\">\n",
       "      <th></th>\n",
       "      <th>model</th>\n",
       "      <th>accuracy</th>\n",
       "      <th>precision</th>\n",
       "      <th>recall</th>\n",
       "      <th>f1</th>\n",
       "    </tr>\n",
       "  </thead>\n",
       "  <tbody>\n",
       "    <tr>\n",
       "      <th>0</th>\n",
       "      <td>ocsvm</td>\n",
       "      <td>0.840679</td>\n",
       "      <td>0.787341</td>\n",
       "      <td>0.933439</td>\n",
       "      <td>0.854188</td>\n",
       "    </tr>\n",
       "    <tr>\n",
       "      <th>1</th>\n",
       "      <td>lof</td>\n",
       "      <td>0.538443</td>\n",
       "      <td>0.557351</td>\n",
       "      <td>0.373053</td>\n",
       "      <td>0.446949</td>\n",
       "    </tr>\n",
       "    <tr>\n",
       "      <th>2</th>\n",
       "      <td>if</td>\n",
       "      <td>0.751969</td>\n",
       "      <td>0.673242</td>\n",
       "      <td>0.979069</td>\n",
       "      <td>0.797853</td>\n",
       "    </tr>\n",
       "  </tbody>\n",
       "</table>\n",
       "</div>"
      ],
      "text/plain": [
       "   model  accuracy  precision    recall        f1\n",
       "0  ocsvm  0.840679   0.787341  0.933439  0.854188\n",
       "1    lof  0.538443   0.557351  0.373053  0.446949\n",
       "2     if  0.751969   0.673242  0.979069  0.797853"
      ]
     },
     "execution_count": 160,
     "metadata": {},
     "output_type": "execute_result"
    }
   ],
   "source": [
    "results_df = pd.concat([ocsvm_df, lof_df, if_df], ignore_index=True)\n",
    "results_df.to_csv('results/results_mqtt.csv', index=False)\n",
    "\n",
    "results_df"
   ]
  },
  {
   "cell_type": "code",
   "execution_count": null,
   "id": "9eccf8e9-9222-4698-a53f-dbb6828c5b44",
   "metadata": {},
   "outputs": [],
   "source": []
  }
 ],
 "metadata": {
  "kernelspec": {
   "display_name": "Python 3 (ipykernel)",
   "language": "python",
   "name": "python3"
  },
  "language_info": {
   "codemirror_mode": {
    "name": "ipython",
    "version": 3
   },
   "file_extension": ".py",
   "mimetype": "text/x-python",
   "name": "python",
   "nbconvert_exporter": "python",
   "pygments_lexer": "ipython3",
   "version": "3.10.5"
  }
 },
 "nbformat": 4,
 "nbformat_minor": 5
}
